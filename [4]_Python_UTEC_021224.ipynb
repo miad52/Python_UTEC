{
  "nbformat": 4,
  "nbformat_minor": 0,
  "metadata": {
    "colab": {
      "provenance": [],
      "toc_visible": true,
      "include_colab_link": true
    },
    "kernelspec": {
      "name": "python3",
      "display_name": "Python 3"
    },
    "language_info": {
      "name": "python"
    }
  },
  "cells": [
    {
      "cell_type": "markdown",
      "metadata": {
        "id": "view-in-github",
        "colab_type": "text"
      },
      "source": [
        "<a href=\"https://colab.research.google.com/github/miad52/Python_UTEC/blob/main/%5B4%5D_Python_UTEC_021224.ipynb\" target=\"_parent\"><img src=\"https://colab.research.google.com/assets/colab-badge.svg\" alt=\"Open In Colab\"/></a>"
      ]
    },
    {
      "cell_type": "markdown",
      "source": [
        "# Diccionarios"
      ],
      "metadata": {
        "id": "LIRifZ8oVWYD"
      }
    },
    {
      "cell_type": "markdown",
      "source": [
        "## Crear un diccionario"
      ],
      "metadata": {
        "id": "k6NywJVEVanA"
      }
    },
    {
      "cell_type": "code",
      "execution_count": null,
      "metadata": {
        "id": "A4keBXudVOG9"
      },
      "outputs": [],
      "source": [
        "# Diccionario vacío\n",
        "dc_0  = {}"
      ]
    },
    {
      "cell_type": "code",
      "source": [
        "type(dc_0)"
      ],
      "metadata": {
        "colab": {
          "base_uri": "https://localhost:8080/"
        },
        "id": "k1XtCHJ9Voaz",
        "outputId": "2befc517-1b20-48e9-e362-a7a0564421fc"
      },
      "execution_count": null,
      "outputs": [
        {
          "output_type": "execute_result",
          "data": {
            "text/plain": [
              "dict"
            ]
          },
          "metadata": {},
          "execution_count": 4
        }
      ]
    },
    {
      "cell_type": "code",
      "source": [
        "# Diccionarios pueden ser homogéneos\n",
        "# Considerar el concepto => clave:valor\n",
        "# Los valores son del mismo tipo (enteros)\n",
        "# Las claves son caracteres\n",
        "\n",
        "dc_1 = {\"a\":1,\n",
        "        \"b\":2,\n",
        "        \"c\":3\n",
        "        }\n",
        "\n",
        "print(f\"El diccionario es \\n{dc_1}\")"
      ],
      "metadata": {
        "colab": {
          "base_uri": "https://localhost:8080/"
        },
        "id": "YF1FKhXbVw9k",
        "outputId": "d4c84316-9e3f-4a00-a08c-595c9694cd09"
      },
      "execution_count": null,
      "outputs": [
        {
          "output_type": "stream",
          "name": "stdout",
          "text": [
            "El diccionario es \n",
            "{'a': 1, 'b': 2, 'c': 3}\n"
          ]
        }
      ]
    },
    {
      "cell_type": "code",
      "source": [
        "# Diccionarios pueden ser heterogéneos\n",
        "# Considerar el concepto => clave:valor\n",
        "# Los valores NO son del mismo tipo (valor1: diccionario, valor2: lista)\n",
        "# Las claves son caracteres\n",
        "dc_2 = {\"a\":{\"x\":100},\n",
        "        \"b\":[10,20,30]\n",
        "        }\n",
        "print(f\"El diccionario es \\n{dc_2}\")"
      ],
      "metadata": {
        "colab": {
          "base_uri": "https://localhost:8080/"
        },
        "id": "Ci64T0OkWc2K",
        "outputId": "376aa87e-3a01-4995-aa98-f9bdc93c05ca"
      },
      "execution_count": null,
      "outputs": [
        {
          "output_type": "stream",
          "name": "stdout",
          "text": [
            "El diccionario es \n",
            "{'a': {'x': 100}, 'b': [10, 20, 30]}\n"
          ]
        }
      ]
    },
    {
      "cell_type": "code",
      "source": [
        "# Diccionarios con claves repetidas\n",
        "# Las claves de los diccionarios son únicas\n",
        "dc_3 = {\"a\":100,\n",
        "        \"b\":200,\n",
        "        \"a\":300}\n",
        "type(dc_3)"
      ],
      "metadata": {
        "colab": {
          "base_uri": "https://localhost:8080/"
        },
        "id": "dwzog2qpXCr7",
        "outputId": "c9f8b71a-c72d-4260-ff61-81523c5dc58d"
      },
      "execution_count": null,
      "outputs": [
        {
          "output_type": "execute_result",
          "data": {
            "text/plain": [
              "dict"
            ]
          },
          "metadata": {},
          "execution_count": 7
        }
      ]
    },
    {
      "cell_type": "code",
      "source": [
        "print(f\"El diccionario dc_3 es \\n{dc_3}\")"
      ],
      "metadata": {
        "colab": {
          "base_uri": "https://localhost:8080/"
        },
        "id": "-6VfrikSXcTH",
        "outputId": "d2304bc9-d7cf-4b5b-b33b-607051851db7"
      },
      "execution_count": null,
      "outputs": [
        {
          "output_type": "stream",
          "name": "stdout",
          "text": [
            "El diccionario dc_3 es \n",
            "{'a': 300, 'b': 200}\n"
          ]
        }
      ]
    },
    {
      "cell_type": "code",
      "source": [
        "# Diccionario: dict_info\n",
        "# Claves: nombre,apellido,edad,profesion\n",
        "# Valores: su información personal\n",
        "# Los valores son distinto tipo (cadenas, int) => diccionario heterogéneo\n",
        "dict_info = {\"nombre\":\"david\",\n",
        "             \"apellido\":\"allende\",\n",
        "             \"edad\":36,\n",
        "             \"profesion\":\"ingeniero\"\n",
        "             }\n",
        "\n",
        "print(f\"El diccionario con mi info personal es \\n{dict_info}\")"
      ],
      "metadata": {
        "colab": {
          "base_uri": "https://localhost:8080/"
        },
        "id": "8BUx8ML7Xz57",
        "outputId": "691c979b-391c-45fa-92d0-d4a94c082c44"
      },
      "execution_count": null,
      "outputs": [
        {
          "output_type": "stream",
          "name": "stdout",
          "text": [
            "El diccionario con mi info personal es \n",
            "{'nombre': 'david', 'apellido': 'allende', 'edad': 36, 'profesion': 'ingeniero'}\n"
          ]
        }
      ]
    },
    {
      "cell_type": "code",
      "source": [
        "dict_info={\"nombre\":\"Michael\",\n",
        "           \"apellido\":\"Añazco\",\n",
        "           \"edad\":24,\n",
        "           \"profesion\":\"Ingeniero Industrial\"}\n",
        "print(f\"El diccionario de inf personal es \\n {dict_info}\")"
      ],
      "metadata": {
        "colab": {
          "base_uri": "https://localhost:8080/"
        },
        "id": "abk-M10oZtON",
        "outputId": "e0f1d7ab-3491-4101-9f17-ffa61fdec1fc"
      },
      "execution_count": null,
      "outputs": [
        {
          "output_type": "stream",
          "name": "stdout",
          "text": [
            "El diccionario de inf personal es \n",
            " {'nombre': 'Michael', 'apellido': 'Añazco', 'edad': 24, 'profesion': 'Ingeniero Industrial'}\n"
          ]
        }
      ]
    },
    {
      "cell_type": "code",
      "source": [
        "# Diccionario con claves numéricas\n",
        "\n",
        "dc_4 = {1:100,\n",
        "        2:200,\n",
        "        3:300\n",
        "        }\n",
        "type(dc_4)"
      ],
      "metadata": {
        "colab": {
          "base_uri": "https://localhost:8080/"
        },
        "id": "0tDAAoxxZ2T_",
        "outputId": "0e470cfa-beec-42d9-b16f-b09743a3a5e5"
      },
      "execution_count": null,
      "outputs": [
        {
          "output_type": "execute_result",
          "data": {
            "text/plain": [
              "dict"
            ]
          },
          "metadata": {},
          "execution_count": 11
        }
      ]
    },
    {
      "cell_type": "code",
      "source": [
        "# Diccionario con claves cadenas y valores numéricos\n",
        "\n",
        "dc_5 = {\"david\":10,\n",
        "        \"enzo\":20,\n",
        "        \"pedro\":30,\n",
        "        \"maria\":40,\n",
        "        \"andrea\":50\n",
        "        }\n",
        "\n",
        "type(dc_5)"
      ],
      "metadata": {
        "colab": {
          "base_uri": "https://localhost:8080/"
        },
        "id": "aruFcE76aPLl",
        "outputId": "bcd7c9b5-f052-4d11-d733-559ceec09dd6"
      },
      "execution_count": null,
      "outputs": [
        {
          "output_type": "execute_result",
          "data": {
            "text/plain": [
              "dict"
            ]
          },
          "metadata": {},
          "execution_count": 12
        }
      ]
    },
    {
      "cell_type": "code",
      "source": [
        "%whos"
      ],
      "metadata": {
        "colab": {
          "base_uri": "https://localhost:8080/"
        },
        "id": "71iwo2yeamj1",
        "outputId": "2e24417a-fc2c-4e5d-dfa8-cb6d91aaa37b"
      },
      "execution_count": null,
      "outputs": [
        {
          "output_type": "stream",
          "name": "stdout",
          "text": [
            "Variable    Type    Data/Info\n",
            "-----------------------------\n",
            "dc_0        dict    n=0\n",
            "dc_1        dict    n=3\n",
            "dc_2        dict    n=2\n",
            "dc_3        dict    n=2\n",
            "dc_4        dict    n=3\n",
            "dc_5        dict    n=5\n",
            "dict_info   dict    n=4\n"
          ]
        }
      ]
    },
    {
      "cell_type": "markdown",
      "source": [
        "## Acceder a los elementos de un diccionario"
      ],
      "metadata": {
        "id": "6_dWiA99a4oy"
      }
    },
    {
      "cell_type": "code",
      "source": [
        "print(f\"El diccionario con mi info personal es \\n{dict_info}\")"
      ],
      "metadata": {
        "colab": {
          "base_uri": "https://localhost:8080/"
        },
        "id": "BGZExoDTascp",
        "outputId": "cbbf33d0-da75-4d8a-8f12-ecf415f94f03"
      },
      "execution_count": null,
      "outputs": [
        {
          "output_type": "stream",
          "name": "stdout",
          "text": [
            "El diccionario con mi info personal es \n",
            "{'nombre': 'Michael', 'apellido': 'Añazco', 'edad': 24, 'profesion': 'Ingeniero Industrial'}\n"
          ]
        }
      ]
    },
    {
      "cell_type": "code",
      "source": [
        "dict_info[\"edad\"] # A través de la clave accedo al valor (la clave está entre comillas dobles)"
      ],
      "metadata": {
        "colab": {
          "base_uri": "https://localhost:8080/"
        },
        "id": "bKn82Z59bfdz",
        "outputId": "cf927595-da0a-4599-c3cd-e8dc3b1297ec"
      },
      "execution_count": null,
      "outputs": [
        {
          "output_type": "execute_result",
          "data": {
            "text/plain": [
              "24"
            ]
          },
          "metadata": {},
          "execution_count": 15
        }
      ]
    },
    {
      "cell_type": "code",
      "source": [
        "dict_info['edad'] # A través de la clave accedo al valor (la clave está entre comillas simples)"
      ],
      "metadata": {
        "colab": {
          "base_uri": "https://localhost:8080/"
        },
        "id": "ArGCSPqsb1En",
        "outputId": "04d39101-d8ab-4673-bcb5-a6f2e2e3d73f"
      },
      "execution_count": null,
      "outputs": [
        {
          "output_type": "execute_result",
          "data": {
            "text/plain": [
              "24"
            ]
          },
          "metadata": {},
          "execution_count": 16
        }
      ]
    },
    {
      "cell_type": "code",
      "source": [
        "print(f\"La edad de la persona es {dict_info['edad']}\")"
      ],
      "metadata": {
        "colab": {
          "base_uri": "https://localhost:8080/"
        },
        "id": "6CxnpIC9bDW8",
        "outputId": "a3f5b8ba-b0b1-4297-ac89-167dfa02b0a3"
      },
      "execution_count": null,
      "outputs": [
        {
          "output_type": "stream",
          "name": "stdout",
          "text": [
            "La edad de la persona es 24\n"
          ]
        }
      ]
    },
    {
      "cell_type": "code",
      "source": [
        "print(f\"La profesión de la persona es {dict_info['profesion']}\")"
      ],
      "metadata": {
        "colab": {
          "base_uri": "https://localhost:8080/"
        },
        "id": "zYVHEpvxbZED",
        "outputId": "fb0b2756-854b-492c-edbd-34502ceba2ea"
      },
      "execution_count": null,
      "outputs": [
        {
          "output_type": "stream",
          "name": "stdout",
          "text": [
            "La profesión de la persona es Ingeniero Industrial\n"
          ]
        }
      ]
    },
    {
      "cell_type": "code",
      "source": [
        "print(f\"El diccionario es \\n{dc_2}\")"
      ],
      "metadata": {
        "colab": {
          "base_uri": "https://localhost:8080/"
        },
        "id": "lpprzK1XcPvL",
        "outputId": "dd8fd567-1ce7-4367-fa56-9f9d4a9e8eea"
      },
      "execution_count": null,
      "outputs": [
        {
          "output_type": "stream",
          "name": "stdout",
          "text": [
            "El diccionario es \n",
            "{'a': {'x': 100}, 'b': [10, 20, 30]}\n"
          ]
        }
      ]
    },
    {
      "cell_type": "code",
      "source": [
        "print(f\"El primer elemento del diccionario es \\n{dc_2['a']}\")"
      ],
      "metadata": {
        "colab": {
          "base_uri": "https://localhost:8080/"
        },
        "id": "BucuCWHAcpR6",
        "outputId": "307f27b9-c648-4c87-911a-fbb1cd8232e8"
      },
      "execution_count": null,
      "outputs": [
        {
          "output_type": "stream",
          "name": "stdout",
          "text": [
            "El primer elemento del diccionario es \n",
            "{'x': 100}\n"
          ]
        }
      ]
    },
    {
      "cell_type": "code",
      "source": [
        "print(f\"El primer elemento del diccionario es del tipo \\n{type(dc_2['a'])}\")"
      ],
      "metadata": {
        "colab": {
          "base_uri": "https://localhost:8080/"
        },
        "id": "4hUV-47hc7kE",
        "outputId": "f4a67349-b170-4190-d8ff-a1814cf4e9ab"
      },
      "execution_count": null,
      "outputs": [
        {
          "output_type": "stream",
          "name": "stdout",
          "text": [
            "El primer elemento del diccionario es del tipo \n",
            "<class 'dict'>\n"
          ]
        }
      ]
    },
    {
      "cell_type": "code",
      "source": [
        "print(f\"El segundo elemento del diccionario es \\n{dc_2['b']}\")"
      ],
      "metadata": {
        "colab": {
          "base_uri": "https://localhost:8080/"
        },
        "id": "hJVsSDn1dUVI",
        "outputId": "aeca9a27-d2e8-4bce-eef4-bae5817d29f1"
      },
      "execution_count": null,
      "outputs": [
        {
          "output_type": "stream",
          "name": "stdout",
          "text": [
            "El segundo elemento del diccionario es \n",
            "[10, 20, 30]\n"
          ]
        }
      ]
    },
    {
      "cell_type": "code",
      "source": [
        "print(f\"El segundo elemento del diccionario es del tipo \\n{type(dc_2['b'])}\")"
      ],
      "metadata": {
        "colab": {
          "base_uri": "https://localhost:8080/"
        },
        "id": "rvg03ysAcxjW",
        "outputId": "69b4557b-c3b3-4b91-8bb8-78aedac4b697"
      },
      "execution_count": null,
      "outputs": [
        {
          "output_type": "stream",
          "name": "stdout",
          "text": [
            "El segundo elemento del diccionario es del tipo \n",
            "<class 'list'>\n"
          ]
        }
      ]
    },
    {
      "cell_type": "code",
      "source": [
        "print(f\"El segundo elemento del diccionario es una lista, accedo al último elemento de esta lista \\n{dc_2['b'][-1]}\")"
      ],
      "metadata": {
        "colab": {
          "base_uri": "https://localhost:8080/"
        },
        "id": "AHjDdumjc4gw",
        "outputId": "5b5c2d05-dcf2-4a0b-e37b-e33c22c3e221"
      },
      "execution_count": null,
      "outputs": [
        {
          "output_type": "stream",
          "name": "stdout",
          "text": [
            "El segundo elemento del diccionario es una lista, accedo al último elemento de esta lista \n",
            "30\n"
          ]
        }
      ]
    },
    {
      "cell_type": "code",
      "source": [],
      "metadata": {
        "id": "o237nzcLJJiz"
      },
      "execution_count": null,
      "outputs": []
    }
  ]
}