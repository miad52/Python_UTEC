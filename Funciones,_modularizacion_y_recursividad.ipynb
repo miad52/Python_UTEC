{
  "nbformat": 4,
  "nbformat_minor": 0,
  "metadata": {
    "colab": {
      "provenance": [],
      "include_colab_link": true
    },
    "kernelspec": {
      "name": "python3",
      "display_name": "Python 3"
    },
    "language_info": {
      "name": "python"
    }
  },
  "cells": [
    {
      "cell_type": "markdown",
      "metadata": {
        "id": "view-in-github",
        "colab_type": "text"
      },
      "source": [
        "<a href=\"https://colab.research.google.com/github/miad52/Python_UTEC/blob/main/Funciones%2C_modularizacion_y_recursividad.ipynb\" target=\"_parent\"><img src=\"https://colab.research.google.com/assets/colab-badge.svg\" alt=\"Open In Colab\"/></a>"
      ]
    },
    {
      "cell_type": "markdown",
      "source": [
        "# **Funciones, Modularización y Recursividad en Python**"
      ],
      "metadata": {
        "id": "FXWf_uQlI9BV"
      }
    },
    {
      "cell_type": "markdown",
      "source": [
        "# **Funciones:**\n",
        "\n",
        "\n",
        "*   Son bloques de código reutilizables.\n",
        "*   Ayudan a evitar la duplicación de código y hacen el programa más legible.\n",
        "\n",
        "\n"
      ],
      "metadata": {
        "id": "I4HatBxEJBiI"
      }
    },
    {
      "cell_type": "code",
      "source": [
        "def nombre_funcion(parametros):\n",
        "    # cuerpo de la función\n",
        "    return valor"
      ],
      "metadata": {
        "id": "fXeck9PPKcF6"
      },
      "execution_count": null,
      "outputs": []
    },
    {
      "cell_type": "markdown",
      "source": [
        "**Diferencia entre return y print**"
      ],
      "metadata": {
        "id": "xvEstB5TP39U"
      }
    },
    {
      "cell_type": "markdown",
      "source": [
        "En Python, tanto return como print se usan dentro de funciones, pero cumplen propósitos distintos. Aquí te detallo las diferencias y cuándo usar cada uno."
      ],
      "metadata": {
        "id": "KP03Ww6oP5tN"
      }
    },
    {
      "cell_type": "markdown",
      "source": [
        "\n",
        "1.   print: Mostrar resultados en pantalla\n",
        "\n",
        "***¿Qué hace?***\n",
        "\n",
        "print simplemente muestra un valor en la consola. No devuelve ningún valor a quien llama a la función."
      ],
      "metadata": {
        "id": "CVC4KJtsP8kx"
      }
    },
    {
      "cell_type": "code",
      "source": [
        "def saludar_con_print(nombre):\n",
        "    print(f\"Hola, {nombre}\")"
      ],
      "metadata": {
        "id": "wskkOvLLP3WG"
      },
      "execution_count": null,
      "outputs": []
    },
    {
      "cell_type": "code",
      "source": [
        "saludar_con_print(\"Moni\")\n",
        "# Resultado en consola:\n",
        "# Hola, Moni"
      ],
      "metadata": {
        "id": "wME0DpyoQiUH",
        "colab": {
          "base_uri": "https://localhost:8080/"
        },
        "outputId": "d9d588f6-b732-4b59-af4b-534ddddc26d8"
      },
      "execution_count": null,
      "outputs": [
        {
          "output_type": "stream",
          "name": "stdout",
          "text": [
            "Hola, Moni\n"
          ]
        }
      ]
    },
    {
      "cell_type": "markdown",
      "source": [
        "***¿Cuándo usar print?***\n",
        "\n",
        "Cuando quieras mostrar un mensaje o resultado directamente al usuario.\n",
        "Es útil para depurar y entender qué está pasando dentro de una función."
      ],
      "metadata": {
        "id": "_LwV4drwQl5a"
      }
    },
    {
      "cell_type": "markdown",
      "source": [
        "\n",
        "\n",
        "1.   return: Devolver valores al programa"
      ],
      "metadata": {
        "id": "Lv1TpCNPQrbd"
      }
    },
    {
      "cell_type": "markdown",
      "source": [
        "***¿Cuándo usar return?***\n",
        "\n",
        "Cuando necesites que una función proporcione un valor que será utilizado por otras partes del programa.\n",
        "Es esencial para cálculos y funciones que forman parte de un flujo lógico."
      ],
      "metadata": {
        "id": "8ELBVMnuQ_5i"
      }
    },
    {
      "cell_type": "markdown",
      "source": [
        "**Parámetros vs. Argumentos**"
      ],
      "metadata": {
        "id": "5yNr5DTgKAQx"
      }
    },
    {
      "cell_type": "markdown",
      "source": [
        "Parámetros:\n",
        "\n",
        "Son los nombres de variables que aparecen en la definición de una función. Actúan como \"placeholders\" que esperan un valor cuando la función es llamada."
      ],
      "metadata": {
        "id": "AOseIafGKwjv"
      }
    },
    {
      "cell_type": "code",
      "source": [
        "def saludar(nombre):  # 'nombre' es un parámetro\n",
        "    print(f\"Hola, {nombre}\")"
      ],
      "metadata": {
        "id": "qZpirzaxKtYE"
      },
      "execution_count": null,
      "outputs": []
    },
    {
      "cell_type": "markdown",
      "source": [
        "Argumentos:\n",
        "\n",
        "Son los valores reales que pasamos a una función cuando la llamamos."
      ],
      "metadata": {
        "id": "NErFUaIeLEpl"
      }
    },
    {
      "cell_type": "code",
      "source": [
        "saludar(\"Moni\")  # \"Moni\" es un argumento"
      ],
      "metadata": {
        "id": "sKRjvneILH5t"
      },
      "execution_count": null,
      "outputs": []
    },
    {
      "cell_type": "markdown",
      "source": [
        "**Tipos de Argumentos**"
      ],
      "metadata": {
        "id": "o729r6s7LmQ5"
      }
    },
    {
      "cell_type": "markdown",
      "source": [
        "a. Argumentos Posicionales\n",
        "\n",
        "Definición:\n",
        "Son los argumentos que se pasan a una función en el mismo orden en que se definen los parámetros."
      ],
      "metadata": {
        "id": "jCqkIKzxLn-O"
      }
    },
    {
      "cell_type": "code",
      "source": [
        "def sumar(a, b):\n",
        "    return a + b"
      ],
      "metadata": {
        "id": "aub5iOqwMEuc"
      },
      "execution_count": null,
      "outputs": []
    },
    {
      "cell_type": "markdown",
      "source": [
        "Al llamar la función, los valores se asignan en orden:"
      ],
      "metadata": {
        "id": "lQ97cRdxMBi3"
      }
    },
    {
      "cell_type": "code",
      "source": [
        "resultado = sumar(5, 3)  # a = 5, b = 3\n",
        "print(resultado)  # Salida: 8"
      ],
      "metadata": {
        "id": "h5RKutmVMCe-"
      },
      "execution_count": null,
      "outputs": []
    },
    {
      "cell_type": "markdown",
      "source": [
        "Regla clave:\n",
        "*El orden importa. Si se cambia el orden, se alteran los resultados.*"
      ],
      "metadata": {
        "id": "_jw8uerVMiJT"
      }
    },
    {
      "cell_type": "markdown",
      "source": [
        "b. Argumentos por Defecto\n",
        "\n",
        "Definición:\n",
        "Permiten asignar un valor predeterminado a un parámetro, de modo que si no se pasa un argumento para ese parámetro, la función utilizará el valor por defecto."
      ],
      "metadata": {
        "id": "C9Pj4m0LMqu4"
      }
    },
    {
      "cell_type": "code",
      "source": [
        "def saludar(nombre, saludo=\"Hola\"):\n",
        "    return f\"{saludo}, {nombre}\""
      ],
      "metadata": {
        "id": "wKbrkgAxMsr8"
      },
      "execution_count": null,
      "outputs": []
    },
    {
      "cell_type": "markdown",
      "source": [
        "Si se pasa un solo argumento:"
      ],
      "metadata": {
        "id": "O6iMP-7OMy5f"
      }
    },
    {
      "cell_type": "code",
      "source": [
        "print(saludar(\"Moni\"))  # Usa el valor por defecto de 'saludo'\n",
        "# Salida: Hola, Moni"
      ],
      "metadata": {
        "id": "dJZuY86gNCgC"
      },
      "execution_count": null,
      "outputs": []
    },
    {
      "cell_type": "markdown",
      "source": [
        "Si se pasan ambos argumentos:"
      ],
      "metadata": {
        "id": "vwMLkIpQNGmq"
      }
    },
    {
      "cell_type": "code",
      "source": [
        "print(saludar(\"Moni\", \"Buenas noches\"))\n",
        "# Salida: Buenas noches, Moni"
      ],
      "metadata": {
        "id": "StMn5b1JNHYw"
      },
      "execution_count": null,
      "outputs": []
    },
    {
      "cell_type": "markdown",
      "source": [
        "*Ventajas:*\n",
        "\n",
        "\n",
        "*   Simplifica el uso de funciones al reducir la cantidad de argumentos necesarios en cada llamada.\n",
        "*   Útil para funciones con muchos parámetros donde la mayoría tiene valores predecibles o repetidos.\n",
        "\n"
      ],
      "metadata": {
        "id": "7fROrZjUNLtZ"
      }
    },
    {
      "cell_type": "markdown",
      "source": [
        "**Combinación de Argumentos Posicionales y por Defecto**"
      ],
      "metadata": {
        "id": "AqP8-vNqNnYa"
      }
    },
    {
      "cell_type": "markdown",
      "source": [
        "Puedes mezclar argumentos posicionales y por defecto, pero debes respetar el siguiente orden:\n",
        "\n",
        "\n",
        "1.   Primero los posicionales obligatorios.\n",
        "2.   Luego los con valores por defecto."
      ],
      "metadata": {
        "id": "3YDAz3ODNvQ_"
      }
    },
    {
      "cell_type": "code",
      "source": [
        "def presentar(nombre, edad, ciudad=\"Lima\"):\n",
        "    return f\"{nombre}, {edad} años, vive en {ciudad}\""
      ],
      "metadata": {
        "id": "-KNw7hJ_No_l"
      },
      "execution_count": null,
      "outputs": []
    },
    {
      "cell_type": "markdown",
      "source": [
        "\n",
        "*   Llamadas válidas:"
      ],
      "metadata": {
        "id": "aMQQdj7jOfxN"
      }
    },
    {
      "cell_type": "code",
      "source": [
        "print(presentar(\"Moni\", 31))  # Usa valor por defecto para 'ciudad'\n",
        "# Salida: Moni, 31 años, vive en Lima\n",
        "\n",
        "print(presentar(\"Moni\", 31, \"Cusco\"))  # Sobrescribe el valor por defecto\n",
        "# Salida: Moni, 31 años, vive en Cusco"
      ],
      "metadata": {
        "id": "SgmHfubaOk_1"
      },
      "execution_count": null,
      "outputs": []
    },
    {
      "cell_type": "markdown",
      "source": [
        "Ejercicio 1: Crear una función que calcule el precio final de un producto con IGV opcional."
      ],
      "metadata": {
        "id": "p9TGG-3ZOxEA"
      }
    },
    {
      "cell_type": "code",
      "source": [
        "def precio_final(precio, igv=0.18):\n",
        "    return precio * (1 + igv)"
      ],
      "metadata": {
        "id": "AZKAGG_FOx8d"
      },
      "execution_count": null,
      "outputs": []
    },
    {
      "cell_type": "markdown",
      "source": [
        "Llamada 1 (Usa el IGV por defecto):"
      ],
      "metadata": {
        "id": "MOdEt9IaO8J2"
      }
    },
    {
      "cell_type": "code",
      "source": [
        "print(precio_final(100))\n",
        "# Salida: 118.0"
      ],
      "metadata": {
        "id": "q9WB2qiWO5w2"
      },
      "execution_count": null,
      "outputs": []
    },
    {
      "cell_type": "markdown",
      "source": [
        "Llamada 2 (Usa un IGV diferente):"
      ],
      "metadata": {
        "id": "ZHnX4x8PO_5h"
      }
    },
    {
      "cell_type": "code",
      "source": [
        "print(precio_final(100, 0.10))\n",
        "# Salida: 110.0"
      ],
      "metadata": {
        "id": "Csnk51RePC8-"
      },
      "execution_count": null,
      "outputs": []
    },
    {
      "cell_type": "markdown",
      "source": [
        "Conclusión\n",
        "\n",
        "*   **Argumentos posicionales:** Son obligatorios y se asignan según el orden.\n",
        "*   **Argumentos por defecto:** Opcionales y permiten valores predefinidos."
      ],
      "metadata": {
        "id": "KE4gqS3fPJ9H"
      }
    },
    {
      "cell_type": "markdown",
      "source": [
        "**Funciones Complejas**"
      ],
      "metadata": {
        "id": "inD0AydgRzUi"
      }
    },
    {
      "cell_type": "markdown",
      "source": [
        "Ejercicio: Determinar si un número es primo."
      ],
      "metadata": {
        "id": "jBbGsPczR0zp"
      }
    },
    {
      "cell_type": "code",
      "source": [
        "def es_primo(n):\n",
        "    if n < 2:\n",
        "        return False\n",
        "    for i in range(2, int(n ** 0.5) + 1):\n",
        "        if n % i == 0:\n",
        "            return False\n",
        "    return True"
      ],
      "metadata": {
        "id": "rUiu2RTHR7Ho"
      },
      "execution_count": null,
      "outputs": []
    },
    {
      "cell_type": "markdown",
      "source": [
        "***Paso 1: Entender la lógica***\n",
        "\n",
        "Para verificar si un número \"n\" es primo:\n",
        "\n",
        "\n",
        "*   Si n es menor que 2, no es primo.\n",
        "*   Un número n es primo si no tiene divisores aparte de 1 y n. Es decir, no debe ser divisible por ningún número entre 2 y n −1.\n",
        "\n"
      ],
      "metadata": {
        "id": "xSwkkLYCSKVa"
      }
    },
    {
      "cell_type": "markdown",
      "source": [
        "***Paso 2: Implementar la función***\n",
        "\n",
        "Vamos a crear una función que:\n",
        "\n",
        "Use un bucle for para verificar si el número tiene divisores.\n",
        "Use return para devolver False si encuentra un divisor (no es primo) y True si no lo encuentra (es primo)."
      ],
      "metadata": {
        "id": "Xm4EBTCPSxeZ"
      }
    },
    {
      "cell_type": "code",
      "source": [
        "def es_primo(n):\n",
        "    # Paso 1: Verificar si el número es menor que 2\n",
        "    if n < 2:\n",
        "        return False  # Los números menores que 2 no son primos\n",
        "\n",
        "    # Paso 2: Usar un bucle for para verificar divisores\n",
        "    for i in range(2, n):  # Iterar desde 2 hasta n-1\n",
        "        if n % i == 0:  # Si n es divisible por i\n",
        "            return False  # n no es primo, salir de la función\n",
        "\n",
        "    # Paso 3: Si no se encontró ningún divisor, el número es primo\n",
        "    return True"
      ],
      "metadata": {
        "id": "2NQMLXP-S4mG"
      },
      "execution_count": null,
      "outputs": []
    },
    {
      "cell_type": "markdown",
      "source": [
        "\n",
        "Ejemplo de Función Compleja:\n",
        "\n",
        "Gestión de Inventario con Diccionarios\n",
        "Imaginemos que estamos desarrollando un sistema para gestionar el inventario de una tienda. Necesitamos una función que permita:\n",
        "\n",
        "Agregar productos al inventario.\n",
        "\n",
        "*   Actualizar la cantidad o precio de un producto.\n",
        "*   Consultar información de un producto específico.\n",
        "*   Obtener un reporte del inventario completo.\n",
        "\n",
        "\n",
        "\n"
      ],
      "metadata": {
        "id": "2iIM23HFUvWy"
      }
    },
    {
      "cell_type": "code",
      "source": [
        "def gestionar_inventario(operacion, inventario, producto=None, cantidad=None, precio=None):\n",
        "    \"\"\"\n",
        "    Función para gestionar un inventario.\n",
        "\n",
        "    Parámetros:\n",
        "    - operacion (str): Tipo de operación ('agregar', 'actualizar', 'consultar', 'reporte').\n",
        "    - inventario (dict): Diccionario que representa el inventario.\n",
        "    - producto (str): Nombre del producto (opcional, dependiendo de la operación).\n",
        "    - cantidad (int): Cantidad del producto (opcional, para agregar o actualizar).\n",
        "    - precio (float): Precio del producto (opcional, para agregar o actualizar).\n",
        "\n",
        "    Retorna:\n",
        "    - Varios resultados dependiendo de la operación.\n",
        "    \"\"\"\n",
        "\n",
        "    if operacion == 'agregar':\n",
        "        if producto in inventario:\n",
        "            return f\"El producto '{producto}' ya existe en el inventario.\"\n",
        "        inventario[producto] = {'cantidad': cantidad, 'precio': precio}\n",
        "        return f\"Producto '{producto}' agregado con éxito.\"\n",
        "\n",
        "    elif operacion == 'actualizar':\n",
        "        if producto not in inventario:\n",
        "            return f\"El producto '{producto}' no existe en el inventario.\"\n",
        "        if cantidad is not None:\n",
        "            inventario[producto]['cantidad'] += cantidad\n",
        "        if precio is not None:\n",
        "            inventario[producto]['precio'] = precio\n",
        "        return f\"Producto '{producto}' actualizado con éxito.\"\n",
        "\n",
        "    elif operacion == 'consultar':\n",
        "        if producto not in inventario:\n",
        "            return f\"El producto '{producto}' no existe en el inventario.\"\n",
        "        return inventario[producto]\n",
        "\n",
        "    elif operacion == 'reporte':\n",
        "        return inventario\n",
        "\n",
        "    else:\n",
        "        return \"Operación no válida. Use 'agregar', 'actualizar', 'consultar' o 'reporte'.\""
      ],
      "metadata": {
        "id": "90PkJdvXU7ZN"
      },
      "execution_count": 3,
      "outputs": []
    },
    {
      "cell_type": "markdown",
      "source": [
        "Explicación Paso a Paso\n",
        "\n",
        "Parámetros:\n",
        "*  operacion: Determina qué acción se realizará.\n",
        "*  inventario: Un diccionario que almacena los productos con su cantidad y precio.\n",
        "*producto, cantidad, precio: Parámetros opcionales para especificar detalles del producto.\n",
        "*Operación agregar:\n",
        "Verifica si el producto ya existe. Si no, lo agrega con la cantidad y precio especificados.\n",
        "*Operación actualizar:\n",
        "Verifica si el producto existe. Si es así, actualiza su cantidad y/o precio.\n",
        "*Operación consultar:\n",
        "Retorna la información de un producto específico.\n",
        "*Operación reporte:\n",
        "Devuelve el inventario completo."
      ],
      "metadata": {
        "id": "K0XhGwFqVDM_"
      }
    },
    {
      "cell_type": "markdown",
      "source": [
        "Ejemplo de Uso"
      ],
      "metadata": {
        "id": "grX29i_5Wiw1"
      }
    },
    {
      "cell_type": "markdown",
      "source": [
        "1. Crear un Inventario Inicial"
      ],
      "metadata": {
        "id": "JPh6TfbEWlVU"
      }
    },
    {
      "cell_type": "code",
      "source": [
        "inventario = {}"
      ],
      "metadata": {
        "id": "lQ-R1r4wWiaA"
      },
      "execution_count": 1,
      "outputs": []
    },
    {
      "cell_type": "markdown",
      "source": [
        "2. Agregar Productos"
      ],
      "metadata": {
        "id": "yCUiGh56WnsN"
      }
    },
    {
      "cell_type": "code",
      "source": [
        "print(gestionar_inventario('agregar', inventario, 'manzanas', cantidad=50, precio=1.2))\n",
        "print(gestionar_inventario('agregar', inventario, 'bananas', cantidad=100, precio=0.8))"
      ],
      "metadata": {
        "id": "7TwO4Z13Wp7V",
        "outputId": "584c0f62-9fdf-4eec-d48d-7742a9936de4",
        "colab": {
          "base_uri": "https://localhost:8080/"
        }
      },
      "execution_count": 4,
      "outputs": [
        {
          "output_type": "stream",
          "name": "stdout",
          "text": [
            "Producto 'manzanas' agregado con éxito.\n",
            "Producto 'bananas' agregado con éxito.\n"
          ]
        }
      ]
    },
    {
      "cell_type": "markdown",
      "source": [
        "Salida:"
      ],
      "metadata": {
        "id": "O8jAE7WaWr17"
      }
    },
    {
      "cell_type": "code",
      "source": [
        "Producto 'manzanas' agregado con éxito.\n",
        "Producto 'bananas' agregado con éxito."
      ],
      "metadata": {
        "id": "g_i7tdUSWvsH"
      },
      "execution_count": null,
      "outputs": []
    },
    {
      "cell_type": "markdown",
      "source": [
        "3. Actualizar Productos"
      ],
      "metadata": {
        "id": "4t1eMmnMWyQr"
      }
    },
    {
      "cell_type": "code",
      "source": [
        "print(gestionar_inventario('actualizar', inventario, 'manzanas', cantidad=20, precio=1.3))\n",
        "print(gestionar_inventario('actualizar', inventario, 'bananas', cantidad=-10))"
      ],
      "metadata": {
        "id": "eGJfnUPYWzAn"
      },
      "execution_count": null,
      "outputs": []
    },
    {
      "cell_type": "markdown",
      "source": [
        "Salida:"
      ],
      "metadata": {
        "id": "0EOjp1dUW3h2"
      }
    },
    {
      "cell_type": "code",
      "source": [
        "Producto 'manzanas' actualizado con éxito.\n",
        "Producto 'bananas' actualizado con éxito."
      ],
      "metadata": {
        "id": "lk5spWzXW5P5"
      },
      "execution_count": null,
      "outputs": []
    },
    {
      "cell_type": "code",
      "source": [],
      "metadata": {
        "id": "7S4tW6kuVe5Z"
      },
      "execution_count": null,
      "outputs": []
    },
    {
      "cell_type": "markdown",
      "source": [
        "# **Modularización:**\n",
        "\n",
        "*   Divide el código en archivos separados para facilitar el mantenimiento.\n",
        "*   Permite importar y reutilizar funcionalidades de otros archivos o módulos.\n",
        "\n"
      ],
      "metadata": {
        "id": "qpblGW5eJUZj"
      }
    },
    {
      "cell_type": "markdown",
      "source": [
        "**¿Qué es un módulo en Python?**\n",
        "\n",
        "Un módulo es un archivo que contiene definiciones y declaraciones de Python, como funciones, variables y clases, que se pueden reutilizar en otros programas. Los módulos permiten organizar y modularizar el código, lo que hace que sea más fácil de mantener, reutilizar y comprender."
      ],
      "metadata": {
        "id": "Sg7KyRLIX3wh"
      }
    },
    {
      "cell_type": "markdown",
      "source": [
        "**Ventajas de usar módulos**\n",
        "\n",
        "1. **Reutilización del código: **Puedes usar las mismas funciones en múltiples programas.\n",
        "2. **Organización: **Divide un programa grande en partes más pequeñas y manejables.\n",
        "3. **Facilidad de mantenimiento:** Las actualizaciones o correcciones se hacen en el módulo y se reflejan en todos los programas que lo usan.\n",
        "4. **Acceso a bibliotecas estándar y externas:** Python ofrece módulos predefinidos que facilitan tareas comunes como matemáticas avanzadas, manipulación de archivos, o acceso a APIs."
      ],
      "metadata": {
        "id": "Ag42R_t2X5ps"
      }
    },
    {
      "cell_type": "markdown",
      "source": [
        "**Tipos de módulos en Python**\n",
        "\n",
        "\n",
        "\n",
        "1.   **Módulos estándar:**\n",
        "\n",
        "Incluidos en la biblioteca estándar de Python.\n",
        "Ejemplos: math, random, os, datetime.\n",
        "\n",
        "2.  **Módulos personalizados:**\n",
        "\n",
        "Creados por el usuario para cumplir funciones específicas.\n",
        "\n",
        "\n",
        "\n"
      ],
      "metadata": {
        "id": "ivt1bOCuYQZk"
      }
    },
    {
      "cell_type": "markdown",
      "source": [
        "1. Crear un módulo personalizado"
      ],
      "metadata": {
        "id": "WcExser0ZJb4"
      }
    },
    {
      "cell_type": "markdown",
      "source": [
        "Imagina que quieres crear un módulo llamado **calculadora.py**, que contenga varias funciones matemáticas como sumar, restar, multiplicar y dividir. Crea un archivo llamado calculadora.py con el siguiente contenido:"
      ],
      "metadata": {
        "id": "8IOFKZ66ZPTt"
      }
    },
    {
      "cell_type": "code",
      "source": [
        "# calculadora.py\n",
        "\n",
        "def sumar(a, b):\n",
        "    \"\"\"Devuelve la suma de a y b\"\"\"\n",
        "    return a + b\n",
        "\n",
        "def restar(a, b):\n",
        "    \"\"\"Devuelve la resta de a y b\"\"\"\n",
        "    return a - b\n",
        "\n",
        "def multiplicar(a, b):\n",
        "    \"\"\"Devuelve el producto de a y b\"\"\"\n",
        "    return a * b\n",
        "\n",
        "def dividir(a, b):\n",
        "    \"\"\"Devuelve la división de a entre b\"\"\"\n",
        "    if b == 0:\n",
        "        return \"Error: División por cero\"\n",
        "    return a / b"
      ],
      "metadata": {
        "id": "uB5Q-u4sZGu7"
      },
      "execution_count": 6,
      "outputs": []
    },
    {
      "cell_type": "markdown",
      "source": [
        "2. Usar el módulo en otro archivo\n",
        "\n",
        "Ahora, puedes crear otro archivo llamado main.py donde importarás y utilizarás las funciones definidas en calculadora.py."
      ],
      "metadata": {
        "id": "rAJAw5HOZi1Q"
      }
    },
    {
      "cell_type": "code",
      "source": [
        "# main.py\n",
        "\n",
        "import calculadora  # Importamos el módulo calculadora\n",
        "\n",
        "# Usar las funciones del módulo calculadora\n",
        "numero1 = 10\n",
        "numero2 = 5\n",
        "\n",
        "suma = calculadora.sumar(numero1, numero2)\n",
        "resta = calculadora.restar(numero1, numero2)\n",
        "producto = calculadora.multiplicar(numero1, numero2)\n",
        "division = calculadora.dividir(numero1, numero2)\n",
        "\n",
        "# Imprimir los resultados\n",
        "print(f\"La suma de {numero1} y {numero2} es: {suma}\")\n",
        "print(f\"La resta de {numero1} y {numero2} es: {resta}\")\n",
        "print(f\"La multiplicación de {numero1} y {numero2} es: {producto}\")\n",
        "print(f\"La división de {numero1} entre {numero2} es: {division}\")"
      ],
      "metadata": {
        "id": "nXMf1XqIZlSW",
        "outputId": "c6c126b1-34dd-4411-badd-f5c816545e7d",
        "colab": {
          "base_uri": "https://localhost:8080/",
          "height": 383
        }
      },
      "execution_count": 7,
      "outputs": [
        {
          "output_type": "error",
          "ename": "ModuleNotFoundError",
          "evalue": "No module named 'calculadora'",
          "traceback": [
            "\u001b[0;31m---------------------------------------------------------------------------\u001b[0m",
            "\u001b[0;31mModuleNotFoundError\u001b[0m                       Traceback (most recent call last)",
            "\u001b[0;32m<ipython-input-7-a2be8faa0ab3>\u001b[0m in \u001b[0;36m<cell line: 3>\u001b[0;34m()\u001b[0m\n\u001b[1;32m      1\u001b[0m \u001b[0;31m# main.py\u001b[0m\u001b[0;34m\u001b[0m\u001b[0;34m\u001b[0m\u001b[0m\n\u001b[1;32m      2\u001b[0m \u001b[0;34m\u001b[0m\u001b[0m\n\u001b[0;32m----> 3\u001b[0;31m \u001b[0;32mimport\u001b[0m \u001b[0mcalculadora\u001b[0m  \u001b[0;31m# Importamos el módulo calculadora\u001b[0m\u001b[0;34m\u001b[0m\u001b[0;34m\u001b[0m\u001b[0m\n\u001b[0m\u001b[1;32m      4\u001b[0m \u001b[0;34m\u001b[0m\u001b[0m\n\u001b[1;32m      5\u001b[0m \u001b[0;31m# Usar las funciones del módulo calculadora\u001b[0m\u001b[0;34m\u001b[0m\u001b[0;34m\u001b[0m\u001b[0m\n",
            "\u001b[0;31mModuleNotFoundError\u001b[0m: No module named 'calculadora'",
            "",
            "\u001b[0;31m---------------------------------------------------------------------------\u001b[0;32m\nNOTE: If your import is failing due to a missing package, you can\nmanually install dependencies using either !pip or !apt.\n\nTo view examples of installing some common dependencies, click the\n\"Open Examples\" button below.\n\u001b[0;31m---------------------------------------------------------------------------\u001b[0m\n"
          ],
          "errorDetails": {
            "actions": [
              {
                "action": "open_url",
                "actionText": "Open Examples",
                "url": "/notebooks/snippets/importing_libraries.ipynb"
              }
            ]
          }
        }
      ]
    },
    {
      "cell_type": "markdown",
      "source": [
        "3. Ejecutar el código\n",
        "\n",
        "Al ejecutar el archivo main.py, el programa utilizará las funciones del módulo calculadora.py para realizar las operaciones y mostrará los resultados en pantalla."
      ],
      "metadata": {
        "id": "bB6pEEPiZpwq"
      }
    },
    {
      "cell_type": "code",
      "source": [
        "La suma de 10 y 5 es: 15\n",
        "La resta de 10 y 5 es: 5\n",
        "La multiplicación de 10 y 5 es: 50\n",
        "La división de 10 entre 5 es: 2.0"
      ],
      "metadata": {
        "id": "Z95CNxItZrQk"
      },
      "execution_count": null,
      "outputs": []
    },
    {
      "cell_type": "markdown",
      "source": [
        "3. **Módulos de terceros:**\n",
        "\n",
        "Desarrollados por la comunidad y disponibles a través de gestores de paquetes como pip.\n",
        "Ejemplos: numpy, pandas, matplotlib."
      ],
      "metadata": {
        "id": "tvBD4y1mZFi4"
      }
    },
    {
      "cell_type": "code",
      "source": [],
      "metadata": {
        "id": "iS09jQT8YOZO"
      },
      "execution_count": null,
      "outputs": []
    },
    {
      "cell_type": "markdown",
      "source": [
        "Importar módulos estándar (math, random):"
      ],
      "metadata": {
        "id": "0N-lLFLNXX37"
      }
    },
    {
      "cell_type": "code",
      "source": [
        "import math\n",
        "from math import sqrt"
      ],
      "metadata": {
        "id": "n0ZVGNX3XVdi"
      },
      "execution_count": null,
      "outputs": []
    },
    {
      "cell_type": "markdown",
      "source": [
        "Ejercicio 1: Usar math para calcular la raíz cuadrada y el área de un círculo."
      ],
      "metadata": {
        "id": "or5qGQ6WXcNk"
      }
    },
    {
      "cell_type": "code",
      "source": [
        "import math\n",
        "print(math.sqrt(16))\n",
        "print(math.pi * 5 ** 2)"
      ],
      "metadata": {
        "id": "u3MTqV4YXeeZ"
      },
      "execution_count": null,
      "outputs": []
    },
    {
      "cell_type": "markdown",
      "source": [
        "Paso 2: Crear módulos propios"
      ],
      "metadata": {
        "id": "r9eBvqQbXhjP"
      }
    },
    {
      "cell_type": "markdown",
      "source": [
        "Crear un archivo utils.py:"
      ],
      "metadata": {
        "id": "x3saR5H_Xkgr"
      }
    },
    {
      "cell_type": "code",
      "source": [
        "# utils.py\n",
        "def area_circulo(radio):\n",
        "    return 3.14159 * radio ** 2"
      ],
      "metadata": {
        "id": "UTyrUS1tXl9p"
      },
      "execution_count": null,
      "outputs": []
    },
    {
      "cell_type": "markdown",
      "source": [
        "Importar el módulo:"
      ],
      "metadata": {
        "id": "Kk_DbfINXpEH"
      }
    },
    {
      "cell_type": "code",
      "source": [
        "import utils\n",
        "print(utils.area_circulo(5))"
      ],
      "metadata": {
        "id": "--3ls5MlXrAZ"
      },
      "execution_count": null,
      "outputs": []
    },
    {
      "cell_type": "markdown",
      "source": [
        "# **Recursividad:**\n",
        "\n",
        "\n",
        "*   Una técnica donde una función se llama a sí misma para resolver subproblemas más pequeños.\n",
        "*   Ejemplos: cálculo del factorial, secuencia de Fibonacci, etc.\n",
        "\n"
      ],
      "metadata": {
        "id": "qGGDo7t3Jogv"
      }
    },
    {
      "cell_type": "markdown",
      "source": [
        "La recursividad es un concepto fundamental en programación, especialmente en algoritmos que requieren dividir un problema en subproblemas más pequeños. La idea básica es que una función puede llamarse a sí misma para resolver una parte del problema."
      ],
      "metadata": {
        "id": "TKgJyY7EbAnD"
      }
    },
    {
      "cell_type": "markdown",
      "source": [
        "**Caso base:**\n",
        "\n",
        "Es crucial que una función recursiva tenga un caso base, que es la condición en la que la función deja de llamarse a sí misma y comienza a devolver los resultados de vuelta hacia las llamadas anteriores. Sin un caso base, la recursión se ejecutará indefinidamente, lo que resultará en un bucle infinito."
      ],
      "metadata": {
        "id": "InGvjQcTbFw-"
      }
    },
    {
      "cell_type": "markdown",
      "source": [
        "Ejemplo de cómo funciona la recursión:\n",
        "\n",
        "* Una función se llama a sí misma.\n",
        "* Cada vez que se llama, resuelve una parte del problema hasta llegar al caso base.\n",
        "* En el caso base, la función ya no se llama a sí misma y empieza a devolver los resultados hacia la llamada inicial."
      ],
      "metadata": {
        "id": "ScV2sbFEbMfE"
      }
    },
    {
      "cell_type": "markdown",
      "source": [
        "Ejercicio 1. Factorial"
      ],
      "metadata": {
        "id": "CnbgvLFHaEfP"
      }
    },
    {
      "cell_type": "markdown",
      "source": [
        "Factorial de un número (n!):\n",
        "\n",
        "El factorial de un número es el producto de todos los enteros positivos desde 1 hasta ese número. Por ejemplo:\n",
        "\n",
        "* 4! = 4 × 3 × 2 × 1 = 24\n",
        "* 0! = 1 (por definición)"
      ],
      "metadata": {
        "id": "o6JL4OqDbVzq"
      }
    },
    {
      "cell_type": "code",
      "source": [
        "def factorial(n):\n",
        "    if n == 0:  # Caso base: 0! = 1\n",
        "        return 1\n",
        "    return n * factorial(n - 1)  # Llamada recursiva"
      ],
      "metadata": {
        "id": "KXxJlgFuaHsQ"
      },
      "execution_count": null,
      "outputs": []
    },
    {
      "cell_type": "markdown",
      "source": [
        "Explicar cada llamada recursiva con un ejemplo: factorial(4)."
      ],
      "metadata": {
        "id": "fid8bb70aLqd"
      }
    },
    {
      "cell_type": "markdown",
      "source": [
        "Ejercicio 2: Sumar elementos de una lista recursivamente."
      ],
      "metadata": {
        "id": "j15l-B1RaSk4"
      }
    },
    {
      "cell_type": "code",
      "source": [
        "def suma_lista(lista):\n",
        "    if not lista:  # Caso base: lista vacía, la suma es 0\n",
        "        return 0\n",
        "    return lista[0] + suma_lista(lista[1:])  # Llamada recursiva"
      ],
      "metadata": {
        "id": "_Ox5O2rZaV7u"
      },
      "execution_count": null,
      "outputs": []
    },
    {
      "cell_type": "markdown",
      "source": [
        "Ejercicio 3: Resolver el problema de la Torre de Hanoi\n",
        "\n",
        "Problema de la Torre de Hanoi: El objetivo es mover discos de un poste a otro, con la restricción de que solo puedes mover un disco a la vez y que un disco más grande no puede colocarse sobre uno más pequeño.\n",
        "\n"
      ],
      "metadata": {
        "id": "jpA5ye4ZabfV"
      }
    },
    {
      "cell_type": "code",
      "source": [
        "def hanoi(n, origen, destino, auxiliar):\n",
        "    if n == 1:  # Caso base: solo un disco para mover\n",
        "        print(f\"Mover disco de {origen} a {destino}\")\n",
        "        return\n",
        "    hanoi(n-1, origen, auxiliar, destino)  # Mover discos de origen a auxiliar\n",
        "    print(f\"Mover disco de {origen} a {destino}\")  # Mover el disco principal\n",
        "    hanoi(n-1, auxiliar, destino, origen)  # Mover discos de auxiliar a destino"
      ],
      "metadata": {
        "id": "tZna9TP0aaw8"
      },
      "execution_count": null,
      "outputs": []
    },
    {
      "cell_type": "markdown",
      "source": [
        "Explicación paso a paso (con n = 3, origen = 'A', destino = 'C', auxiliar = 'B'):\n",
        "\n",
        "* Mover 2 discos de 'A' a 'B' usando 'C' como auxiliar (llamada recursiva).\n",
        "* Mover el disco 3 de 'A' a 'C'.\n",
        "* Mover 2 discos de 'B' a 'C' usando 'A' como auxiliar."
      ],
      "metadata": {
        "id": "WHv4ABkRb_hv"
      }
    },
    {
      "cell_type": "markdown",
      "source": [
        "La recursividad es muy poderosa, pero hay que tener cuidado con el caso base para evitar que el programa entre en un ciclo infinito y agote la memoria."
      ],
      "metadata": {
        "id": "2ttrNfm9cJ-u"
      }
    },
    {
      "cell_type": "markdown",
      "source": [
        "**Ejercicio Integral**\n",
        "\n",
        "Mini-Proyecto: Sistema de facturación\n",
        "\n",
        "Crear funciones para calcular subtotales, aplicar descuentos progresivos y mostrar el total."
      ],
      "metadata": {
        "id": "fxKCvQnoanTX"
      }
    },
    {
      "cell_type": "markdown",
      "source": [
        "Ejercicio Integral\n",
        "Mini-Proyecto: Sistema de facturación\n",
        "Crear funciones para calcular subtotales, aplicar descuentos progresivos y mostrar el total para una lista de precios\n",
        "\n",
        "Si el subtotal es mayor a 100, aplica un 10% de descuento.\n",
        "Si el subtotal es mayor a 200, aplica un 20% de descuento.\n",
        "Si el subtotal es mayor a 300, aplica un 30% de descuen"
      ],
      "metadata": {
        "id": "LDewxu9Bbx0q"
      }
    },
    {
      "cell_type": "markdown",
      "source": [],
      "metadata": {
        "id": "cxUMzPFmavkW"
      }
    }
  ]
}