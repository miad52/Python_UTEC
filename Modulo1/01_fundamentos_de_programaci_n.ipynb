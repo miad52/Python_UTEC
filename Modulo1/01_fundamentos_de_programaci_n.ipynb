{
  "nbformat": 4,
  "nbformat_minor": 0,
  "metadata": {
    "colab": {
      "provenance": [],
      "include_colab_link": true
    },
    "kernelspec": {
      "name": "python3",
      "display_name": "Python 3"
    },
    "language_info": {
      "name": "python"
    }
  },
  "cells": [
    {
      "cell_type": "markdown",
      "metadata": {
        "id": "view-in-github",
        "colab_type": "text"
      },
      "source": [
        "<a href=\"https://colab.research.google.com/github/miad52/Python_UTEC/blob/main/Modulo1/01_fundamentos_de_programaci_n.ipynb\" target=\"_parent\"><img src=\"https://colab.research.google.com/assets/colab-badge.svg\" alt=\"Open In Colab\"/></a>"
      ]
    },
    {
      "cell_type": "markdown",
      "source": [
        "<img src=\"https://www.ctic.uni.edu.pe/wp-content/uploads/2022/04/588px-x-348px-web-1.png\" alt=\"HTML5 Icon\" width=\"900\" height=\"350\" >\n"
      ],
      "metadata": {
        "id": "a2Ojkh4ciEiA"
      }
    },
    {
      "cell_type": "markdown",
      "source": [
        "<h1 align=center><font size = 5>FUNDAMENTOS DE PROGRAMACIÓN\n",
        "</font></h1>\n",
        "\n",
        "---"
      ],
      "metadata": {
        "id": "-amNk-kqiHO2"
      }
    },
    {
      "cell_type": "markdown",
      "source": [
        "## Tabla de Contenidos\n",
        "\n",
        "<div class=\"alert alert-block alert-info\" style=\"margin-top: 20px\">\n",
        "\n",
        "<font size = 3>\n",
        "    \n",
        "1. <a href=\"#item31\">Tipos básicos de datos</a>  \n",
        "2. <a href=\"#item31\">Manipulación de strings</a>  \n",
        "3. <a href=\"#item31\">Estructuras condicionales</a>  \n",
        "4. <a href=\"#item31\">Desafío</a>  \n",
        "</font>\n",
        "</div>\n",
        "\n",
        "---"
      ],
      "metadata": {
        "id": "qJ6hLRHNiQCG"
      }
    },
    {
      "cell_type": "markdown",
      "source": [
        "## <b>Objetivo:</b>\n",
        "\n",
        "Desarrollar habilidades para trabajar con tipos de datos básicos, manipulación de cadenas y la aplicación de estructuras condicionales en Python.\n",
        "\n",
        "---"
      ],
      "metadata": {
        "id": "1XCUOST_igWZ"
      }
    },
    {
      "cell_type": "markdown",
      "source": [
        "## <b>1. Tipos básicos de datos</b>\n",
        "\n",
        "Enteros, flotantes, cadenas y booleanos, con énfasis en cómo utilizarlos en operaciones básicas.\n",
        "\n"
      ],
      "metadata": {
        "id": "MWslSPQKjLYb"
      }
    },
    {
      "cell_type": "markdown",
      "source": [
        "### Verificando la versión de Python"
      ],
      "metadata": {
        "id": "SdnlyoStB_pK"
      }
    },
    {
      "cell_type": "code",
      "source": [
        "!python3"
      ],
      "metadata": {
        "id": "xFe_fHtsApoC"
      },
      "execution_count": null,
      "outputs": []
    },
    {
      "cell_type": "markdown",
      "source": [
        "### Ejecutando en Python"
      ],
      "metadata": {
        "id": "t1iB2a_1A_Nd"
      }
    },
    {
      "cell_type": "code",
      "source": [
        "print(\"Hello Python interpreter!\")"
      ],
      "metadata": {
        "id": "_GUyponPAi_Z"
      },
      "execution_count": null,
      "outputs": []
    },
    {
      "cell_type": "markdown",
      "source": [
        "### Variables en Python"
      ],
      "metadata": {
        "id": "sthjyiw1BYm4"
      }
    },
    {
      "cell_type": "code",
      "source": [
        "message = \"Hello Python world!\"\n",
        "print(message)"
      ],
      "metadata": {
        "id": "mGbrzOEtBa7g"
      },
      "execution_count": null,
      "outputs": []
    },
    {
      "cell_type": "markdown",
      "source": [
        "### Usando variables con strings"
      ],
      "metadata": {
        "id": "67A0ZgROBH2G"
      }
    },
    {
      "cell_type": "code",
      "source": [
        "first_name = \"John\"\n",
        "last_name = \"Caballero\"\n",
        "\n",
        "full_name = f\"{first_name} {last_name}\"\n",
        "print(full_name)\n"
      ],
      "metadata": {
        "id": "imkWRD_NGhM7"
      },
      "execution_count": null,
      "outputs": []
    },
    {
      "cell_type": "code",
      "source": [
        "first_name = str(input('Ingrese el primer nombre: '))\n",
        "last_name = str(input('Ingrese el apellido: '))\n",
        "\n",
        "full_name = f\"{first_name} {last_name}\"\n",
        "print(f\"Bienvenido {full_name}!\")\n"
      ],
      "metadata": {
        "id": "ldadfir2G-ee"
      },
      "execution_count": null,
      "outputs": []
    },
    {
      "cell_type": "code",
      "source": [
        "print(f\"Hola, {full_name.title()}!\")"
      ],
      "metadata": {
        "id": "9DXlUqRdHWpy"
      },
      "execution_count": null,
      "outputs": []
    },
    {
      "cell_type": "code",
      "source": [
        "message = f\"Hola, {full_name.title()}!\"\n",
        "print(message)"
      ],
      "metadata": {
        "id": "ovwhbcW4HnNO"
      },
      "execution_count": null,
      "outputs": []
    },
    {
      "cell_type": "code",
      "source": [
        "print(\"Python\")"
      ],
      "metadata": {
        "id": "d7c9EIszIADO"
      },
      "execution_count": null,
      "outputs": []
    },
    {
      "cell_type": "code",
      "source": [
        "print(\"Python's\")"
      ],
      "metadata": {
        "id": "ypepBjltTCHR"
      },
      "execution_count": null,
      "outputs": []
    },
    {
      "cell_type": "code",
      "source": [
        "print(\"\\tPython\")"
      ],
      "metadata": {
        "id": "hGmARCyTH_8F"
      },
      "execution_count": null,
      "outputs": []
    },
    {
      "cell_type": "code",
      "source": [
        "print(\"Languages:\\nPython\\nC\\nJavaScript\")"
      ],
      "metadata": {
        "id": "7sLWgXNbH_zY"
      },
      "execution_count": null,
      "outputs": []
    },
    {
      "cell_type": "code",
      "source": [
        "print(\"Languages:\\n\\tPython\\n\\tC\\n\\tJavaScript\")"
      ],
      "metadata": {
        "id": "GHwzRJQeIgCo"
      },
      "execution_count": null,
      "outputs": []
    },
    {
      "cell_type": "markdown",
      "source": [
        "### Espacios en python"
      ],
      "metadata": {
        "id": "uV4g9yt5It7q"
      }
    },
    {
      "cell_type": "code",
      "source": [
        "favorite_language = 'python '\n",
        "favorite_language"
      ],
      "metadata": {
        "id": "3WM1AbohIpnt"
      },
      "execution_count": null,
      "outputs": []
    },
    {
      "cell_type": "code",
      "source": [
        "favorite_language.rstrip()"
      ],
      "metadata": {
        "id": "L465tOhkIqNd"
      },
      "execution_count": null,
      "outputs": []
    },
    {
      "cell_type": "code",
      "source": [
        "favorite_language"
      ],
      "metadata": {
        "id": "7AFWklYBJzQ6"
      },
      "execution_count": null,
      "outputs": []
    },
    {
      "cell_type": "code",
      "source": [
        "favorite_language = 'python '\n",
        "favorite_language = favorite_language.rstrip()\n",
        "favorite_language"
      ],
      "metadata": {
        "id": "9fqYGKCRJk1R"
      },
      "execution_count": null,
      "outputs": []
    },
    {
      "cell_type": "code",
      "source": [
        "favorite_language = ' python '\n",
        "favorite_language"
      ],
      "metadata": {
        "id": "3uDiKbdIKI0M"
      },
      "execution_count": null,
      "outputs": []
    },
    {
      "cell_type": "code",
      "source": [
        "favorite_language.rstrip()"
      ],
      "metadata": {
        "id": "FbVFEWqQKSwS"
      },
      "execution_count": null,
      "outputs": []
    },
    {
      "cell_type": "code",
      "source": [
        "favorite_language.lstrip()"
      ],
      "metadata": {
        "id": "tE4HafwRKJx6"
      },
      "execution_count": null,
      "outputs": []
    },
    {
      "cell_type": "code",
      "source": [
        "favorite_language.strip()"
      ],
      "metadata": {
        "id": "ZgZ9X5kgKJUS"
      },
      "execution_count": null,
      "outputs": []
    },
    {
      "cell_type": "markdown",
      "source": [
        "### Problemas comunes"
      ],
      "metadata": {
        "id": "RSYDstcmLdkD"
      }
    },
    {
      "cell_type": "code",
      "source": [
        "message = \"El libro 'Harry Potter' fue un best seller\"\n",
        "print(message)"
      ],
      "metadata": {
        "id": "Tm8cU1yqLc5M"
      },
      "execution_count": null,
      "outputs": []
    },
    {
      "cell_type": "code",
      "source": [
        "message = 'One of Python's strengths is its diverse community.'\n",
        "print(message)"
      ],
      "metadata": {
        "id": "nxUO09lkNFuk"
      },
      "execution_count": null,
      "outputs": []
    },
    {
      "cell_type": "markdown",
      "source": [
        "### Números"
      ],
      "metadata": {
        "id": "cf-y9DtENQLY"
      }
    },
    {
      "cell_type": "code",
      "source": [
        "2 + 3"
      ],
      "metadata": {
        "id": "NU8oYEG9NPWl"
      },
      "execution_count": null,
      "outputs": []
    },
    {
      "cell_type": "code",
      "source": [
        "3 ** 2"
      ],
      "metadata": {
        "id": "UR4mC6E-Nbhw"
      },
      "execution_count": null,
      "outputs": []
    },
    {
      "cell_type": "code",
      "source": [
        "(2 + 3) * 4"
      ],
      "metadata": {
        "id": "K_Gln-FfNeO9"
      },
      "execution_count": null,
      "outputs": []
    },
    {
      "cell_type": "markdown",
      "source": [
        "### Floats"
      ],
      "metadata": {
        "id": "ubo6p0b-NhjD"
      }
    },
    {
      "cell_type": "code",
      "source": [
        "0.1 + 0.1"
      ],
      "metadata": {
        "id": "RQxlR6oyNmoG"
      },
      "execution_count": null,
      "outputs": []
    },
    {
      "cell_type": "code",
      "source": [
        "2 * 0.2"
      ],
      "metadata": {
        "id": "uWQ-911qNskj"
      },
      "execution_count": null,
      "outputs": []
    },
    {
      "cell_type": "code",
      "source": [
        "0.2 + 0.1"
      ],
      "metadata": {
        "id": "BcImgVOtNySt"
      },
      "execution_count": null,
      "outputs": []
    },
    {
      "cell_type": "markdown",
      "source": [
        "### Enteros y Floats"
      ],
      "metadata": {
        "id": "a_1vW_FNOIf5"
      }
    },
    {
      "cell_type": "code",
      "source": [
        "4/2"
      ],
      "metadata": {
        "id": "iN7X2ZWWOLFS"
      },
      "execution_count": null,
      "outputs": []
    },
    {
      "cell_type": "code",
      "source": [
        "1 + 2.0"
      ],
      "metadata": {
        "id": "D9dA2ELhORGk"
      },
      "execution_count": null,
      "outputs": []
    },
    {
      "cell_type": "code",
      "source": [
        "1*3.0"
      ],
      "metadata": {
        "id": "wwDLo_S_Vhpr"
      },
      "execution_count": null,
      "outputs": []
    },
    {
      "cell_type": "markdown",
      "source": [
        "### Guiones bajos en números"
      ],
      "metadata": {
        "id": "8ICC-mT0OsHE"
      }
    },
    {
      "cell_type": "code",
      "source": [
        "universe_age = 14_000_000_000\n",
        "print(universe_age)"
      ],
      "metadata": {
        "id": "9a4-mKc8OqI8"
      },
      "execution_count": null,
      "outputs": []
    },
    {
      "cell_type": "markdown",
      "source": [
        "### Asignación Múltiple"
      ],
      "metadata": {
        "id": "53q3i_pyPEey"
      }
    },
    {
      "cell_type": "code",
      "source": [
        "a, b = 1, 2\n",
        "b"
      ],
      "metadata": {
        "id": "Tp7oXgPsWQzf"
      },
      "execution_count": null,
      "outputs": []
    },
    {
      "cell_type": "code",
      "source": [
        "x, y, z = 0, 0, 0"
      ],
      "metadata": {
        "id": "jZIDGHQePh6B"
      },
      "execution_count": null,
      "outputs": []
    },
    {
      "cell_type": "code",
      "source": [
        "y"
      ],
      "metadata": {
        "id": "lQR7E1gtPiyR"
      },
      "execution_count": null,
      "outputs": []
    },
    {
      "cell_type": "markdown",
      "source": [
        "### Constantes"
      ],
      "metadata": {
        "id": "pncAPB7TPruo"
      }
    },
    {
      "cell_type": "code",
      "source": [
        "MAX_CONNECTIONS = 5000"
      ],
      "metadata": {
        "id": "AUR_RlTEPvZZ"
      },
      "execution_count": null,
      "outputs": []
    },
    {
      "cell_type": "markdown",
      "source": [
        "<b> Ejercicio </b>\n",
        "\n",
        "Usa una variable para representar un número. Luego, usando esa variable, cree un mensaje que revele su número. Imprime ese mensaje."
      ],
      "metadata": {
        "id": "CpJsuNbVRKZ3"
      }
    },
    {
      "cell_type": "markdown",
      "source": [
        "Doble-click __aquí__ para ver la solución.\n",
        "<!-- La respuesta es:\n",
        "num = 12\n",
        "print(f\"El número es {num}\")\n",
        "-->\n",
        "\n"
      ],
      "metadata": {
        "id": "jMC81ZCBTmJc"
      }
    },
    {
      "cell_type": "markdown",
      "source": [
        "### Comentarios"
      ],
      "metadata": {
        "id": "VAUMMfzqQ_OK"
      }
    },
    {
      "cell_type": "code",
      "source": [
        "# Código para saludar.\n",
        "print(\"Hola programadores de Python!\")"
      ],
      "metadata": {
        "id": "MHCgX32dOnPy"
      },
      "execution_count": null,
      "outputs": []
    },
    {
      "cell_type": "markdown",
      "source": [
        "### El Zen de Python"
      ],
      "metadata": {
        "id": "XTsX-ps8mIBd"
      }
    },
    {
      "cell_type": "code",
      "source": [
        "import this"
      ],
      "metadata": {
        "id": "dB9VCvLST7Gp"
      },
      "execution_count": null,
      "outputs": []
    },
    {
      "cell_type": "markdown",
      "source": [
        "### Ejemplo 1.1: Operaciones aritméticas"
      ],
      "metadata": {
        "id": "WVuNuyWsjXsU"
      }
    },
    {
      "cell_type": "code",
      "source": [
        "# Variables numéricas\n",
        "a = 15  # Entero\n",
        "b = 4.7  # Flotante\n"
      ],
      "metadata": {
        "id": "_nYyKe_bjHY5"
      },
      "execution_count": null,
      "outputs": []
    },
    {
      "cell_type": "code",
      "execution_count": null,
      "metadata": {
        "id": "MNGFUaC6hyfi"
      },
      "outputs": [],
      "source": [
        "# Operaciones básicas\n",
        "print(\"Suma:\", a + b)"
      ]
    },
    {
      "cell_type": "code",
      "source": [
        "print(\"Resta:\", a - b)"
      ],
      "metadata": {
        "id": "hbnOS3lsjdWc"
      },
      "execution_count": null,
      "outputs": []
    },
    {
      "cell_type": "code",
      "source": [
        "print(\"Multiplicación:\", a * b)"
      ],
      "metadata": {
        "id": "P4v5iGM2jeTc"
      },
      "execution_count": null,
      "outputs": []
    },
    {
      "cell_type": "code",
      "source": [
        "print(\"División:\", a / b)"
      ],
      "metadata": {
        "id": "bngfJL61jfLf"
      },
      "execution_count": null,
      "outputs": []
    },
    {
      "cell_type": "code",
      "source": [
        "print(\"Módulo:\", a % b)  # Residuo de la división"
      ],
      "metadata": {
        "id": "lRmdUaHajgTp"
      },
      "execution_count": null,
      "outputs": []
    },
    {
      "cell_type": "markdown",
      "source": [
        "### Ejercicio 1.1: Operaciones con entrada de usuario\n",
        "\n",
        "Pide al usuario dos números, realiza las operaciones básicas (suma, resta, multiplicación y división) e imprime los resultados.\n",
        "Calcula la raíz cuadrada de un número utilizando la función ** (exponente)."
      ],
      "metadata": {
        "id": "oa1fRACgjlV_"
      }
    },
    {
      "cell_type": "code",
      "source": [],
      "metadata": {
        "id": "yrlpPiGWjol1"
      },
      "execution_count": null,
      "outputs": []
    },
    {
      "cell_type": "markdown",
      "source": [
        "## <b>2. Manipulación de strings</b>\n",
        "\n",
        "Las cadenas de texto (strings) en Python son secuencias de caracteres, y Python proporciona muchos métodos útiles para manipularlas.\n",
        "\n"
      ],
      "metadata": {
        "id": "8q_I9AOBjpH7"
      }
    },
    {
      "cell_type": "markdown",
      "source": [
        "### Ejemplo 2.1: Concatenación y repetición de cadenas"
      ],
      "metadata": {
        "id": "o3SzxNcajzk4"
      }
    },
    {
      "cell_type": "code",
      "source": [
        "nombre = \"Ana\"\n",
        "apellido = \"Sánchez\"\n",
        "nombre_completo = nombre + \" \" + apellido\n",
        "\n",
        "print(\"Nombre completo:\", nombre_completo)\n"
      ],
      "metadata": {
        "id": "Uu2JI0Ycj7DM"
      },
      "execution_count": null,
      "outputs": []
    },
    {
      "cell_type": "code",
      "source": [
        "# Repetición\n",
        "\n",
        "repetido = \"Python! \" * 3\n",
        "print(repetido)\n"
      ],
      "metadata": {
        "id": "j8UcjDF7j9JX"
      },
      "execution_count": null,
      "outputs": []
    },
    {
      "cell_type": "markdown",
      "source": [
        "### Ejercicio 2.1: Creando saludos\n",
        "\n",
        "- Pide al usuario su nombre y apellido, luego genera un saludo en el formato: \"¡Hola, [Nombre Apellido]!\".\n",
        "\n",
        "- Usa repetición para imprimir el saludo 5 veces.\n"
      ],
      "metadata": {
        "id": "v9o0-F4FkBRa"
      }
    },
    {
      "cell_type": "code",
      "source": [],
      "metadata": {
        "id": "V3ZGMDOKkY29"
      },
      "execution_count": null,
      "outputs": []
    },
    {
      "cell_type": "markdown",
      "source": [
        "### Ejemplo 2.2: Métodos strip(), lstrip() y rstrip()\n"
      ],
      "metadata": {
        "id": "8FWZtWkzkZMW"
      }
    },
    {
      "cell_type": "code",
      "source": [
        "# Métodos para eliminar espacios\n",
        "\n",
        "texto = \"   Python es genial   \"\n",
        "print(\"Original:\", texto)\n"
      ],
      "metadata": {
        "id": "fBMrjpJgkdKk"
      },
      "execution_count": null,
      "outputs": []
    },
    {
      "cell_type": "code",
      "source": [
        "print(\"Con strip():\", texto.strip())    # Elimina espacios al inicio y final\n",
        "\n"
      ],
      "metadata": {
        "id": "sBFoDUsvkf76"
      },
      "execution_count": null,
      "outputs": []
    },
    {
      "cell_type": "code",
      "source": [
        "print(\"Con lstrip():\", texto.lstrip())  # Elimina espacios al inicio\n"
      ],
      "metadata": {
        "id": "Pi1FADDIkgVS"
      },
      "execution_count": null,
      "outputs": []
    },
    {
      "cell_type": "code",
      "source": [
        "print(\"Con rstrip():\", texto.rstrip())  # Elimina espacios al final"
      ],
      "metadata": {
        "id": "foufxFkLkhdR"
      },
      "execution_count": null,
      "outputs": []
    },
    {
      "cell_type": "markdown",
      "source": [
        "### Ejercicio 2.2: Eliminar espacios en cadenas\n",
        "\n",
        "Pide al usuario que ingrese una frase con espacios extra al inicio y al final.\n",
        "\n",
        "- Usa strip() para eliminar los espacios en blanco.\n",
        "- Usa lstrip() para eliminar los espacios al inicio.\n",
        "- Usa rstrip() para eliminar los espacios al final.\n",
        "\n",
        "Imprime los resultados después de aplicar cada método."
      ],
      "metadata": {
        "id": "ONAVddiUkk0I"
      }
    },
    {
      "cell_type": "code",
      "source": [],
      "metadata": {
        "id": "jfyhX8FmksPF"
      },
      "execution_count": null,
      "outputs": []
    },
    {
      "cell_type": "markdown",
      "source": [
        "### Ejemplo 2.3: Métodos adicionales de cadenas\n"
      ],
      "metadata": {
        "id": "-RVPfhVTksuv"
      }
    },
    {
      "cell_type": "code",
      "source": [
        "# Otros métodos útiles\n",
        "texto = \"Hola Pythonista\"\n"
      ],
      "metadata": {
        "id": "uP3nSEXMkupC"
      },
      "execution_count": null,
      "outputs": []
    },
    {
      "cell_type": "code",
      "source": [
        "print(texto.upper())  # Convierte todo a mayúsculas\n"
      ],
      "metadata": {
        "id": "Q6UBYyhFkxLX"
      },
      "execution_count": null,
      "outputs": []
    },
    {
      "cell_type": "code",
      "source": [
        "print(texto.lower())  # Convierte todo a minúsculas\n"
      ],
      "metadata": {
        "id": "4Yk0_9t9kxjV"
      },
      "execution_count": null,
      "outputs": []
    },
    {
      "cell_type": "code",
      "source": [
        "\n",
        "print(texto.replace(\"Pythonista\", \"Programador\"))  # Reemplaza una palabra\n"
      ],
      "metadata": {
        "id": "UH3Uf1t_kyBu"
      },
      "execution_count": null,
      "outputs": []
    },
    {
      "cell_type": "markdown",
      "source": [
        "### Ejercicio 2.3: Transformando cadenas\n",
        "\n",
        "Pide al usuario que ingrese una frase, luego:\n",
        "- Convierte toda la frase a mayúsculas.\n",
        "- Reemplaza una palabra de la frase por otra y muestra el resultado.\n",
        "- Imprime la longitud de la frase."
      ],
      "metadata": {
        "id": "N1k_7rlXk3M3"
      }
    },
    {
      "cell_type": "code",
      "source": [],
      "metadata": {
        "id": "wcDoawq0mrpr"
      },
      "execution_count": null,
      "outputs": []
    },
    {
      "cell_type": "markdown",
      "source": [
        "## <b>3. Estructuras de control: Condicionales</b>\n"
      ],
      "metadata": {
        "id": "8Pw1lVQAk_1c"
      }
    },
    {
      "cell_type": "markdown",
      "source": [
        "Las estructuras condicionales permiten que un programa tome decisiones en función de las condiciones que se cumplan."
      ],
      "metadata": {
        "id": "E4pOl2C8lKzF"
      }
    },
    {
      "cell_type": "markdown",
      "source": [
        "### Igualdades"
      ],
      "metadata": {
        "id": "NhyOyyLtnaLV"
      }
    },
    {
      "cell_type": "code",
      "source": [
        "1 = str(2)"
      ],
      "metadata": {
        "id": "YZkf5aLHmhde",
        "outputId": "893e4712-97f9-4a77-92a1-cacda28fc524",
        "colab": {
          "base_uri": "https://localhost:8080/",
          "height": 106
        }
      },
      "execution_count": null,
      "outputs": [
        {
          "output_type": "error",
          "ename": "SyntaxError",
          "evalue": "cannot assign to literal here. Maybe you meant '==' instead of '='? (<ipython-input-10-0268771a978e>, line 1)",
          "traceback": [
            "\u001b[0;36m  File \u001b[0;32m\"<ipython-input-10-0268771a978e>\"\u001b[0;36m, line \u001b[0;32m1\u001b[0m\n\u001b[0;31m    1 = str(2)\u001b[0m\n\u001b[0m    ^\u001b[0m\n\u001b[0;31mSyntaxError\u001b[0m\u001b[0;31m:\u001b[0m cannot assign to literal here. Maybe you meant '==' instead of '='?\n"
          ]
        }
      ]
    },
    {
      "cell_type": "code",
      "source": [
        "1 == 2"
      ],
      "metadata": {
        "id": "qi5sJLuUmR0m",
        "outputId": "2c2a79a0-7428-414a-c8d1-5791c423e1a8",
        "colab": {
          "base_uri": "https://localhost:8080/"
        }
      },
      "execution_count": null,
      "outputs": [
        {
          "output_type": "execute_result",
          "data": {
            "text/plain": [
              "False"
            ]
          },
          "metadata": {},
          "execution_count": 9
        }
      ]
    },
    {
      "cell_type": "code",
      "source": [
        "2 == 2"
      ],
      "metadata": {
        "id": "8T_pNL9gmoT8",
        "outputId": "d3d2a6e6-4c8a-4187-e630-e15f16b22a62",
        "colab": {
          "base_uri": "https://localhost:8080/"
        }
      },
      "execution_count": null,
      "outputs": [
        {
          "output_type": "execute_result",
          "data": {
            "text/plain": [
              "True"
            ]
          },
          "metadata": {},
          "execution_count": 11
        }
      ]
    },
    {
      "cell_type": "code",
      "source": [
        "2 == 2.0"
      ],
      "metadata": {
        "id": "hSQ9bC3Vmy96",
        "outputId": "206aad88-4050-4dfb-fba6-e577b25955eb",
        "colab": {
          "base_uri": "https://localhost:8080/"
        }
      },
      "execution_count": null,
      "outputs": [
        {
          "output_type": "execute_result",
          "data": {
            "text/plain": [
              "True"
            ]
          },
          "metadata": {},
          "execution_count": 12
        }
      ]
    },
    {
      "cell_type": "code",
      "source": [
        "car = 'bmw'\n",
        "car == 'bmw'"
      ],
      "metadata": {
        "id": "PukwJABJm1rP",
        "outputId": "85b24d18-3b63-4921-a5af-7ebcf58c4c85",
        "colab": {
          "base_uri": "https://localhost:8080/"
        }
      },
      "execution_count": null,
      "outputs": [
        {
          "output_type": "execute_result",
          "data": {
            "text/plain": [
              "True"
            ]
          },
          "metadata": {},
          "execution_count": 13
        }
      ]
    },
    {
      "cell_type": "code",
      "source": [
        "car = 'audi'\n",
        "car == 'bmw'"
      ],
      "metadata": {
        "id": "cz5ibI_Wm9lq",
        "outputId": "5531901e-92a3-4039-e4dd-8d5ca17e4929",
        "colab": {
          "base_uri": "https://localhost:8080/"
        }
      },
      "execution_count": null,
      "outputs": [
        {
          "output_type": "execute_result",
          "data": {
            "text/plain": [
              "False"
            ]
          },
          "metadata": {},
          "execution_count": 14
        }
      ]
    },
    {
      "cell_type": "markdown",
      "source": [
        "Ignorando Mayusculas en igualdades"
      ],
      "metadata": {
        "id": "yEggshtHom4j"
      }
    },
    {
      "cell_type": "code",
      "source": [
        "car = 'Audi'\n",
        "car == 'audi'"
      ],
      "metadata": {
        "id": "2tLQKu9KnLC3",
        "outputId": "2d06876f-d0f2-4f6f-91ec-97a751743c01",
        "colab": {
          "base_uri": "https://localhost:8080/"
        }
      },
      "execution_count": null,
      "outputs": [
        {
          "output_type": "execute_result",
          "data": {
            "text/plain": [
              "False"
            ]
          },
          "metadata": {},
          "execution_count": 15
        }
      ]
    },
    {
      "cell_type": "code",
      "source": [
        "car.lower()"
      ],
      "metadata": {
        "id": "VFNGrgdfnZPK",
        "outputId": "e3522550-0146-492c-c5f2-6196c06c229b",
        "colab": {
          "base_uri": "https://localhost:8080/",
          "height": 35
        }
      },
      "execution_count": null,
      "outputs": [
        {
          "output_type": "execute_result",
          "data": {
            "text/plain": [
              "'audi'"
            ],
            "application/vnd.google.colaboratory.intrinsic+json": {
              "type": "string"
            }
          },
          "metadata": {},
          "execution_count": 16
        }
      ]
    },
    {
      "cell_type": "code",
      "source": [
        "car.upper()"
      ],
      "metadata": {
        "id": "8SDmobRZnNsl",
        "outputId": "8b4e6550-33c2-445c-ffd3-ad663ae021f0",
        "colab": {
          "base_uri": "https://localhost:8080/",
          "height": 35
        }
      },
      "execution_count": null,
      "outputs": [
        {
          "output_type": "execute_result",
          "data": {
            "text/plain": [
              "'AUDI'"
            ],
            "application/vnd.google.colaboratory.intrinsic+json": {
              "type": "string"
            }
          },
          "metadata": {},
          "execution_count": 17
        }
      ]
    },
    {
      "cell_type": "code",
      "source": [
        "car = 'Audi'\n",
        "car.lower() == 'audi'"
      ],
      "metadata": {
        "id": "WOnmTIX9m3IQ",
        "outputId": "c021bc5c-6025-4cc3-c995-68dc61cc8f05",
        "colab": {
          "base_uri": "https://localhost:8080/"
        }
      },
      "execution_count": null,
      "outputs": [
        {
          "output_type": "execute_result",
          "data": {
            "text/plain": [
              "True"
            ]
          },
          "metadata": {},
          "execution_count": 18
        }
      ]
    },
    {
      "cell_type": "markdown",
      "source": [
        "### Desigualdades"
      ],
      "metadata": {
        "id": "QJzj1X6undzm"
      }
    },
    {
      "cell_type": "code",
      "source": [
        "1 != 2"
      ],
      "metadata": {
        "id": "9u0Sho8vno-g",
        "outputId": "4eb7a913-ceb4-4895-8563-1248e51b9cb7",
        "colab": {
          "base_uri": "https://localhost:8080/"
        }
      },
      "execution_count": null,
      "outputs": [
        {
          "output_type": "execute_result",
          "data": {
            "text/plain": [
              "True"
            ]
          },
          "metadata": {},
          "execution_count": 19
        }
      ]
    },
    {
      "cell_type": "code",
      "source": [
        "'Audi' != 'audi'"
      ],
      "metadata": {
        "id": "EADKhXulntOP",
        "outputId": "e5b06a8b-03ae-4a6b-9263-e0200f9a3597",
        "colab": {
          "base_uri": "https://localhost:8080/"
        }
      },
      "execution_count": null,
      "outputs": [
        {
          "output_type": "execute_result",
          "data": {
            "text/plain": [
              "True"
            ]
          },
          "metadata": {},
          "execution_count": 20
        }
      ]
    },
    {
      "cell_type": "code",
      "source": [
        "2 != 2.0"
      ],
      "metadata": {
        "id": "lRCCtFKBnweq",
        "outputId": "9dc9b98c-c6a1-4d7c-af9f-5e4e4e4576b2",
        "colab": {
          "base_uri": "https://localhost:8080/"
        }
      },
      "execution_count": null,
      "outputs": [
        {
          "output_type": "execute_result",
          "data": {
            "text/plain": [
              "False"
            ]
          },
          "metadata": {},
          "execution_count": 22
        }
      ]
    },
    {
      "cell_type": "code",
      "source": [
        "requested_topping = 'champiñones'\n",
        "\n",
        "if requested_topping != 'Anchoas':\n",
        "  print(\"Sostén las Anchoas!\")\n"
      ],
      "metadata": {
        "id": "4x_KuchGnhHR",
        "outputId": "353f0c6b-6b4b-4132-fcab-3769720a2608",
        "colab": {
          "base_uri": "https://localhost:8080/"
        }
      },
      "execution_count": null,
      "outputs": [
        {
          "output_type": "stream",
          "name": "stdout",
          "text": [
            "Sostén las Anchoas!\n"
          ]
        }
      ]
    },
    {
      "cell_type": "markdown",
      "source": [
        "### Comparar Números"
      ],
      "metadata": {
        "id": "9hZEAyQNpIDq"
      }
    },
    {
      "cell_type": "code",
      "source": [
        "age = 18\n",
        "age == 18"
      ],
      "metadata": {
        "id": "TkAawBSMpHmN",
        "outputId": "58304466-62fe-4b5e-b533-79388a6aa189",
        "colab": {
          "base_uri": "https://localhost:8080/"
        }
      },
      "execution_count": null,
      "outputs": [
        {
          "output_type": "execute_result",
          "data": {
            "text/plain": [
              "True"
            ]
          },
          "metadata": {},
          "execution_count": 23
        }
      ]
    },
    {
      "cell_type": "code",
      "source": [
        "answer = 42\n",
        "\n",
        "if answer != 42:\n",
        "  print(\"Respuesta incorrecta, intenta nuevamente!\")"
      ],
      "metadata": {
        "id": "cuh3qVzEp14h"
      },
      "execution_count": null,
      "outputs": []
    },
    {
      "cell_type": "code",
      "source": [
        "answer = int(input('Ingrese su respuesta: '))\n",
        "\n",
        "if answer != 42:\n",
        "  print(\"Respuesta incorrecta, intenta nuevamente!\")"
      ],
      "metadata": {
        "id": "Q8P2FyvworiB",
        "outputId": "2199d03e-36fe-464f-c90f-79da69dbe357",
        "colab": {
          "base_uri": "https://localhost:8080/"
        }
      },
      "execution_count": null,
      "outputs": [
        {
          "output_type": "stream",
          "name": "stdout",
          "text": [
            "Ingrese su respuesta: 12\n",
            "Respuesta incorrecta, intenta nuevamente!\n"
          ]
        }
      ]
    },
    {
      "cell_type": "code",
      "source": [
        "age = 19\n",
        "age < 21"
      ],
      "metadata": {
        "id": "BSGJ9oNEqCOj",
        "outputId": "e001053c-5a61-4627-ab6c-3be215d0fc90",
        "colab": {
          "base_uri": "https://localhost:8080/"
        }
      },
      "execution_count": null,
      "outputs": [
        {
          "output_type": "execute_result",
          "data": {
            "text/plain": [
              "True"
            ]
          },
          "metadata": {},
          "execution_count": 28
        }
      ]
    },
    {
      "cell_type": "code",
      "source": [
        "age <= 21"
      ],
      "metadata": {
        "id": "wf3dMEHIqGh-",
        "outputId": "70f05607-70f6-4887-97a6-d0ad70829fda",
        "colab": {
          "base_uri": "https://localhost:8080/"
        }
      },
      "execution_count": null,
      "outputs": [
        {
          "output_type": "execute_result",
          "data": {
            "text/plain": [
              "True"
            ]
          },
          "metadata": {},
          "execution_count": 29
        }
      ]
    },
    {
      "cell_type": "code",
      "source": [
        "age > 21"
      ],
      "metadata": {
        "id": "ALtGWaW_qIEG"
      },
      "execution_count": null,
      "outputs": []
    },
    {
      "cell_type": "code",
      "source": [
        "age >= 21"
      ],
      "metadata": {
        "id": "U-sv2_SKqJ3T"
      },
      "execution_count": null,
      "outputs": []
    },
    {
      "cell_type": "markdown",
      "source": [
        "### Condicionales múltiples"
      ],
      "metadata": {
        "id": "Ul7K_VXA69Hg"
      }
    },
    {
      "cell_type": "code",
      "source": [
        "age_0 = 22\n",
        "age_1 = 18\n",
        "age_0 >= 21 and age_1 >= 21"
      ],
      "metadata": {
        "id": "fPhw2J5U7Fgs",
        "outputId": "57ac700d-d463-4b4e-bd4a-7aa190f10175",
        "colab": {
          "base_uri": "https://localhost:8080/"
        }
      },
      "execution_count": null,
      "outputs": [
        {
          "output_type": "execute_result",
          "data": {
            "text/plain": [
              "False"
            ]
          },
          "metadata": {},
          "execution_count": 30
        }
      ]
    },
    {
      "cell_type": "code",
      "source": [
        "age_1 = 22\n",
        "age_0 >= 21 and age_1 >= 21"
      ],
      "metadata": {
        "id": "vxSjikcs7zkf"
      },
      "execution_count": null,
      "outputs": []
    },
    {
      "cell_type": "code",
      "source": [
        "(age_0 >= 21) and (age_1 >= 21)"
      ],
      "metadata": {
        "id": "4sdZ7nWN75LC"
      },
      "execution_count": null,
      "outputs": []
    },
    {
      "cell_type": "code",
      "source": [
        "age_0 = 22\n",
        "age_1 = 18\n",
        "age_0 >= 21 or age_1 >= 21"
      ],
      "metadata": {
        "id": "I_gV0j1n8NJA"
      },
      "execution_count": null,
      "outputs": []
    },
    {
      "cell_type": "code",
      "source": [
        "age_0 = 18\n",
        "age_0 >= 21 or age_1 >= 21"
      ],
      "metadata": {
        "id": "OutmfEzZ-9jQ"
      },
      "execution_count": null,
      "outputs": []
    },
    {
      "cell_type": "markdown",
      "source": [
        "### Ejemplo 3.1: Condicionales simples (if, else, elif)\n"
      ],
      "metadata": {
        "id": "KA3FsiMQlLp_"
      }
    },
    {
      "cell_type": "code",
      "source": [
        "edad = int(input(\"¿Cuántos años tienes? \"))\n",
        "\n",
        "if edad >= 18:\n",
        "    print(\"Eres mayor de edad.\")\n",
        "else:\n",
        "    print(\"Eres menor de edad.\")\n"
      ],
      "metadata": {
        "id": "FgqtGbP8lNvd",
        "outputId": "dea224ed-afb2-4f90-af5d-c8635a442597",
        "colab": {
          "base_uri": "https://localhost:8080/"
        }
      },
      "execution_count": null,
      "outputs": [
        {
          "output_type": "stream",
          "name": "stdout",
          "text": [
            "¿Cuántos años tienes? 24\n",
            "Eres mayor de edad.\n"
          ]
        }
      ]
    },
    {
      "cell_type": "markdown",
      "source": [
        "### Ejercicio 3.1: Descuento basado en la edad\n",
        "\n",
        "Pide al usuario ingresar su edad y usa condicionales para aplicar los siguientes descuentos:\n",
        "- Si es menor de 18 años, obtiene un 50% de descuento.\n",
        "- Si tiene entre 18 y 65 años, obtiene un 10% de descuento.\n",
        "- Si es mayor de 65 años, obtiene un 30% de descuento."
      ],
      "metadata": {
        "id": "vp3MgC__lQyw"
      }
    },
    {
      "cell_type": "code",
      "source": [
        "edad = int(input(\"Cuantos años tienes? \"))\n",
        "\n",
        "if edad < 18:\n",
        "  print (\"obtiene un 50% de descuento\")\n",
        "elif edad >= 18 and edad <= 65:\n",
        "  print (\"obtiene un 10% de descuento\")\n",
        "else:\n",
        "  print (\"obtiene un 30% de descuento\")\n",
        "\n"
      ],
      "metadata": {
        "id": "8wxUXYwOlYNE",
        "colab": {
          "base_uri": "https://localhost:8080/"
        },
        "outputId": "b0ca7f63-6411-47c1-acb1-f1008c468f97"
      },
      "execution_count": null,
      "outputs": [
        {
          "output_type": "stream",
          "name": "stdout",
          "text": [
            "Cuantos años tienes? 25\n",
            "obtiene un 10% de descuento\n"
          ]
        }
      ]
    },
    {
      "cell_type": "code",
      "source": [
        "edad = int(input(\"Cuantos años tienes? \"))\n",
        "\n",
        "descuento = \"\"\n",
        "\n",
        "if edad < 18:\n",
        "  descuento =\"50% de descuento\"\n",
        "  print(\"50% de descuento\")\n",
        "elif edad >= 18 and edad <= 65:\n",
        "  descuento = \"10% de descuento\"\n",
        "  print(\"10% de descuento\")\n",
        "else:\n",
        "  descuento = \"30% de descuento\"\n",
        "  print(\"10% de descuento\")\n",
        "\n",
        "compra = float(input(\"Indicar monto de compra \"))\n",
        "\n",
        "valor_descuento = {\n",
        "    \"50% de descuento\": 50,\n",
        "    \"10% de descuento\": 10,\n",
        "    \"30% de descuento\": 30\n",
        "}\n",
        "\n",
        "descuento_total = (valor_descuento [descuento] / 100) * compra\n",
        "\n",
        "monto_total = compra - descuento_total\n",
        "\n",
        "print(f\"El monto total a pagar es: {monto_total}\")"
      ],
      "metadata": {
        "outputId": "dd2f1225-4ad7-41d1-a31b-e0ef324d3034",
        "colab": {
          "base_uri": "https://localhost:8080/"
        },
        "id": "wUUREDSsEtAt"
      },
      "execution_count": null,
      "outputs": [
        {
          "output_type": "stream",
          "name": "stdout",
          "text": [
            "Cuantos años tienes? 30\n",
            "10% de descuento\n",
            "Indicar monto de compra 50\n",
            "El monto total a pagar es: 45.0\n"
          ]
        }
      ]
    },
    {
      "cell_type": "markdown",
      "source": [
        "### Ejemplo 3.2: Condicionales con varias condiciones\n"
      ],
      "metadata": {
        "id": "x69-544MlYj_"
      }
    },
    {
      "cell_type": "code",
      "source": [
        "temperatura = int(input(\"¿Cuál es la temperatura actual en grados? \"))\n",
        "\n",
        "if temperatura > 30:\n",
        "    print(\"Hace mucho calor.\")\n",
        "elif temperatura > 20:\n",
        "    print(\"El clima es agradable.\")\n",
        "else:\n",
        "    print(\"Hace frío.\")\n"
      ],
      "metadata": {
        "id": "NJsA92zIlaox"
      },
      "execution_count": null,
      "outputs": []
    },
    {
      "cell_type": "markdown",
      "source": [
        "### Ejercicio 3.2: Estado de la temperatura\n",
        "\n",
        "Crea un programa que pida al usuario la temperatura en su ciudad y determine:\n",
        "- Si es mayor de 30 grados, imprime \"Hace mucho calor\".\n",
        "- Si está entre 20 y 30 grados, imprime \"El clima es agradable\".\n",
        "- Si es menor de 20 grados, imprime \"Hace frío\"."
      ],
      "metadata": {
        "id": "803QF-Ubldb2"
      }
    },
    {
      "cell_type": "code",
      "source": [],
      "metadata": {
        "id": "UkrBmkIcmoP_"
      },
      "execution_count": null,
      "outputs": []
    },
    {
      "cell_type": "markdown",
      "source": [
        "### Ejemplo 3.3: Anidamiento de condicionales\n"
      ],
      "metadata": {
        "id": "mZr5Inw5llEd"
      }
    },
    {
      "cell_type": "code",
      "source": [
        "edad = int(input(\"¿Cuál es tu edad? \"))\n",
        "ingreso = int(input(\"¿Cuál es tu ingreso mensual en USD? \"))\n",
        "\n",
        "if edad >= 18:\n",
        "    if ingreso >= 1000:\n",
        "        print(\"Puedes solicitar una tarjeta de crédito.\")\n",
        "    else:\n",
        "        print(\"No tienes suficiente ingreso para solicitar una tarjeta.\")\n",
        "else:\n",
        "    print(\"Debes ser mayor de 18 para solicitar una tarjeta.\")\n"
      ],
      "metadata": {
        "id": "-9keYMbAlnBd",
        "outputId": "170ed729-a271-4342-817d-ca60c9ef7909",
        "colab": {
          "base_uri": "https://localhost:8080/"
        }
      },
      "execution_count": null,
      "outputs": [
        {
          "output_type": "stream",
          "name": "stdout",
          "text": [
            "¿Cuál es tu edad? 25\n",
            "¿Cuál es tu ingreso mensual en USD? 500\n",
            "No tienes suficiente ingreso para solicitar una tarjeta.\n"
          ]
        }
      ]
    },
    {
      "cell_type": "markdown",
      "source": [
        "### Ejercicio 3.3: Sistema de votación\n",
        "\n",
        "Crea un programa que determine si una persona puede votar. Pide al usuario su nacionalidad y edad.\n",
        "- Si la persona es de nacionalidad \"Peruana\" y mayor de 18 años, permite que vote.\n",
        "- Si es menor de edad o no es de esa nacionalidad, no puede votar."
      ],
      "metadata": {
        "id": "s98IAPjIlpkY"
      }
    },
    {
      "cell_type": "code",
      "source": [
        "edad = int(input(\"¿Cuál es tu edad? \"))\n",
        "nacionalidad = str(input(\"¿Cuál es su nacionalidad? \")).lower()\n",
        "\n",
        "if edad >= 18:\n",
        "    if nacionalidad == \"peruana\":\n",
        "        print(\"Puedes votar\")\n",
        "    else:\n",
        "        print(\"No puedes votar\")\n",
        "\n",
        "elif nacionalidad == \"peruana\":\n",
        "    if edad >= 18:\n",
        "        print(\"Puedes votar\")\n",
        "    else:\n",
        "        print(\"No puedes votar\")\n",
        "\n",
        "else:\n",
        "    print(\"Debes ser mayor de 18 para votar\")"
      ],
      "metadata": {
        "id": "Ii171M1omnjG",
        "outputId": "31f3a43e-9035-4522-facf-067480c139f9",
        "colab": {
          "base_uri": "https://localhost:8080/"
        }
      },
      "execution_count": null,
      "outputs": [
        {
          "output_type": "stream",
          "name": "stdout",
          "text": [
            "¿Cuál es tu edad? 25\n",
            "¿Cuál es su nacionalidad? peruana\n",
            "Puedes votar\n"
          ]
        }
      ]
    },
    {
      "cell_type": "markdown",
      "source": [
        "### Ejemplo 3.4: Condicionales con operadores lógicos\n"
      ],
      "metadata": {
        "id": "NTCPiw7Mlv8N"
      }
    },
    {
      "cell_type": "code",
      "source": [
        "nota = int(input(\"¿Cuál es tu nota? \"))\n",
        "\n",
        "if nota >= 90 and nota <= 100:\n",
        "    print(\"Excelente\")\n",
        "elif nota >= 70 and nota < 90:\n",
        "    print(\"Aprobado\")\n",
        "else:\n",
        "    print(\"Reprobado\")\n"
      ],
      "metadata": {
        "id": "hp478v7tlyAz"
      },
      "execution_count": null,
      "outputs": []
    },
    {
      "cell_type": "markdown",
      "source": [
        "### Ejercicio 3.4: Notas de estudiantes\n",
        "\n",
        "Escribe un programa que determine la calificación de un estudiante en función de su nota:\n",
        "- Si la nota es mayor o igual a 90: \"Sobresaliente\".\n",
        "- Si está entre 70 y 89: \"Aprobado\".\n",
        "- Si es menor de 70: \"Desaprobado\"."
      ],
      "metadata": {
        "id": "GdtTJckEl0TL"
      }
    },
    {
      "cell_type": "code",
      "source": [],
      "metadata": {
        "id": "Mo1leF6PmnG4"
      },
      "execution_count": null,
      "outputs": []
    },
    {
      "cell_type": "markdown",
      "source": [
        "## <b>4. Desafío</b>"
      ],
      "metadata": {
        "id": "K8ioDMpJl8zI"
      }
    },
    {
      "cell_type": "markdown",
      "source": [
        "### Desafío 1: Calculadora de propinas inteligente\n",
        "\n",
        "Crea un programa que simule una calculadora de propinas en un restaurante. El programa debe:\n",
        "\n",
        "- Pedir al usuario que ingrese el total de la cuenta.\n",
        "- Pedir el porcentaje de propina que le gustaría dejar (por ejemplo, 10%, 15%, 20%).\n",
        "\n",
        "Usar condicionales para sugerir automáticamente un valor si no se ingresa un porcentaje, basándose en la experiencia:\n",
        "\n",
        "- Si el servicio fue excelente, sugerir 20%.\n",
        "- Si el servicio fue bueno, sugerir 15%.\n",
        "- Si el servicio fue mediocre, sugerir 10%.\n",
        "- Si el servicio fue malo, no sugerir propina.\n",
        "\n",
        "Calcular e imprimir la cantidad de propina y el total a pagar (cuenta + propina)."
      ],
      "metadata": {
        "id": "mQkPuK6ymKTk"
      }
    },
    {
      "cell_type": "code",
      "source": [
        "cuenta = float(input(\"Ingrese el total de la cuenta:\"))\n",
        "experiencia = input(\"Cual fue su experiencia? (excelente, bueno, medio, malo):\").strip().lower()\n",
        "\n",
        "valor_experiencia = {\n",
        "    \"excelente\": 20,\n",
        "    \"bueno\": 15,\n",
        "    \"medio\": 10,\n",
        "    \"malo\": 0\n",
        "}\n",
        "\n",
        "calculo_propina = (valor_experiencia[experiencia] / 100) * cuenta\n",
        "\n",
        "total_a_pagar = calculo_propina + cuenta\n",
        "\n",
        "print(f\"El valor de la propina es: {calculo_propina}\")\n",
        "print(f\"El total a pagar es: {total_a_pagar}\")\n"
      ],
      "metadata": {
        "id": "43HiaKjEmmPg",
        "outputId": "d84589ce-bca3-4846-f93c-4e62e05e8341",
        "colab": {
          "base_uri": "https://localhost:8080/"
        }
      },
      "execution_count": null,
      "outputs": [
        {
          "output_type": "stream",
          "name": "stdout",
          "text": [
            "Ingrese el total de la cuenta:100\n",
            "Cual fue su experiencia? (excelente, bueno, medio, malo):medio\n",
            "El valor de la propina es: 10.0\n",
            "El total a pagar es: 110.0\n"
          ]
        }
      ]
    },
    {
      "cell_type": "code",
      "source": [
        "total = float(input('Ingrese el monto total del servicio: '))\n",
        "service = input('¿Cómo calificaría el servicio? (excelente, bueno, mediocre, malo): ').lower()\n",
        "\n",
        "if service not in ('excelente', 'bueno', 'mediocre', 'malo'):\n",
        "    print(f'{service} no es una opción válida. \\nVuelva a ejecutar el programa')\n",
        "\n",
        "else:\n",
        "    if service == 'excelente':\n",
        "        response = input('¿Desea usted agregar el 20% de propina? y/n: ')\n",
        "        if response == 'y':\n",
        "            tip = total*0.2\n",
        "        else:\n",
        "            tip_percentage = float(input('¿Qué porcentaje desea agregar de propina?. Ejem. 10, 20, 30: '))\n",
        "            tip = total*tip_percentage/100\n",
        "\n",
        "    elif service == 'bueno':\n",
        "        response = input('¿Desea usted agregar el 15% de propina? y/n: ')\n",
        "        if response == 'y':\n",
        "            tip = total*0.15\n",
        "        else:\n",
        "            tip_percentage = float(input('¿Qué porcentaje desea agregar de propina?. Ejem. 10, 20, 30: '))\n",
        "            tip = total*tip_percentage/100\n",
        "elif service == 'mediocre':\n",
        "        response = input('¿Desea usted agregar el 10% de propina? y/n: ')\n",
        "        if response == 'y':\n",
        "            tip = total*0.1\n",
        "        else:\n",
        "            tip_percentage = float(input('¿Qué porcentaje desea agregar de propina?. Ejem. 10, 20, 30: '))\n",
        "            tip = total*tip_percentage/100\n",
        "\n",
        "    else:\n",
        "        tip_percentage = float(input('¿Qué porcentaje desea agregar de propina?. Ejem. 10, 20, 30: '))\n",
        "        tip = total*tip_percentage/100\n",
        "\n",
        "    print(f'La cuenta total es de: {tip + total} \\nmuchas gracias por su preferencia!')\n",
        "monto = 180\n",
        "service = 'bueno'\n",
        "\n",
        "if service == 'excelente':\n",
        "    print(f'el monto final es: {monto*1.2}')\n",
        "elif service == 'bueno':\n",
        "    print(f'el monto final es: {monto*1.15}')\n",
        "elif service == 'mediocre':\n",
        "    print(f'el monto final es: {monto*1.10}')\n",
        "elif service == 'malo':\n",
        "    print(f'el monto final es: {monto}')\n",
        "else:\n",
        "    print('por favor, revise los datos')\n",
        "\n",
        "print('programa terminado')"
      ],
      "metadata": {
        "id": "FLCpnXRTMU7-"
      },
      "execution_count": null,
      "outputs": []
    },
    {
      "cell_type": "markdown",
      "source": [],
      "metadata": {
        "id": "hvhvI6KsNr4f"
      }
    },
    {
      "cell_type": "markdown",
      "source": [
        "### Desafío 2: Clasificación de Números\n",
        "\n",
        "Escribe un programa que clasifique un número dado por el usuario según sus características numéricas. El programa debe:\n",
        "\n",
        "Pedir al usuario que ingrese un número entero.\n",
        "\n",
        "Determinar si el número es:\n",
        "- Par o impar.\n",
        "- Positivo, negativo o cero.\n",
        "- Primo o no primo (un número primo solo es divisible por 1 y por sí mismo).\n",
        "- Imprimir una clasificación completa del número según las tres categorías anteriores."
      ],
      "metadata": {
        "id": "GO8pGoUJmuMM"
      }
    },
    {
      "cell_type": "code",
      "source": [],
      "metadata": {
        "id": "9cSqIXwvnnT_"
      },
      "execution_count": null,
      "outputs": []
    },
    {
      "cell_type": "markdown",
      "source": [
        "---\n",
        "\n",
        "# Gracias por completar este laboratorio!\n",
        "\n",
        "---"
      ],
      "metadata": {
        "id": "_G9dWzTgp6-m"
      }
    }
  ]
}