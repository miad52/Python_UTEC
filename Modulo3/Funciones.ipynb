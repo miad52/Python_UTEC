{
  "nbformat": 4,
  "nbformat_minor": 0,
  "metadata": {
    "colab": {
      "name": "modulo 3.ipynb",
      "provenance": [],
      "include_colab_link": true
    },
    "kernelspec": {
      "name": "python3",
      "display_name": "Python 3"
    },
    "language_info": {
      "name": "python"
    }
  },
  "cells": [
    {
      "cell_type": "markdown",
      "metadata": {
        "id": "view-in-github",
        "colab_type": "text"
      },
      "source": [
        "<a href=\"https://colab.research.google.com/github/miad52/Python_UTEC/blob/main/Modulo3/Funciones.ipynb\" target=\"_parent\"><img src=\"https://colab.research.google.com/assets/colab-badge.svg\" alt=\"Open In Colab\"/></a>"
      ]
    },
    {
      "cell_type": "markdown",
      "source": [
        "<img src=\"https://www.ctic.uni.edu.pe/wp-content/uploads/2022/04/588px-x-348px-web-1.png\" alt=\"HTML5 Icon\" width=\"900\" height=\"350\" >"
      ],
      "metadata": {
        "id": "kt2I6UBTXfTx"
      }
    },
    {
      "cell_type": "markdown",
      "source": [
        "<h1 align=center><font size = 5>UNIDAD III - FUNCIONES\n",
        "</font></h1>\n",
        "\n",
        "---"
      ],
      "metadata": {
        "id": "OVQ2JpIkXhGH"
      }
    },
    {
      "cell_type": "markdown",
      "source": [
        "## Tabla de Contenidos\n",
        "\n",
        "<div class=\"alert alert-block alert-info\" style=\"margin-top: 20px\">\n",
        "\n",
        "<font size = 3>\n",
        "    \n",
        "1. <a href=\"#item31\">Definiendo funciones</a>\n",
        "2. <a href=\"#item31\">Usando información dentro de funciones</a>  \n",
        "3. <a href=\"#item31\">Valores de retorno</a>  \n",
        "4. <a href=\"#item31\">Usando funciones con loops while</a>  \n",
        "5. <a href=\"#item31\">Usando listas</a>  \n",
        "6. <a href=\"#item31\">Pasar un número arbitrario de argumentos</a>  \n",
        "7. <a href=\"#item31\">Almacenamiento de funciones con módulos</a>  \n",
        "8. <a href=\"#item31\">Clases</a>  \n",
        "\n",
        "</font>\n",
        "</div>\n",
        "\n",
        "---"
      ],
      "metadata": {
        "id": "dR78NGA6Xv_r"
      }
    },
    {
      "cell_type": "markdown",
      "source": [
        "#1. Definiendo funciones"
      ],
      "metadata": {
        "id": "WgFT9B7xYLXC"
      }
    },
    {
      "cell_type": "code",
      "source": [
        "name = input('Ingrese su nombre: ')\n",
        "print(f'hola {name}, mucho gusto!')\n"
      ],
      "metadata": {
        "id": "P6oMoHb24ZuQ"
      },
      "execution_count": null,
      "outputs": []
    },
    {
      "cell_type": "code",
      "source": [
        "\n",
        "def saludo(name):\n",
        "  \"\"\"Esta función saluda al estudiante que ingrese su nombre.\n",
        "\n",
        "  Parameters\n",
        "  ----------\n",
        "  name: Es el nombre del estudiante\"\"\"\n",
        "  print(f'hola {name}, mucho gusto!')\n"
      ],
      "metadata": {
        "id": "2qq-CS-14vDk"
      },
      "execution_count": null,
      "outputs": []
    },
    {
      "cell_type": "code",
      "source": [
        "saludo('John')"
      ],
      "metadata": {
        "id": "70bAdv9V6DIw"
      },
      "execution_count": null,
      "outputs": []
    },
    {
      "cell_type": "code",
      "source": [
        "saludo('Luis')"
      ],
      "metadata": {
        "id": "u8esOiW36VKy"
      },
      "execution_count": null,
      "outputs": []
    },
    {
      "cell_type": "code",
      "source": [
        "saludo(input('Ingresa tu nombre: '))"
      ],
      "metadata": {
        "id": "9R7ayEXi8LMh"
      },
      "execution_count": null,
      "outputs": []
    },
    {
      "cell_type": "code",
      "source": [
        "saludo?"
      ],
      "metadata": {
        "id": "udWbjnTa6ZkL"
      },
      "execution_count": null,
      "outputs": []
    },
    {
      "cell_type": "code",
      "source": [
        "import pandas as pd\n",
        "pd?"
      ],
      "metadata": {
        "id": "UQgi_B0I8eGf"
      },
      "execution_count": null,
      "outputs": []
    },
    {
      "cell_type": "code",
      "source": [
        "type(saludo)"
      ],
      "metadata": {
        "id": "6mls-t4A8pSU"
      },
      "execution_count": null,
      "outputs": []
    },
    {
      "cell_type": "code",
      "source": [
        "import sklearn"
      ],
      "metadata": {
        "id": "VOtJdvNZ6oQd"
      },
      "execution_count": null,
      "outputs": []
    },
    {
      "cell_type": "code",
      "source": [
        "sklearn.clone?"
      ],
      "metadata": {
        "id": "O4mxa9ky6svA"
      },
      "execution_count": null,
      "outputs": []
    },
    {
      "cell_type": "code",
      "source": [
        "def funcion():\n",
        "  \"\"\"Esta es la documentación de mi función\n",
        "     Esta funcion printea un mensaje de prueba\n",
        "     - Esta función no tiene parámetros\"\"\"\n",
        "  print(\"esta es una prueba\")\n"
      ],
      "metadata": {
        "id": "B_SRqc6sSuwd"
      },
      "execution_count": null,
      "outputs": []
    },
    {
      "cell_type": "code",
      "source": [
        "funcion()"
      ],
      "metadata": {
        "id": "4qMdJxlFTqId"
      },
      "execution_count": null,
      "outputs": []
    },
    {
      "cell_type": "code",
      "source": [
        "funcion?"
      ],
      "metadata": {
        "id": "z_3BmhDwT3sB"
      },
      "execution_count": null,
      "outputs": []
    },
    {
      "cell_type": "code",
      "execution_count": null,
      "metadata": {
        "id": "aegdMKDxXefq"
      },
      "outputs": [],
      "source": [
        "def greet_user():\n",
        "    \"\"\"Escribir un saludo simple.\"\"\"\n",
        "    print(\"Hola!!\")\n"
      ]
    },
    {
      "cell_type": "code",
      "source": [
        "greet_user()"
      ],
      "metadata": {
        "id": "TOZdVi5OZTRZ"
      },
      "execution_count": null,
      "outputs": []
    },
    {
      "cell_type": "code",
      "source": [
        "greet_user?"
      ],
      "metadata": {
        "id": "Kj7qdHDUUceC"
      },
      "execution_count": null,
      "outputs": []
    },
    {
      "cell_type": "markdown",
      "source": [
        "#2. Usando información dentro de funciones"
      ],
      "metadata": {
        "id": "p7e7CUC_YjWU"
      }
    },
    {
      "cell_type": "code",
      "source": [
        "def greet_user(username):\n",
        "    \"\"\"Escribir un saludo simple.\"\"\"\n",
        "    print(f\"Hola, {username.title()}!\")\n"
      ],
      "metadata": {
        "id": "7_LUnJKwY7Jm"
      },
      "execution_count": null,
      "outputs": []
    },
    {
      "cell_type": "code",
      "source": [
        "greet_user('John')"
      ],
      "metadata": {
        "id": "jVoZm31qZV9O"
      },
      "execution_count": null,
      "outputs": []
    },
    {
      "cell_type": "code",
      "source": [
        "greet_user('Victor')"
      ],
      "metadata": {
        "id": "NzTUG3LpVZ0W"
      },
      "execution_count": null,
      "outputs": []
    },
    {
      "cell_type": "code",
      "source": [
        "greet_user('Margarita')"
      ],
      "metadata": {
        "id": "Db7gK5PoVcsE"
      },
      "execution_count": null,
      "outputs": []
    },
    {
      "cell_type": "markdown",
      "source": [
        "**Ejercicio**\n",
        "\n",
        "Define una función que calcule el promedio de dos números."
      ],
      "metadata": {
        "id": "452vooop-OG8"
      }
    },
    {
      "cell_type": "code",
      "source": [
        "\n"
      ],
      "metadata": {
        "id": "JZa6rQ92-Yod"
      },
      "execution_count": null,
      "outputs": []
    },
    {
      "cell_type": "markdown",
      "source": [
        "**Ejercicio**\n",
        "\n",
        "Define una función que tenga dos inputs. El primero define hasta que valor se evaluará el conjunto de números (M) (Por ejemplo del 0 al 100) y el segundo será el valor del multiplo que se evaluará (n). La función debe printear todos los valores múltiplos de n menores que M."
      ],
      "metadata": {
        "id": "rEpGmW18Adw3"
      }
    },
    {
      "cell_type": "code",
      "source": [
        "\n"
      ],
      "metadata": {
        "id": "pfGnVbV-AEkj"
      },
      "execution_count": null,
      "outputs": []
    },
    {
      "cell_type": "markdown",
      "source": [
        "---\n",
        "\n",
        "<b> Ejercicio 1</b>\n",
        "\n",
        "Escriba una función llamada **display_message()** que imprima una oración que diga a todos lo que está aprendiendo en este capítulo. Llame a la función y asegúrese de que el mensaje se muestre correctamente.\n"
      ],
      "metadata": {
        "id": "D8I5O9AjZgLY"
      }
    },
    {
      "cell_type": "code",
      "source": [
        "# prompt: imprima un mensaje en color rojo\n",
        "print('\\033[91m' + \"This text is red\" + '\\033[0m')\n"
      ],
      "metadata": {
        "id": "6LdRanlo0QiJ"
      },
      "execution_count": null,
      "outputs": []
    },
    {
      "cell_type": "code",
      "source": [
        "def display_message():\n",
        "  \"\"\"imprimir una oración que diga a todos lo que está aprendiendo en este capítulo\"\"\"\n",
        "  print('\\033[91m' + \"Estamos aprendiendo de funciones en Python!!!\"+ '\\033[0m')\n"
      ],
      "metadata": {
        "id": "R0aZ-TvoVoPW"
      },
      "execution_count": null,
      "outputs": []
    },
    {
      "cell_type": "code",
      "source": [
        "display_message()"
      ],
      "metadata": {
        "id": "OFcSWrPsWxBS",
        "outputId": "67e806aa-a6fc-44b8-9575-434bfeebeaf3",
        "colab": {
          "base_uri": "https://localhost:8080/"
        }
      },
      "execution_count": null,
      "outputs": [
        {
          "output_type": "stream",
          "name": "stdout",
          "text": [
            "\u001b[91mEstamos aprendiendo de funciones en Python!!!\u001b[0m\n"
          ]
        }
      ]
    },
    {
      "cell_type": "code",
      "source": [
        "print(\"\\033[32m{}\\033[0m\".format('hola'))\n"
      ],
      "metadata": {
        "id": "Fzs5A0Qu3TCu"
      },
      "execution_count": null,
      "outputs": []
    },
    {
      "cell_type": "code",
      "source": [
        "# prompt: imprime un mensaje rojo, azul y negro\n",
        "\n",
        "print('\\033[91m' + \"This text is red\" + '\\033[0m')\n",
        "print(\"\\033[34m{}\\033[0m\".format('This text is blue'))\n",
        "print(\"\\033[30m{}\\033[0m\".format('This text is black'))\n",
        "print('This text is normal')\n"
      ],
      "metadata": {
        "id": "U3Zi6neY5KdI"
      },
      "execution_count": null,
      "outputs": []
    },
    {
      "cell_type": "markdown",
      "source": [
        "**Ejercicio**\n",
        "\n",
        "Defina una función que reciba como input la gravedad de una alerta (baja, media y alta). La función deberá generar un mensaje de alerta dependiendo de la gravedad además de tener un color diferente por esta (negro, azul, rojo)."
      ],
      "metadata": {
        "id": "yKIq6DYv0o7c"
      }
    },
    {
      "cell_type": "code",
      "source": [],
      "metadata": {
        "id": "qhBB09eU1Ef2"
      },
      "execution_count": null,
      "outputs": []
    },
    {
      "cell_type": "code",
      "source": [
        "my_colours = {'black': '\\033[30m{}\\033[0m',\n",
        "              'blue' : '\\033[34m{}\\033[0m',\n",
        "              'red'  : '\\033[91m{}\\033[0m',\n",
        "              'green': '\\033[32m{}\\033[0m'}\n"
      ],
      "metadata": {
        "id": "u4q2KMQf-JVE"
      },
      "execution_count": null,
      "outputs": []
    },
    {
      "cell_type": "code",
      "source": [
        "print(my_colours['blue'].format('Este es un mensaje de color'))"
      ],
      "metadata": {
        "id": "vgClXxJa-oXS"
      },
      "execution_count": null,
      "outputs": []
    },
    {
      "cell_type": "markdown",
      "source": [
        "\n",
        "---\n",
        "\n",
        "<b> Ejercicio 2</b>\n",
        "\n",
        "Escriba una función llamada **favorite_book()** que acepte un parámetro, título. La función debe imprimir un mensaje, como Uno de mis libros favoritos es Alicia en el país de las maravillas. Llame a la función, asegurándose de incluir el título de un libro como argumento en la llamada a la función.\n",
        "\n",
        "---"
      ],
      "metadata": {
        "id": "hk_i1gS_bvyv"
      }
    },
    {
      "cell_type": "code",
      "source": [
        "\n"
      ],
      "metadata": {
        "id": "BRy_yROXVpdr"
      },
      "execution_count": null,
      "outputs": []
    },
    {
      "cell_type": "markdown",
      "source": [
        "### Posición de argumentos"
      ],
      "metadata": {
        "id": "xpi4CpaLewj-"
      }
    },
    {
      "cell_type": "markdown",
      "source": [
        "### Importancia de la posición de los argumentos"
      ],
      "metadata": {
        "id": "-uxdnnHkhf-F"
      }
    },
    {
      "cell_type": "code",
      "source": [
        "def describe_pet(animal_type, pet_name):\n",
        "    \"\"\"Display information about a pet.\"\"\"\n",
        "    print(f\"\\nI have a {animal_type}.\")\n",
        "    print(f\"My {animal_type}'s name is {pet_name.title()}.\")\n"
      ],
      "metadata": {
        "id": "o7HR4g4ThqU_"
      },
      "execution_count": null,
      "outputs": []
    },
    {
      "cell_type": "code",
      "source": [
        "describe_pet('harry', 'hamster')"
      ],
      "metadata": {
        "id": "3BhoaFayhre-"
      },
      "execution_count": null,
      "outputs": []
    },
    {
      "cell_type": "markdown",
      "source": [
        "### Argumentos clave"
      ],
      "metadata": {
        "id": "dIj2FL74jEmQ"
      }
    },
    {
      "cell_type": "code",
      "source": [
        "def describe_pet(animal_type, pet_name):\n",
        "    \"\"\"Display information about a pet.\"\"\"\n",
        "    print(f\"\\nI have a {animal_type}.\")\n",
        "    print(f\"My {animal_type}'s name is {pet_name}.\")\n"
      ],
      "metadata": {
        "id": "CVrsI1ozjELB"
      },
      "execution_count": null,
      "outputs": []
    },
    {
      "cell_type": "code",
      "source": [
        "describe_pet(pet_name = 'Harry', animal_type = 'hamster')\n"
      ],
      "metadata": {
        "id": "Xls6fpdYauO8"
      },
      "execution_count": null,
      "outputs": []
    },
    {
      "cell_type": "code",
      "source": [
        "describe_pet(animal_type = 'hamster', pet_name = 'Harry')"
      ],
      "metadata": {
        "id": "J2C9Ba48bGOH"
      },
      "execution_count": null,
      "outputs": []
    },
    {
      "cell_type": "code",
      "source": [
        "describe_pet(animal_type='hamster', pet_name='harry')"
      ],
      "metadata": {
        "id": "B3_6pdpWjMm6"
      },
      "execution_count": null,
      "outputs": []
    },
    {
      "cell_type": "code",
      "source": [
        "describe_pet(animal_type='hamster', pet_name='harry')\n",
        "describe_pet(pet_name='harry', animal_type='hamster')"
      ],
      "metadata": {
        "id": "gnHxotr3qZ9f"
      },
      "execution_count": null,
      "outputs": []
    },
    {
      "cell_type": "markdown",
      "source": [
        "### Valores por default"
      ],
      "metadata": {
        "id": "b4OI6nMUqdw5"
      }
    },
    {
      "cell_type": "code",
      "source": [
        "def describe_pet(pet_name = 'Vaguito', animal_type = 'dog'):\n",
        "    \"\"\"Display information about a pet.\"\"\"\n",
        "    print(f\"\\nI have a {animal_type}.\")\n",
        "    print(f\"My {animal_type}'s name is {pet_name.title()}.\")\n"
      ],
      "metadata": {
        "id": "7uNRA9WQCXvD"
      },
      "execution_count": null,
      "outputs": []
    },
    {
      "cell_type": "code",
      "source": [
        "describe_pet('Dave', 'Puerquito')"
      ],
      "metadata": {
        "id": "Gai6xiDZDyib"
      },
      "execution_count": null,
      "outputs": []
    },
    {
      "cell_type": "code",
      "source": [
        "def describe_pet(pet_name = 'Vaguito', animal_type = None):\n",
        "    \"\"\"Display information about a pet.\"\"\"\n",
        "    print(f\"\\nI have a {animal_type}.\")\n",
        "    print(f\"My {animal_type}'s name is {pet_name.title()}.\")"
      ],
      "metadata": {
        "id": "ztTuoXVFEg2a"
      },
      "execution_count": null,
      "outputs": []
    },
    {
      "cell_type": "code",
      "source": [
        "describe_pet('Vaguito')"
      ],
      "metadata": {
        "id": "lEMRYql_C6Bu"
      },
      "execution_count": null,
      "outputs": []
    },
    {
      "cell_type": "code",
      "source": [
        "describe_pet('Chirimoya', 'gato')"
      ],
      "metadata": {
        "id": "8X7ZYkGfDDiy"
      },
      "execution_count": null,
      "outputs": []
    },
    {
      "cell_type": "code",
      "source": [
        "def describe_pet(pet_name, animal_type='dog'):\n",
        "    \"\"\"Display information about a pet.\"\"\"\n",
        "    print(f\"\\nI have a {animal_type}.\")\n",
        "    print(f\"My {animal_type}'s name is {pet_name.title()}.\")\n"
      ],
      "metadata": {
        "id": "JZKYMn3Tbk-2"
      },
      "execution_count": null,
      "outputs": []
    },
    {
      "cell_type": "code",
      "source": [
        "describe_pet(pet_name='willie')"
      ],
      "metadata": {
        "id": "fTkw_ZRbqmCn"
      },
      "execution_count": null,
      "outputs": []
    },
    {
      "cell_type": "code",
      "source": [
        "describe_pet('willie')"
      ],
      "metadata": {
        "id": "53Px7ITvqyBg"
      },
      "execution_count": null,
      "outputs": []
    },
    {
      "cell_type": "code",
      "source": [
        "describe_pet(pet_name='harry', animal_type='hamster')"
      ],
      "metadata": {
        "id": "Wsvo5SVorE6-"
      },
      "execution_count": null,
      "outputs": []
    },
    {
      "cell_type": "code",
      "source": [
        "describe_pet(animal_type='hamster', pet_name='harry')"
      ],
      "metadata": {
        "id": "LHDfpC4KJiYd"
      },
      "execution_count": null,
      "outputs": []
    },
    {
      "cell_type": "markdown",
      "source": [
        "### Llamadas a funciones equivalentes"
      ],
      "metadata": {
        "id": "Qli40ml8rNEu"
      }
    },
    {
      "cell_type": "code",
      "source": [
        "# Un perro llamado Willie.\n",
        "describe_pet('willie')\n",
        "describe_pet(pet_name='willie')"
      ],
      "metadata": {
        "id": "gRzBSP1JrrIp"
      },
      "execution_count": null,
      "outputs": []
    },
    {
      "cell_type": "code",
      "source": [
        "# un hamster llamado Harry.\n",
        "describe_pet('harry', 'hamster')\n",
        "describe_pet(pet_name='harry', animal_type='hamster')\n",
        "describe_pet(animal_type='hamster', pet_name='harry')\n"
      ],
      "metadata": {
        "id": "sUY0rHqYrQ8n"
      },
      "execution_count": null,
      "outputs": []
    },
    {
      "cell_type": "markdown",
      "source": [
        "### Evitar errores de argumento"
      ],
      "metadata": {
        "id": "21XnPX-tssX5"
      }
    },
    {
      "cell_type": "code",
      "source": [
        "describe_pet()"
      ],
      "metadata": {
        "id": "-IP0e-bDrkhC"
      },
      "execution_count": null,
      "outputs": []
    },
    {
      "cell_type": "markdown",
      "source": [
        "---\n",
        "\n",
        "<b> Ejercicio 1</b>\n",
        "\n",
        "Escribe una función llamada **make_shirt()** que acepte un tamaño y el texto de un mensaje que debería estar impreso en la camiseta. La función debe imprimir una oración que resuma el tamaño de la camisa y el mensaje impreso en ella.\n",
        "\n",
        "Llame a la función una vez usando argumentos posicionales para hacer una camisa. Llame a la función por segunda vez usando argumentos de palabras clave.\n"
      ],
      "metadata": {
        "id": "ixT6ac8IrM_m"
      }
    },
    {
      "cell_type": "code",
      "source": [],
      "metadata": {
        "id": "WUH6093hetPR"
      },
      "execution_count": null,
      "outputs": []
    },
    {
      "cell_type": "markdown",
      "source": [
        "---\n",
        "\n",
        "<b> Ejercicio 2</b>\n",
        "\n",
        "Modifique la función **make_shirt()** para que las camisetas sean grandes por defecto con un mensaje que diga Me encanta Python. Haz una camiseta grande y una camiseta mediana con el mensaje predeterminado y una camiseta de cualquier tamaño con un mensaje diferente.\n"
      ],
      "metadata": {
        "id": "SFKpbJpntvpg"
      }
    },
    {
      "cell_type": "code",
      "source": [],
      "metadata": {
        "id": "wQnffLX4fzcB"
      },
      "execution_count": null,
      "outputs": []
    },
    {
      "cell_type": "markdown",
      "source": [
        "---\n",
        "\n",
        "<b> Ejercicio 3</b>\n",
        "\n",
        "Escribe una función llamada **describe_city()** que acepte el nombre de una ciudad y su país. La función debe imprimir una oración simple, como Reykjavik está en Islandia. Asigne al parámetro para el país un valor predeterminado. Llame a su función para tres ciudades diferentes, al menos una de las cuales no se encuentra en el país predeterminado.\n",
        "\n",
        "----"
      ],
      "metadata": {
        "id": "G0qpoz40uBJt"
      }
    },
    {
      "cell_type": "code",
      "source": [],
      "metadata": {
        "id": "wYkmaCJTgYzQ"
      },
      "execution_count": null,
      "outputs": []
    },
    {
      "cell_type": "markdown",
      "source": [
        "# 3. Valores de retorno"
      ],
      "metadata": {
        "id": "KvclreKqv6oG"
      }
    },
    {
      "cell_type": "markdown",
      "source": [
        "### Retornando un valor simple"
      ],
      "metadata": {
        "id": "4MH4CoJqwGiI"
      }
    },
    {
      "cell_type": "code",
      "source": [
        "def suma(a, b):\n",
        "  \"\"\"this function add two values\"\"\"\n",
        "  resultado = a + b\n",
        "  print(resultado)"
      ],
      "metadata": {
        "id": "pEXBxgfULR07"
      },
      "execution_count": null,
      "outputs": []
    },
    {
      "cell_type": "code",
      "source": [
        "x = suma(4, 5)"
      ],
      "metadata": {
        "id": "6H11SdOQLb9Z"
      },
      "execution_count": null,
      "outputs": []
    },
    {
      "cell_type": "code",
      "source": [
        "x"
      ],
      "metadata": {
        "id": "1Oj_24SJLzNX"
      },
      "execution_count": null,
      "outputs": []
    },
    {
      "cell_type": "code",
      "source": [
        "def suma(a, b):\n",
        "  \"\"\"this function add two values\"\"\"\n",
        "  resultado = a + b\n",
        "  return resultado\n"
      ],
      "metadata": {
        "id": "17hSBuN4hXzj"
      },
      "execution_count": null,
      "outputs": []
    },
    {
      "cell_type": "code",
      "source": [
        "x, y = suma(9, 15)"
      ],
      "metadata": {
        "id": "l16JokBEMU0d"
      },
      "execution_count": null,
      "outputs": []
    },
    {
      "cell_type": "code",
      "source": [
        "suma(9, 15)"
      ],
      "metadata": {
        "id": "VIP417IENKvi"
      },
      "execution_count": null,
      "outputs": []
    },
    {
      "cell_type": "code",
      "source": [
        "x = suma(9, 15)"
      ],
      "metadata": {
        "id": "FSesr4GnhzX2"
      },
      "execution_count": null,
      "outputs": []
    },
    {
      "cell_type": "code",
      "source": [
        "def suma(a, b):\n",
        "  \"\"\"this function add two values\"\"\"\n",
        "  resultado = a + b\n",
        "  print(resultado)\n",
        "  return resultado"
      ],
      "metadata": {
        "id": "XgOfhUYHNfIK"
      },
      "execution_count": null,
      "outputs": []
    },
    {
      "cell_type": "code",
      "source": [
        "x = suma(90, 12)"
      ],
      "metadata": {
        "id": "oX2xJQFwNkEC"
      },
      "execution_count": null,
      "outputs": []
    },
    {
      "cell_type": "code",
      "source": [
        "x"
      ],
      "metadata": {
        "id": "URNPjyT2NvgT"
      },
      "execution_count": null,
      "outputs": []
    },
    {
      "cell_type": "code",
      "source": [
        "\n",
        "def get_formatted_name(first_name, last_name):\n",
        "    \"\"\"Return a full name, neatly formatted.\"\"\"\n",
        "    full_name = f\"{first_name} {last_name}\"\n",
        "    return full_name.title()\n"
      ],
      "metadata": {
        "id": "tclx-QIeuAo1"
      },
      "execution_count": null,
      "outputs": []
    },
    {
      "cell_type": "code",
      "source": [
        "get_formatted_name('jimi', 'hendrix')"
      ],
      "metadata": {
        "id": "hXeLNupPiWmg"
      },
      "execution_count": null,
      "outputs": []
    },
    {
      "cell_type": "code",
      "source": [
        "musician = get_formatted_name('jimi', 'hendrix')"
      ],
      "metadata": {
        "id": "C5YJZL-VibbL"
      },
      "execution_count": null,
      "outputs": []
    },
    {
      "cell_type": "code",
      "source": [
        "print(musician)"
      ],
      "metadata": {
        "id": "6ddSYS13iiQY"
      },
      "execution_count": null,
      "outputs": []
    },
    {
      "cell_type": "code",
      "source": [
        "musician = get_formatted_name('jimi', 'hendrix')\n",
        "print(musician)"
      ],
      "metadata": {
        "id": "27sXBuEKwOim"
      },
      "execution_count": null,
      "outputs": []
    },
    {
      "cell_type": "markdown",
      "source": [
        "### Argumento opcional"
      ],
      "metadata": {
        "id": "nao5U4jDw4jG"
      }
    },
    {
      "cell_type": "code",
      "source": [
        "def get_formatted_name(first_name, middle_name, last_name):\n",
        "    \"\"\"Return a full name, neatly formatted.\"\"\"\n",
        "    full_name = f\"{first_name} {middle_name} {last_name}\"\n",
        "    return full_name.title()\n"
      ],
      "metadata": {
        "id": "EeNB31AJw33c"
      },
      "execution_count": null,
      "outputs": []
    },
    {
      "cell_type": "code",
      "source": [
        "musician = get_formatted_name('john', 'lee', 'hooker')\n",
        "print(musician)"
      ],
      "metadata": {
        "id": "vAPRn5tyw-Hf"
      },
      "execution_count": null,
      "outputs": []
    },
    {
      "cell_type": "code",
      "source": [
        "def get_formatted_name(first_name, middle_name = '', last_name):\n",
        "    \"\"\"Return a full name, neatly formatted.\"\"\"\n",
        "    full_name = f\"{first_name} {middle_name} {last_name}\"\n",
        "    return full_name.title()\n"
      ],
      "metadata": {
        "id": "yqAv4EUEORf-"
      },
      "execution_count": null,
      "outputs": []
    },
    {
      "cell_type": "code",
      "source": [
        "def get_formatted_name(first_name, last_name, middle_name=''):\n",
        "  \"\"\"Return a full name\"\"\"\n",
        "  if middle_name:\n",
        "    full_name = f\"{first_name} {middle_name} {last_name}\"\n",
        "  else:\n",
        "    full_name = f\"{first_name} {last_name}\"\n",
        "  return full_name\n"
      ],
      "metadata": {
        "id": "_dFbUYqVjA_T"
      },
      "execution_count": null,
      "outputs": []
    },
    {
      "cell_type": "code",
      "source": [
        "def get_formatted_name(first_name, last_name, middle_name=''):\n",
        "  \"\"\"Return a full name, neatly formatted.\"\"\"\n",
        "  if middle_name:\n",
        "    full_name = f\"{first_name} {middle_name} {last_name}\"\n",
        "  else:\n",
        "    full_name = f\"{first_name} {last_name}\"\n",
        "  return full_name.title()\n"
      ],
      "metadata": {
        "id": "8DUIP8RNx0ep"
      },
      "execution_count": null,
      "outputs": []
    },
    {
      "cell_type": "code",
      "source": [
        "musician = get_formatted_name('jimi', 'hendrix')\n",
        "print(musician)"
      ],
      "metadata": {
        "id": "4AVIjrmZyFAA"
      },
      "execution_count": null,
      "outputs": []
    },
    {
      "cell_type": "code",
      "source": [
        "musician = get_formatted_name('john', 'hooker', 'lee')\n",
        "print(musician)"
      ],
      "metadata": {
        "id": "MdzB5-zhzC47"
      },
      "execution_count": null,
      "outputs": []
    },
    {
      "cell_type": "code",
      "source": [
        "musician = get_formatted_name(first_name = 'john',\n",
        "                              middle_name = 'lee',\n",
        "                              last_name = 'hooker')\n",
        "print(musician)"
      ],
      "metadata": {
        "id": "t00qUm2MO_Hd"
      },
      "execution_count": null,
      "outputs": []
    },
    {
      "cell_type": "markdown",
      "source": [
        "### Retornar un diccionario"
      ],
      "metadata": {
        "id": "vpguPIrPzgtU"
      }
    },
    {
      "cell_type": "code",
      "source": [
        "my_dict = {'EN01': \"Clases de ingles\",\n",
        "           'PY02': \"Clases de python\",\n",
        "           'MU03': \"Clases de musica\"}\n",
        "\n"
      ],
      "metadata": {
        "id": "WRoRgzkKk6or"
      },
      "execution_count": null,
      "outputs": []
    },
    {
      "cell_type": "code",
      "source": [
        "my_dict['PY02']"
      ],
      "metadata": {
        "id": "5OPHWg2llbFL"
      },
      "execution_count": null,
      "outputs": []
    },
    {
      "cell_type": "code",
      "source": [
        "my_dict"
      ],
      "metadata": {
        "id": "l3EBsr1ZPvEh"
      },
      "execution_count": null,
      "outputs": []
    },
    {
      "cell_type": "code",
      "source": [
        "my_dict['DA04'] = \"Clases de danza\""
      ],
      "metadata": {
        "id": "EbgvJud4lxiF"
      },
      "execution_count": null,
      "outputs": []
    },
    {
      "cell_type": "code",
      "source": [
        "my_dict"
      ],
      "metadata": {
        "id": "zUESmXDgl471"
      },
      "execution_count": null,
      "outputs": []
    },
    {
      "cell_type": "markdown",
      "source": [
        "**Ejercicio**\n",
        "\n",
        "Desarrolle una función que almacene en un diccionario el nombre de un estudiante y sus notas en los cursos de programación, estadística y física. El resultado de la función deberá ser el retorno de un diccionario con dichos valores.\n",
        "\n"
      ],
      "metadata": {
        "id": "Mx9jbScjQJsw"
      }
    },
    {
      "cell_type": "code",
      "source": [],
      "metadata": {
        "id": "PxV5qU76RvhU"
      },
      "execution_count": null,
      "outputs": []
    },
    {
      "cell_type": "markdown",
      "source": [
        "**Tarea**\n",
        "\n",
        "Desarrolle una función que almacene en un diccionario el nombre de un estudiante y sus notas en los cursos de programación, estadística y física. El resultado de la función deberá ser el retorno de un diccionario con dichos valores. Ahora prepare la función para que pueda almacenar la edad del estudiante y su universidad, la función no debe esperar necesariamente estos valores pero si debe almacenarlos si es que se declaran.\n"
      ],
      "metadata": {
        "id": "cc00yHUyS3zJ"
      }
    },
    {
      "cell_type": "code",
      "source": [],
      "metadata": {
        "id": "9-BVNgKz45Go"
      },
      "execution_count": null,
      "outputs": []
    },
    {
      "cell_type": "markdown",
      "source": [
        "# 4. Usando funciones con loops while"
      ],
      "metadata": {
        "id": "tSAkV-as0rdS"
      }
    },
    {
      "cell_type": "code",
      "source": [
        "def get_formatted_name(first_name, last_name):\n",
        "    \"\"\"Return a full name, neatly formatted.\"\"\"\n",
        "    full_name = f\"{first_name} {last_name}\"\n",
        "    return full_name\n"
      ],
      "metadata": {
        "id": "c0OXOywJ1G3J"
      },
      "execution_count": null,
      "outputs": []
    },
    {
      "cell_type": "code",
      "source": [
        "\n",
        "# Este es un loop infinito!\n",
        "while True:\n",
        "    print(\"\\nPlease tell me your name:\")\n",
        "    f_name = input(\"First name: \")\n",
        "    l_name = input(\"Last name: \")\n",
        "    formatted_name = get_formatted_name(f_name, l_name)\n",
        "    print(f\"\\nHello, {formatted_name}!\")\n"
      ],
      "metadata": {
        "id": "zcGug0pB1IXp"
      },
      "execution_count": null,
      "outputs": []
    },
    {
      "cell_type": "code",
      "source": [
        "def get_formatted_name(first_name, last_name):\n",
        "    \"\"\"Return a full name, neatly formatted.\"\"\"\n",
        "    full_name = f\"{first_name} {last_name}\"\n",
        "    return full_name\n",
        "\n",
        "while True:\n",
        "    print(\"\\nPlease tell me your name:\")\n",
        "    print(\"(enter 'quit' at any time to quit)\")\n",
        "\n",
        "    f_name = input(\"First name: \")\n",
        "    if f_name == 'quit':\n",
        "        break\n",
        "\n",
        "    l_name = input(\"Last name: \")\n",
        "    if l_name == 'quit':\n",
        "        break\n",
        "\n",
        "    formatted_name = get_formatted_name(f_name, l_name)\n",
        "    print(f\"\\nHello, {formatted_name}!\")\n"
      ],
      "metadata": {
        "id": "s6o4iZze1INO"
      },
      "execution_count": null,
      "outputs": []
    },
    {
      "cell_type": "markdown",
      "source": [
        "---\n",
        "\n",
        "<b> Ejercicio 1</b>\n",
        "\n",
        "Escribe una función llamada **city_country()** que tome el nombre de una ciudad y su país. La función debería devolver una cadena con el formato siguiente:\n",
        "\n",
        "\"Santiago, Chile\"\n",
        "\n",
        "Llame a su función con al menos tres pares de ciudades y países e imprima los valores que se devuelven.\n"
      ],
      "metadata": {
        "id": "WtFtOrbS4BzE"
      }
    },
    {
      "cell_type": "code",
      "source": [],
      "metadata": {
        "id": "WSb8L5D2yJwU"
      },
      "execution_count": null,
      "outputs": []
    },
    {
      "cell_type": "markdown",
      "source": [
        "---\n",
        "\n",
        "<b> Ejercicio 2</b>\n",
        "\n",
        "Escriba una función llamada **make_album()** que cree un diccionario que describa un álbum de música. La función debe tomar el nombre de un artista y el título de un álbum, y debe devolver un diccionario que contenga estos dos datos. Utilice la función para crear tres diccionarios que representen diferentes álbumes. Imprima cada valor devuelto para mostrar que los diccionarios están almacenando la información del álbum correctamente.\n",
        "\n",
        "Use <b>None</b> para agregar un parámetro opcional a **make_album()** que le permita almacenar la cantidad de canciones en un álbum. Si la línea de llamada incluye un valor para la cantidad de canciones, agregue ese valor al diccionario del álbum. Realice al menos una nueva llamada de función que incluya la cantidad de canciones en un álbum."
      ],
      "metadata": {
        "id": "z06Pz7sy4YG0"
      }
    },
    {
      "cell_type": "code",
      "source": [],
      "metadata": {
        "id": "5f3agzlP4_wF"
      },
      "execution_count": null,
      "outputs": []
    },
    {
      "cell_type": "markdown",
      "source": [
        "---\n",
        "\n",
        "<b> Ejercicio 3</b>\n",
        "\n",
        "Comience con su programa del ejercicio anterior. Escriba un ciclo while que permita a los usuarios ingresar el artista y el título de un álbum. Una vez que tenga esa información, llame a **make_album()** con la entrada del usuario e imprima el diccionario que se crea. Asegúrese de incluir un valor de salida en el ciclo while.\n",
        "\n",
        "---"
      ],
      "metadata": {
        "id": "5iazrd6w5n-m"
      }
    },
    {
      "cell_type": "code",
      "source": [],
      "metadata": {
        "id": "DbxybE_q5ALu"
      },
      "execution_count": null,
      "outputs": []
    },
    {
      "cell_type": "markdown",
      "source": [
        "# 5. Usando Listas"
      ],
      "metadata": {
        "id": "pdvnfTPo6-Lq"
      }
    },
    {
      "cell_type": "code",
      "source": [
        "def greet_users(names):\n",
        "    \"\"\"Print a simple greeting to each user in the list.\"\"\"\n",
        "    for name in names:\n",
        "      msg = f\"Hola, {name}!\"\n",
        "      print(msg)"
      ],
      "metadata": {
        "id": "4dRXDc0j1Cbw"
      },
      "execution_count": null,
      "outputs": []
    },
    {
      "cell_type": "code",
      "source": [
        "greet_users(['John', 'Tamara', 'Fernando'])"
      ],
      "metadata": {
        "id": "p9ZGdx5H1Smm"
      },
      "execution_count": null,
      "outputs": []
    },
    {
      "cell_type": "code",
      "source": [
        "def greet_users(names):\n",
        "    \"\"\"Print a simple greeting to each user in the list.\"\"\"\n",
        "    for name in names:\n",
        "        msg = f\"Hello, {name.title()}!\"\n",
        "        print(msg)\n"
      ],
      "metadata": {
        "id": "BGbejE2r4A1P"
      },
      "execution_count": null,
      "outputs": []
    },
    {
      "cell_type": "code",
      "source": [
        "usernames = ['hannah', 'ty', 'margot']\n",
        "greet_users(usernames)"
      ],
      "metadata": {
        "id": "TfEjqeW08hQV"
      },
      "execution_count": null,
      "outputs": []
    },
    {
      "cell_type": "markdown",
      "source": [
        "### Modificar una lista en una función"
      ],
      "metadata": {
        "id": "irQJwQco81wH"
      }
    },
    {
      "cell_type": "code",
      "source": [
        "unprinted_designs = ['phone case', 'robot pendant', 'dodecahedron']\n",
        "unprinted_designs"
      ],
      "metadata": {
        "id": "XqjKX2vW2Djg"
      },
      "execution_count": null,
      "outputs": []
    },
    {
      "cell_type": "code",
      "source": [
        "unprinted_designs.pop()\n"
      ],
      "metadata": {
        "id": "-i80y_zF2Bed"
      },
      "execution_count": null,
      "outputs": []
    },
    {
      "cell_type": "code",
      "source": [
        "unprinted_designs"
      ],
      "metadata": {
        "id": "pmlp8rXN2Lt6"
      },
      "execution_count": null,
      "outputs": []
    },
    {
      "cell_type": "code",
      "source": [
        "completed_models = []"
      ],
      "metadata": {
        "id": "cGnEviba2fUf"
      },
      "execution_count": null,
      "outputs": []
    },
    {
      "cell_type": "code",
      "source": [
        "completed_models.append('John')"
      ],
      "metadata": {
        "id": "fdEvjPMq2hBN"
      },
      "execution_count": null,
      "outputs": []
    },
    {
      "cell_type": "code",
      "source": [
        "completed_models"
      ],
      "metadata": {
        "id": "6w1LVHrt2kCw"
      },
      "execution_count": null,
      "outputs": []
    },
    {
      "cell_type": "code",
      "source": [
        "# Comience con algunos diseños que deben imprimirse.\n",
        "unprinted_designs = ['phone case', 'robot pendant', 'dodecahedron']\n",
        "completed_models = []\n",
        "\n",
        "# Simule la impresión de cada diseño, hasta que no quede ninguno.\n",
        "# Mueva cada diseño a complete_models después de la impresión.\n",
        "while unprinted_designs:\n",
        "    current_design = unprinted_designs.pop()\n",
        "    print(f\"Printing model: {current_design}\")\n",
        "    completed_models.append(current_design)\n",
        "\n",
        "# Mostrar todos los modelos completados.\n",
        "print(\"\\nThe following models have been printed:\")\n",
        "for completed_model in completed_models:\n",
        "    print(completed_model)"
      ],
      "metadata": {
        "id": "68vDvNTE85BG"
      },
      "execution_count": null,
      "outputs": []
    },
    {
      "cell_type": "code",
      "source": [
        "\n",
        "def print_models(unprinted_designs, completed_models):\n",
        "    \"\"\"\n",
        "    Simulate printing each design, until none are left.\n",
        "    Move each design to completed_models after printing.\n",
        "    \"\"\"\n",
        "    while unprinted_designs:\n",
        "        current_design = unprinted_designs.pop()\n",
        "        print(f\"Printing model: {current_design}\")\n",
        "        completed_models.append(current_design)\n",
        "\n",
        "def show_completed_models(completed_models):\n",
        "    \"\"\"Show all the models that were printed.\"\"\"\n",
        "    print(\"\\nThe following models have been printed:\")\n",
        "    for completed_model in completed_models:\n",
        "        print(completed_model)\n",
        "\n"
      ],
      "metadata": {
        "id": "d2v14isCBl7k"
      },
      "execution_count": null,
      "outputs": []
    },
    {
      "cell_type": "code",
      "source": [
        "unprinted_designs = ['phone case', 'robot pendant', 'dodecahedron']\n",
        "completed_models = []\n",
        "\n"
      ],
      "metadata": {
        "id": "3F3aSIhnCJRS"
      },
      "execution_count": null,
      "outputs": []
    },
    {
      "cell_type": "code",
      "source": [
        "print_models(unprinted_designs, completed_models)\n",
        "show_completed_models(completed_models)\n"
      ],
      "metadata": {
        "id": "wH-0lGn73esW"
      },
      "execution_count": null,
      "outputs": []
    },
    {
      "cell_type": "markdown",
      "source": [
        "---\n",
        "\n",
        "<b> Ejercicio 1</b>\n",
        "\n",
        "Haz una lista que contenga una serie de mensajes de texto cortos. Pase la lista a una función llamada **show_messages()**, que imprime cada mensaje de texto.\n"
      ],
      "metadata": {
        "id": "AxoQ8UkPLzhr"
      }
    },
    {
      "cell_type": "code",
      "source": [],
      "metadata": {
        "id": "lDsMfVsh5J-6"
      },
      "execution_count": null,
      "outputs": []
    },
    {
      "cell_type": "markdown",
      "source": [
        "---\n",
        "\n",
        "<b> Ejercicio 2</b>\n",
        "\n",
        "Comience con una copia de su programa del Ejercicio anterior. Escriba una función llamada **send_messages()** que imprima cada mensaje de texto y mueva cada mensaje a una nueva lista llamada sent_messages a medida que se imprime. Después de llamar a la función, imprima ambas listas para asegurarse de que los mensajes se movieron correctamente."
      ],
      "metadata": {
        "id": "cr6vkbj-L_4Q"
      }
    },
    {
      "cell_type": "code",
      "source": [],
      "metadata": {
        "id": "xjbvhpY55iLV"
      },
      "execution_count": null,
      "outputs": []
    },
    {
      "cell_type": "markdown",
      "source": [
        "---\n",
        "\n",
        "<b> Ejercicio 3</b>\n",
        "\n",
        "Comience con su trabajo del Ejercicio anterior. Llame a la función **send_messages()** con una copia de la lista de mensajes. Después de llamar a la función, imprima ambas listas para mostrar que la lista original ha conservado sus mensajes.\n",
        "\n",
        "---"
      ],
      "metadata": {
        "id": "DeKTopX9McDP"
      }
    },
    {
      "cell_type": "code",
      "source": [],
      "metadata": {
        "id": "QLD2y6HD5KsT"
      },
      "execution_count": null,
      "outputs": []
    },
    {
      "cell_type": "markdown",
      "source": [
        "# 6. Pasar un número arbitrario de argumentos"
      ],
      "metadata": {
        "id": "Wnme938ANSqz"
      }
    },
    {
      "cell_type": "code",
      "source": [
        "def make_pizza(*toppings):\n",
        "    \"\"\"Print the list of toppings that have been requested.\"\"\"\n",
        "    print(toppings)\n"
      ],
      "metadata": {
        "id": "GqEL53UHDxWl"
      },
      "execution_count": null,
      "outputs": []
    },
    {
      "cell_type": "code",
      "source": [
        "make_pizza('pepperoni')"
      ],
      "metadata": {
        "id": "6QleoN8X63w-"
      },
      "execution_count": null,
      "outputs": []
    },
    {
      "cell_type": "code",
      "source": [
        "\n",
        "make_pizza('mushrooms', 'green peppers', 'extra cheese')"
      ],
      "metadata": {
        "id": "SQgZl_dgDwue"
      },
      "execution_count": null,
      "outputs": []
    },
    {
      "cell_type": "code",
      "source": [
        "def make_pizza(*toppings):\n",
        "    \"\"\"Summarize the pizza we are about to make.\"\"\"\n",
        "    print(\"\\nMaking a pizza with the following toppings:\")\n",
        "    for topping in toppings:\n",
        "        print(f\"- {topping}\")\n"
      ],
      "metadata": {
        "id": "_fejq6AGN0Uf"
      },
      "execution_count": null,
      "outputs": []
    },
    {
      "cell_type": "code",
      "source": [
        "make_pizza('pepperoni')\n",
        "make_pizza('mushrooms', 'green peppers', 'extra cheese')"
      ],
      "metadata": {
        "id": "-9hL5oSIN07z"
      },
      "execution_count": null,
      "outputs": []
    },
    {
      "cell_type": "markdown",
      "source": [
        "### Mezclar argumentos posicionales y arbitrarios"
      ],
      "metadata": {
        "id": "8NrI0kgCOLN2"
      }
    },
    {
      "cell_type": "code",
      "source": [
        "def make_pizza(size, *toppings):\n",
        "    \"\"\"Summarize the pizza we are about to make.\"\"\"\n",
        "    print(f\"\\nMaking a {size}-inch pizza with the following toppings:\")\n",
        "    for topping in toppings:\n",
        "        print(f\"- {topping}\")\n"
      ],
      "metadata": {
        "id": "LItqvKT2OMdS"
      },
      "execution_count": null,
      "outputs": []
    },
    {
      "cell_type": "code",
      "source": [
        "make_pizza(16, 'pepperoni')\n",
        "make_pizza(12, 'mushrooms', 'green peppers', 'extra cheese')"
      ],
      "metadata": {
        "id": "9OJO5HC0OTEP"
      },
      "execution_count": null,
      "outputs": []
    },
    {
      "cell_type": "markdown",
      "source": [
        "### Uso de argumentos de palabras clave arbitrarias"
      ],
      "metadata": {
        "id": "N6DxNYhpO_PL"
      }
    },
    {
      "cell_type": "code",
      "source": [
        "{'a':'a1',\n",
        " }"
      ],
      "metadata": {
        "id": "N7rGzzAi72fD"
      },
      "execution_count": null,
      "outputs": []
    },
    {
      "cell_type": "code",
      "source": [
        "my_dict['a'] = 'a1'"
      ],
      "metadata": {
        "id": "xBUVzZSU756z"
      },
      "execution_count": null,
      "outputs": []
    },
    {
      "cell_type": "code",
      "source": [
        "def build_profile(first, last, **user_info):\n",
        "    \"\"\"Build a dictionary containing everything we know about a user.\"\"\"\n",
        "    user_info['first_name'] = first\n",
        "    user_info['last_name'] = last\n",
        "    return user_info\n"
      ],
      "metadata": {
        "id": "tXBMgW8JPAyn"
      },
      "execution_count": null,
      "outputs": []
    },
    {
      "cell_type": "code",
      "source": [
        "user_profile = build_profile('albert', 'einstein')\n",
        "print(user_profile)"
      ],
      "metadata": {
        "id": "5Vgv0LQU8G_q"
      },
      "execution_count": null,
      "outputs": []
    },
    {
      "cell_type": "code",
      "source": [
        "user_profile = build_profile('albert', 'einstein',\n",
        "                             location='princeton',\n",
        "                             field='physics')\n",
        "print(user_profile)"
      ],
      "metadata": {
        "id": "uW5z9dNTPKyu"
      },
      "execution_count": null,
      "outputs": []
    },
    {
      "cell_type": "code",
      "source": [
        "user_profile = build_profile('John', 'Caballero',\n",
        "                             location='Peru',\n",
        "                             field='estadística',\n",
        "                             age=30,\n",
        "                             colour='azul')\n",
        "print(user_profile)"
      ],
      "metadata": {
        "id": "NgTwtf_H8YKu"
      },
      "execution_count": null,
      "outputs": []
    },
    {
      "cell_type": "markdown",
      "source": [
        "---\n",
        "\n",
        "<b> Ejercicio 1</b>\n",
        "\n",
        "Escribe una función que acepte una lista de artículos que una persona quiere en un sándwich. La función debe tener un parámetro que recopile tantos elementos como proporcione la llamada a la función, y debe imprimir un resumen del sándwich que se está ordenando. Llame a la función tres veces, usando un número diferente de argumentos cada vez."
      ],
      "metadata": {
        "id": "0kYhXVPvQSh_"
      }
    },
    {
      "cell_type": "code",
      "source": [],
      "metadata": {
        "id": "oQv0EqcC9cn5"
      },
      "execution_count": null,
      "outputs": []
    },
    {
      "cell_type": "markdown",
      "source": [
        "---\n",
        "\n",
        "<b> Ejercicio 2</b>\n",
        "\n",
        "Comience con una copia de **user_profile** de ***Uso de argumentos de palabras clave arbitrarias***. Cree un perfil de usted mismo llamando a **build_profile()**, usando su nombre y apellido y otros tres pares clave-valor que lo describan."
      ],
      "metadata": {
        "id": "NXvPqgVZQcx9"
      }
    },
    {
      "cell_type": "code",
      "source": [],
      "metadata": {
        "id": "BaQ1xM-45zSt"
      },
      "execution_count": null,
      "outputs": []
    },
    {
      "cell_type": "markdown",
      "source": [
        "---\n",
        "\n",
        "<b> Ejercicio 3</b>\n",
        "\n",
        "Escribe una función que almacene información sobre un automóvil en un diccionario. La función siempre debe recibir un fabricante y un nombre de modelo. Entonces debería aceptar un número arbitrario de argumentos de palabras clave. Llame a la función con la información requerida y otros dos pares de nombre y valor, como un color o una función opcional. Su función debería funcionar para una llamada como esta:\n",
        "\n",
        "coche = **make_car**('subaru', 'outback', color='blue', tow_package=True)\n",
        "\n",
        "Imprima el diccionario que se devuelve para asegurarse de que toda la información se almacenó correctamente.\n",
        "\n",
        "---"
      ],
      "metadata": {
        "id": "gpj7y6NYQjLq"
      }
    },
    {
      "cell_type": "code",
      "source": [],
      "metadata": {
        "id": "hlHXHpa85z80"
      },
      "execution_count": null,
      "outputs": []
    },
    {
      "cell_type": "markdown",
      "source": [
        "# 7. Almacenamiento de funciones en módulos"
      ],
      "metadata": {
        "id": "Ut0OnphvWeOw"
      }
    },
    {
      "cell_type": "markdown",
      "source": [
        "### Importar funciones específicas"
      ],
      "metadata": {
        "id": "qML64F41WRTX"
      }
    },
    {
      "cell_type": "code",
      "source": [
        "from sandwich import make_sandwich"
      ],
      "metadata": {
        "id": "oLt942aV-KiI"
      },
      "execution_count": null,
      "outputs": []
    },
    {
      "cell_type": "code",
      "source": [
        "make_sandwich('Queso', 'Doble jamón', 'papas')"
      ],
      "metadata": {
        "id": "C5oRUNh6-UUA"
      },
      "execution_count": null,
      "outputs": []
    },
    {
      "cell_type": "code",
      "source": [
        "from pizza import make_pizza"
      ],
      "metadata": {
        "id": "cA4XkhylQYhn"
      },
      "execution_count": null,
      "outputs": []
    },
    {
      "cell_type": "code",
      "source": [
        "make_pizza(16, 'pepperoni')\n",
        "make_pizza(12, 'mushrooms', 'green peppers', 'extra cheese')"
      ],
      "metadata": {
        "id": "eesDvKLZVehZ"
      },
      "execution_count": null,
      "outputs": []
    },
    {
      "cell_type": "markdown",
      "source": [
        "### Uso de as para dar un alias a una función"
      ],
      "metadata": {
        "id": "c4ojH2gyWAYW"
      }
    },
    {
      "cell_type": "code",
      "source": [
        "from pizza import make_pizza as mp\n",
        "\n",
        "mp(16, 'pepperoni')\n",
        "mp(12, 'mushrooms', 'green peppers', 'extra cheese')"
      ],
      "metadata": {
        "id": "h6WyN6L9VliG"
      },
      "execution_count": null,
      "outputs": []
    },
    {
      "cell_type": "markdown",
      "source": [
        "### Uso de as para dar un alias a un módulo"
      ],
      "metadata": {
        "id": "vYeRmZSCVxE8"
      }
    },
    {
      "cell_type": "code",
      "source": [
        "import pizza as p\n",
        "\n",
        "p.make_pizza(16, 'pepperoni')\n",
        "p.make_pizza(12, 'mushrooms', 'green peppers', 'extra cheese')"
      ],
      "metadata": {
        "id": "ErMJcae6VrqE"
      },
      "execution_count": null,
      "outputs": []
    },
    {
      "cell_type": "markdown",
      "source": [
        "# 8. Introducción a Clases"
      ],
      "metadata": {
        "id": "zl5-pV1XfXi1"
      }
    },
    {
      "cell_type": "markdown",
      "source": [
        "Una función que es parte de una clase es un método. Todo lo que aprendió sobre las funciones también se aplica a los métodos; la única diferencia práctica por ahora es la forma en que llamaremos a los métodos."
      ],
      "metadata": {
        "id": "Zm1Zg6mGd-GW"
      }
    },
    {
      "cell_type": "markdown",
      "source": [
        "**El método Init**\n",
        "\n",
        "El método __init__() es un método especial que Python ejecuta automáticamente cada vez que creamos una nueva instancia basada en la clase Dog. Este método tiene dos guiones bajos iniciales y dos guiones bajos finales, una convención que ayuda a evitar que los nombres de métodos predeterminados de Python entren en conflicto con los nombres de sus métodos. Asegúrese de usar dos guiones bajos a cada lado de __init__(). Si usa solo uno en cada lado, el método no se llamará automáticamente cuando use su clase, lo que puede generar errores que son difíciles de identificar."
      ],
      "metadata": {
        "id": "7N1Jxb6ceSRx"
      }
    },
    {
      "cell_type": "code",
      "source": [
        "\n",
        "class imprimirNotas:\n",
        "  def __init__(self, nombre_alumno, nota_alumno):\n",
        "    self.name = nombre_alumno\n",
        "    self.nota = nota_alumno\n",
        "\n",
        "  def evaluarAprobacion(self):\n",
        "    if self.nota >= 14:\n",
        "      print(f'felicidades {self.name}, has aprobado!!')\n",
        "      self.aprobacion = 1\n",
        "    else:\n",
        "      self.aprobacion = 0\n",
        "      print(f'lo lamento {self.name}, intenta otra vez!!')\n",
        "\n",
        "  def generarCertificado(self):\n",
        "    if self.aprobacion == 1:\n",
        "      print('imprimir certificado')\n",
        "    else:\n",
        "      print('no hay un certificado disponible')\n"
      ],
      "metadata": {
        "id": "URMpfieKl31_"
      },
      "execution_count": null,
      "outputs": []
    },
    {
      "cell_type": "code",
      "source": [
        "notas_eduardo = imprimirNotas('Eduardo', 18)\n",
        "notas_eduardo.evaluarAprobacion()\n",
        "notas_eduardo.generarCertificado()"
      ],
      "metadata": {
        "id": "uqA3zIvdmvsV",
        "outputId": "536b3e4a-e92f-4400-c295-96254b8b1f93",
        "colab": {
          "base_uri": "https://localhost:8080/"
        }
      },
      "execution_count": null,
      "outputs": [
        {
          "output_type": "stream",
          "name": "stdout",
          "text": [
            "felicidades Eduardo, has aprobado!!\n",
            "imprimir certificado\n"
          ]
        }
      ]
    },
    {
      "cell_type": "code",
      "source": [],
      "metadata": {
        "id": "kW_12EaEm8QD",
        "outputId": "3b6f4fb2-dd54-4250-b2bb-97795e123500",
        "colab": {
          "base_uri": "https://localhost:8080/"
        }
      },
      "execution_count": null,
      "outputs": [
        {
          "output_type": "stream",
          "name": "stdout",
          "text": [
            "felicidades Eduardo, has aprobado!!\n"
          ]
        }
      ]
    },
    {
      "cell_type": "code",
      "source": [
        "class Dog:\n",
        "    \"\"\"A simple attempt to model a dog.\"\"\"\n",
        "    def __init__(self, name, age):\n",
        "        \"\"\"Initialize name and age attributes.\"\"\"\n",
        "        self.name = name\n",
        "        self.age = age\n",
        "\n",
        "    def sit(self):\n",
        "        \"\"\"Simulate a dog sitting in response to a command.\"\"\"\n",
        "        print(f\"{self.name} esta sentado.\")\n",
        "\n",
        "    def roll_over(self):\n",
        "        \"\"\"Simulate rolling over in response to a command.\"\"\"\n",
        "        print(f\"{self.name} esta rodando!\")\n"
      ],
      "metadata": {
        "id": "flog3R7bdvZn"
      },
      "execution_count": null,
      "outputs": []
    },
    {
      "cell_type": "code",
      "source": [
        "my_dog = Dog('Willie', 6)"
      ],
      "metadata": {
        "id": "ekZkhZeud1HN"
      },
      "execution_count": null,
      "outputs": []
    },
    {
      "cell_type": "code",
      "source": [
        "print(f\"El nombre de mi perro es {my_dog.name}.\")"
      ],
      "metadata": {
        "id": "Vi5yplZPe61f"
      },
      "execution_count": null,
      "outputs": []
    },
    {
      "cell_type": "code",
      "source": [
        "print(f\"Mi perro tiene {my_dog.age} años.\")"
      ],
      "metadata": {
        "id": "Uaf2In0sfBfO"
      },
      "execution_count": null,
      "outputs": []
    },
    {
      "cell_type": "markdown",
      "source": [
        "### Llamando métodos de la clase"
      ],
      "metadata": {
        "id": "EpkCSrR6fqEh"
      }
    },
    {
      "cell_type": "code",
      "source": [
        "my_dog.sit()"
      ],
      "metadata": {
        "id": "bcqIi7zPfmVh"
      },
      "execution_count": null,
      "outputs": []
    },
    {
      "cell_type": "code",
      "source": [
        "my_dog.roll_over()"
      ],
      "metadata": {
        "id": "RhFLCn3Eftjz"
      },
      "execution_count": null,
      "outputs": []
    },
    {
      "cell_type": "markdown",
      "source": [
        "### Creando múltiples instancias"
      ],
      "metadata": {
        "id": "yqpTqtBrf5pF"
      }
    },
    {
      "cell_type": "code",
      "source": [
        "my_dog = Dog('Willie', 6)\n",
        "your_dog = Dog('Lucy', 3)\n"
      ],
      "metadata": {
        "id": "MsHtLxOrf-nB"
      },
      "execution_count": null,
      "outputs": []
    },
    {
      "cell_type": "code",
      "source": [
        "print(f\"El nombre de mi perro es {my_dog.name}.\")\n",
        "print(f\"Mi perro tiene {my_dog.age} años.\")\n",
        "my_dog.sit()\n"
      ],
      "metadata": {
        "id": "ia8YHqsWf_T0"
      },
      "execution_count": null,
      "outputs": []
    },
    {
      "cell_type": "code",
      "source": [
        "print(f\"\\nEl nombre de tu perro es {your_dog.name}.\")\n",
        "print(f\"Tu perro tiene {your_dog.age} años.\")\n",
        "your_dog.sit()"
      ],
      "metadata": {
        "id": "woRDon1-gBV0"
      },
      "execution_count": null,
      "outputs": []
    },
    {
      "cell_type": "markdown",
      "source": [
        "---\n",
        "\n",
        "<b> Ejercicio 1</b>\n",
        "\n",
        "Haz una clase llamada Restaurante. El método __init__() para Restaurante debe almacenar dos atributos: un nombre_restaurante y un tipo_cocina. Cree un método llamado describe_restaurant() que imprima estos dos datos y un método llamado open_restaurant() que imprima un mensaje que indique que el restaurante está abierto.\n",
        "\n",
        "Cree una instancia llamada restaurante de su clase. Imprima los dos atributos individualmente y luego llame a ambos métodos."
      ],
      "metadata": {
        "id": "kp8q0QVDgqkZ"
      }
    },
    {
      "cell_type": "code",
      "source": [
        "\n",
        "\n"
      ],
      "metadata": {
        "id": "g7gst4DZAlSO"
      },
      "execution_count": null,
      "outputs": []
    },
    {
      "cell_type": "markdown",
      "source": [
        "---\n",
        "\n",
        "<b> Ejercicio 2</b>\n",
        "\n",
        "Comience con su clase del Ejercicio anterior. Cree tres instancias diferentes de la clase y llame a **describe_restaurant**() para cada instancia."
      ],
      "metadata": {
        "id": "uD1V4MnYgxO2"
      }
    },
    {
      "cell_type": "code",
      "source": [],
      "metadata": {
        "id": "OBiADyuU6AVq"
      },
      "execution_count": null,
      "outputs": []
    },
    {
      "cell_type": "markdown",
      "source": [
        "---\n",
        "\n",
        "<b> Ejercicio 3</b>\n",
        "\n",
        "Haz una clase llamada Usuario. Cree dos atributos llamados **first_name** y **last_name**, y luego cree varios otros atributos que normalmente se almacenan en un perfil de usuario. Cree un método llamado **describe_user**() que imprima un resumen de la información del usuario. Cree otro método llamado **greeting_user**() que imprima un saludo personalizado para el usuario.\n",
        "\n",
        "Cree varias instancias que representen a diferentes usuarios y llame a ambos métodos para cada usuario.\n",
        "\n",
        "---"
      ],
      "metadata": {
        "id": "PlqVFUueg2QI"
      }
    },
    {
      "cell_type": "code",
      "source": [],
      "metadata": {
        "id": "XSuKCdAW6A5v"
      },
      "execution_count": null,
      "outputs": []
    },
    {
      "cell_type": "markdown",
      "source": [
        "---\n",
        "\n",
        "# Gracias por completar este laboratorio!\n",
        "\n",
        "---\n"
      ],
      "metadata": {
        "id": "MXXM4w69aIll"
      }
    }
  ]
}