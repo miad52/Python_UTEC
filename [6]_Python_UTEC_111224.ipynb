{
  "nbformat": 4,
  "nbformat_minor": 0,
  "metadata": {
    "colab": {
      "provenance": [],
      "include_colab_link": true
    },
    "kernelspec": {
      "name": "python3",
      "display_name": "Python 3"
    },
    "language_info": {
      "name": "python"
    }
  },
  "cells": [
    {
      "cell_type": "markdown",
      "metadata": {
        "id": "view-in-github",
        "colab_type": "text"
      },
      "source": [
        "<a href=\"https://colab.research.google.com/github/miad52/Python_UTEC/blob/main/%5B6%5D_Python_UTEC_111224.ipynb\" target=\"_parent\"><img src=\"https://colab.research.google.com/assets/colab-badge.svg\" alt=\"Open In Colab\"/></a>"
      ]
    },
    {
      "cell_type": "markdown",
      "source": [
        "# Diccionarios"
      ],
      "metadata": {
        "id": "LIRifZ8oVWYD"
      }
    },
    {
      "cell_type": "markdown",
      "source": [
        "## Crear un diccionario"
      ],
      "metadata": {
        "id": "k6NywJVEVanA"
      }
    },
    {
      "cell_type": "code",
      "source": [
        "# Lista vacía\n",
        "l_0 = []"
      ],
      "metadata": {
        "id": "NR0AU19DKgWf"
      },
      "execution_count": null,
      "outputs": []
    },
    {
      "cell_type": "code",
      "source": [
        "# Tupla vacía\n",
        "t_0 = ()"
      ],
      "metadata": {
        "id": "9_hWq0lzKlBd"
      },
      "execution_count": null,
      "outputs": []
    },
    {
      "cell_type": "code",
      "execution_count": null,
      "metadata": {
        "id": "A4keBXudVOG9"
      },
      "outputs": [],
      "source": [
        "# Diccionario vacío\n",
        "dc_0  = {}"
      ]
    },
    {
      "cell_type": "code",
      "source": [
        "type(dc_0) # objeto dict son diccionarios"
      ],
      "metadata": {
        "colab": {
          "base_uri": "https://localhost:8080/"
        },
        "id": "k1XtCHJ9Voaz",
        "outputId": "6a4ca0c5-0798-41d5-cdfd-826e638e00b3"
      },
      "execution_count": null,
      "outputs": [
        {
          "output_type": "execute_result",
          "data": {
            "text/plain": [
              "dict"
            ]
          },
          "metadata": {},
          "execution_count": 4
        }
      ]
    },
    {
      "cell_type": "code",
      "source": [
        "type(l_0) # objeto list es una lista"
      ],
      "metadata": {
        "colab": {
          "base_uri": "https://localhost:8080/"
        },
        "id": "KTNSGZFDKvIf",
        "outputId": "f58ad03e-7ffc-4098-cbb2-03263875341d"
      },
      "execution_count": null,
      "outputs": [
        {
          "output_type": "execute_result",
          "data": {
            "text/plain": [
              "list"
            ]
          },
          "metadata": {},
          "execution_count": 5
        }
      ]
    },
    {
      "cell_type": "code",
      "source": [
        "type(t_0) # objeto tuple es una tupla"
      ],
      "metadata": {
        "colab": {
          "base_uri": "https://localhost:8080/"
        },
        "id": "t2WwmeHlKvZ1",
        "outputId": "1574e1c4-e477-47c1-c596-443d6ef54993"
      },
      "execution_count": null,
      "outputs": [
        {
          "output_type": "execute_result",
          "data": {
            "text/plain": [
              "tuple"
            ]
          },
          "metadata": {},
          "execution_count": 6
        }
      ]
    },
    {
      "cell_type": "code",
      "source": [
        "# Diccionarios pueden ser homogéneos\n",
        "# Considerar el concepto => clave:valor\n",
        "# Los valores son del mismo tipo (enteros)\n",
        "# Las claves son caracteres\n",
        "\n",
        "dc_1 = {\"a\":1,\n",
        "        \"b\":2,\n",
        "        \"c\":3\n",
        "        }\n",
        "\n",
        "print(f\"El diccionario es \\n{dc_1}\")"
      ],
      "metadata": {
        "colab": {
          "base_uri": "https://localhost:8080/"
        },
        "id": "YF1FKhXbVw9k",
        "outputId": "48313b36-3af1-4860-868c-50b609604a09"
      },
      "execution_count": null,
      "outputs": [
        {
          "output_type": "stream",
          "name": "stdout",
          "text": [
            "El diccionario es \n",
            "{'a': 1, 'b': 2, 'c': 3}\n"
          ]
        }
      ]
    },
    {
      "cell_type": "code",
      "source": [
        "type(dc_1)"
      ],
      "metadata": {
        "colab": {
          "base_uri": "https://localhost:8080/"
        },
        "id": "xXF5KRfVLMlK",
        "outputId": "6547ae4a-cc0e-48df-ca04-40cb9b31d179"
      },
      "execution_count": null,
      "outputs": [
        {
          "output_type": "execute_result",
          "data": {
            "text/plain": [
              "dict"
            ]
          },
          "metadata": {},
          "execution_count": 8
        }
      ]
    },
    {
      "cell_type": "code",
      "source": [
        "# Diccionarios pueden ser heterogéneos\n",
        "# Considerar el concepto => clave:valor\n",
        "# Los valores NO son del mismo tipo (valor1: diccionario, valor2: lista, valor3: tupla)\n",
        "# Las claves son caracteres\n",
        "dc_2 = {\"a\":{\"x\":100},\n",
        "        \"b\":[10,20,30],\n",
        "        \"c\":(1,2,3,4,5)\n",
        "        }\n",
        "print(f\"El diccionario es \\n{dc_2}\")"
      ],
      "metadata": {
        "colab": {
          "base_uri": "https://localhost:8080/"
        },
        "id": "Ci64T0OkWc2K",
        "outputId": "99f441bd-f645-46b4-d229-24ff4dc63834"
      },
      "execution_count": null,
      "outputs": [
        {
          "output_type": "stream",
          "name": "stdout",
          "text": [
            "El diccionario es \n",
            "{'a': {'x': 100}, 'b': [10, 20, 30], 'c': (1, 2, 3, 4, 5)}\n"
          ]
        }
      ]
    },
    {
      "cell_type": "code",
      "source": [
        "type(dc_2)"
      ],
      "metadata": {
        "colab": {
          "base_uri": "https://localhost:8080/"
        },
        "id": "nlWLEL5WL3dl",
        "outputId": "2a7a29ca-ee1e-43d9-dd4e-a4ccd89069da"
      },
      "execution_count": null,
      "outputs": [
        {
          "output_type": "execute_result",
          "data": {
            "text/plain": [
              "dict"
            ]
          },
          "metadata": {},
          "execution_count": 10
        }
      ]
    },
    {
      "cell_type": "code",
      "source": [
        "# Diccionarios con claves repetidas\n",
        "# Las claves de los diccionarios son únicas\n",
        "dc_3 = {\"a\":100,\n",
        "        \"b\":200,\n",
        "        \"a\":300}\n",
        "type(dc_3)"
      ],
      "metadata": {
        "colab": {
          "base_uri": "https://localhost:8080/"
        },
        "id": "dwzog2qpXCr7",
        "outputId": "33fd8e19-d777-435f-9fa7-ac4208aa8cbe"
      },
      "execution_count": null,
      "outputs": [
        {
          "output_type": "execute_result",
          "data": {
            "text/plain": [
              "dict"
            ]
          },
          "metadata": {},
          "execution_count": 11
        }
      ]
    },
    {
      "cell_type": "code",
      "source": [
        "print(f\"El diccionario dc_3 es \\n{dc_3}\")"
      ],
      "metadata": {
        "colab": {
          "base_uri": "https://localhost:8080/"
        },
        "id": "-6VfrikSXcTH",
        "outputId": "2de1dc21-be1a-4795-95c8-0c85af11c7bf"
      },
      "execution_count": null,
      "outputs": [
        {
          "output_type": "stream",
          "name": "stdout",
          "text": [
            "El diccionario dc_3 es \n",
            "{'a': 300, 'b': 200}\n"
          ]
        }
      ]
    },
    {
      "cell_type": "code",
      "source": [
        "# Diccionario: dict_info\n",
        "# Claves: nombre,apellido,edad,profesion\n",
        "# Valores: su información personal\n",
        "# Los valores son distinto tipo (cadenas, int) => diccionario heterogéneo\n",
        "dict_info = {\"nombre\":\"david\",\n",
        "             \"apellido\":\"allende\",\n",
        "             \"edad\":36,\n",
        "             \"profesion\":\"ingeniero\"\n",
        "             }\n",
        "\n",
        "print(f\"El diccionario con mi info personal es \\n{dict_info}\")"
      ],
      "metadata": {
        "colab": {
          "base_uri": "https://localhost:8080/"
        },
        "id": "8BUx8ML7Xz57",
        "outputId": "78acf7e7-4e04-4b59-e226-18de4b27b267"
      },
      "execution_count": null,
      "outputs": [
        {
          "output_type": "stream",
          "name": "stdout",
          "text": [
            "El diccionario con mi info personal es \n",
            "{'nombre': 'david', 'apellido': 'allende', 'edad': 36, 'profesion': 'ingeniero'}\n"
          ]
        }
      ]
    },
    {
      "cell_type": "code",
      "source": [
        "dict_info={\"nombre\":\"Michael\",\n",
        "           \"apellido\":\"Añazco\",\n",
        "           \"edad\":24,\n",
        "           \"profesion\":\"Ingeniero Industrial\"}\n",
        "print(f\"El diccionario de inf personal es \\n {dict_info}\")"
      ],
      "metadata": {
        "colab": {
          "base_uri": "https://localhost:8080/"
        },
        "id": "abk-M10oZtON",
        "outputId": "a0ffc598-7c99-4295-9130-113f5d7fd670"
      },
      "execution_count": null,
      "outputs": [
        {
          "output_type": "stream",
          "name": "stdout",
          "text": [
            "El diccionario de inf personal es \n",
            " {'nombre': 'Michael', 'apellido': 'Añazco', 'edad': 24, 'profesion': 'Ingeniero Industrial'}\n"
          ]
        }
      ]
    },
    {
      "cell_type": "code",
      "source": [
        "# Diccionario con claves numéricas\n",
        "\n",
        "dc_4 = {1:100,\n",
        "        2:200,\n",
        "        3:300\n",
        "        }\n",
        "type(dc_4)"
      ],
      "metadata": {
        "colab": {
          "base_uri": "https://localhost:8080/"
        },
        "id": "0tDAAoxxZ2T_",
        "outputId": "db455640-3316-48fc-ac28-12834dcc119d"
      },
      "execution_count": null,
      "outputs": [
        {
          "output_type": "execute_result",
          "data": {
            "text/plain": [
              "dict"
            ]
          },
          "metadata": {},
          "execution_count": 15
        }
      ]
    },
    {
      "cell_type": "code",
      "source": [
        "# Diccionario con claves cadenas y valores numéricos\n",
        "\n",
        "dc_5 = {\"david\":10,\n",
        "        \"enzo\":20,\n",
        "        \"pedro\":30,\n",
        "        \"maria\":40,\n",
        "        \"andrea\":50\n",
        "        }\n",
        "\n",
        "type(dc_5)"
      ],
      "metadata": {
        "colab": {
          "base_uri": "https://localhost:8080/"
        },
        "id": "aruFcE76aPLl",
        "outputId": "ef5a1bc3-4227-4d99-9ae4-b0f94e29bb3d"
      },
      "execution_count": null,
      "outputs": [
        {
          "output_type": "execute_result",
          "data": {
            "text/plain": [
              "dict"
            ]
          },
          "metadata": {},
          "execution_count": 16
        }
      ]
    },
    {
      "cell_type": "code",
      "source": [
        "%whos"
      ],
      "metadata": {
        "colab": {
          "base_uri": "https://localhost:8080/"
        },
        "id": "71iwo2yeamj1",
        "outputId": "1e0a5409-c25f-4bb5-dc4e-d494d5552fd1"
      },
      "execution_count": null,
      "outputs": [
        {
          "output_type": "stream",
          "name": "stdout",
          "text": [
            "Variable    Type     Data/Info\n",
            "------------------------------\n",
            "dc_0        dict     n=0\n",
            "dc_1        dict     n=3\n",
            "dc_2        dict     n=3\n",
            "dc_3        dict     n=2\n",
            "dc_4        dict     n=3\n",
            "dc_5        dict     n=5\n",
            "dict_info   dict     n=4\n",
            "l_0         list     n=0\n",
            "t_0         tuple    n=0\n"
          ]
        }
      ]
    },
    {
      "cell_type": "markdown",
      "source": [
        "## Acceder a los elementos de un diccionario"
      ],
      "metadata": {
        "id": "6_dWiA99a4oy"
      }
    },
    {
      "cell_type": "code",
      "source": [
        "print(f\"El diccionario con mi info personal es \\n{dict_info}\")"
      ],
      "metadata": {
        "colab": {
          "base_uri": "https://localhost:8080/"
        },
        "id": "BGZExoDTascp",
        "outputId": "6845eea4-e5c5-4380-ed14-f798d1ba9095"
      },
      "execution_count": null,
      "outputs": [
        {
          "output_type": "stream",
          "name": "stdout",
          "text": [
            "El diccionario con mi info personal es \n",
            "{'nombre': 'Michael', 'apellido': 'Añazco', 'edad': 24, 'profesion': 'Ingeniero Industrial'}\n"
          ]
        }
      ]
    },
    {
      "cell_type": "code",
      "source": [
        "dict_info[\"edad\"] # A través de la clave accedo al valor (la clave está entre comillas dobles)"
      ],
      "metadata": {
        "colab": {
          "base_uri": "https://localhost:8080/"
        },
        "id": "bKn82Z59bfdz",
        "outputId": "9b94d74d-824c-49d1-a542-a4b6be890e8c"
      },
      "execution_count": null,
      "outputs": [
        {
          "output_type": "execute_result",
          "data": {
            "text/plain": [
              "24"
            ]
          },
          "metadata": {},
          "execution_count": 19
        }
      ]
    },
    {
      "cell_type": "code",
      "source": [
        "dict_info['edad'] # A través de la clave accedo al valor (la clave está entre comillas simples)"
      ],
      "metadata": {
        "colab": {
          "base_uri": "https://localhost:8080/"
        },
        "id": "ArGCSPqsb1En",
        "outputId": "2dd7f536-dca0-4af8-f07b-ce920f419ec8"
      },
      "execution_count": null,
      "outputs": [
        {
          "output_type": "execute_result",
          "data": {
            "text/plain": [
              "24"
            ]
          },
          "metadata": {},
          "execution_count": 20
        }
      ]
    },
    {
      "cell_type": "code",
      "source": [
        "dict_info[0] # Es incorrecto"
      ],
      "metadata": {
        "colab": {
          "base_uri": "https://localhost:8080/",
          "height": 144
        },
        "id": "dJMD5crmPRfm",
        "outputId": "284cfa04-e0d1-49d5-aba8-c0f03ba3a005"
      },
      "execution_count": null,
      "outputs": [
        {
          "output_type": "error",
          "ename": "KeyError",
          "evalue": "0",
          "traceback": [
            "\u001b[0;31m---------------------------------------------------------------------------\u001b[0m",
            "\u001b[0;31mKeyError\u001b[0m                                  Traceback (most recent call last)",
            "\u001b[0;32m<ipython-input-22-fd173a0db1b4>\u001b[0m in \u001b[0;36m<cell line: 1>\u001b[0;34m()\u001b[0m\n\u001b[0;32m----> 1\u001b[0;31m \u001b[0mdict_info\u001b[0m\u001b[0;34m[\u001b[0m\u001b[0;36m0\u001b[0m\u001b[0;34m]\u001b[0m \u001b[0;31m# Es incorrecto\u001b[0m\u001b[0;34m\u001b[0m\u001b[0;34m\u001b[0m\u001b[0m\n\u001b[0m",
            "\u001b[0;31mKeyError\u001b[0m: 0"
          ]
        }
      ]
    },
    {
      "cell_type": "code",
      "source": [
        "print(f\"La edad de la persona es {dict_info['edad']} años\")"
      ],
      "metadata": {
        "colab": {
          "base_uri": "https://localhost:8080/"
        },
        "id": "6CxnpIC9bDW8",
        "outputId": "c90c7d45-5511-4021-842b-9c9f160d4571"
      },
      "execution_count": null,
      "outputs": [
        {
          "output_type": "stream",
          "name": "stdout",
          "text": [
            "La edad de la persona es 24 años\n"
          ]
        }
      ]
    },
    {
      "cell_type": "code",
      "source": [
        "print(f\"La profesión de la persona es {dict_info['profesion']}\")"
      ],
      "metadata": {
        "colab": {
          "base_uri": "https://localhost:8080/"
        },
        "id": "zYVHEpvxbZED",
        "outputId": "2cd67458-6687-4e92-cd5a-7bd809383298"
      },
      "execution_count": null,
      "outputs": [
        {
          "output_type": "stream",
          "name": "stdout",
          "text": [
            "La profesión de la persona es Ingeniero Industrial\n"
          ]
        }
      ]
    },
    {
      "cell_type": "code",
      "source": [
        "print(f\"El diccionario es \\n{dc_2}\")"
      ],
      "metadata": {
        "colab": {
          "base_uri": "https://localhost:8080/"
        },
        "id": "lpprzK1XcPvL",
        "outputId": "d3847eae-9ce4-4c6a-e7f9-5284a54aaea1"
      },
      "execution_count": null,
      "outputs": [
        {
          "output_type": "stream",
          "name": "stdout",
          "text": [
            "El diccionario es \n",
            "{'a': {'x': 100}, 'b': [10, 20, 30], 'c': (1, 2, 3, 4, 5)}\n"
          ]
        }
      ]
    },
    {
      "cell_type": "code",
      "source": [
        "print(f\"El primer elemento del diccionario es \\n{dc_2['a']}\")"
      ],
      "metadata": {
        "colab": {
          "base_uri": "https://localhost:8080/"
        },
        "id": "BucuCWHAcpR6",
        "outputId": "46e59fbe-3946-40bc-9168-d53ac499a7a3"
      },
      "execution_count": null,
      "outputs": [
        {
          "output_type": "stream",
          "name": "stdout",
          "text": [
            "El primer elemento del diccionario es \n",
            "{'x': 100}\n"
          ]
        }
      ]
    },
    {
      "cell_type": "code",
      "source": [
        "print(f\"El primer elemento del diccionario es del tipo \\n{type(dc_2['a'])}\")"
      ],
      "metadata": {
        "colab": {
          "base_uri": "https://localhost:8080/"
        },
        "id": "4hUV-47hc7kE",
        "outputId": "5cff0041-51f8-4567-e823-8a95f92b6ccb"
      },
      "execution_count": null,
      "outputs": [
        {
          "output_type": "stream",
          "name": "stdout",
          "text": [
            "El primer elemento del diccionario es del tipo \n",
            "<class 'dict'>\n"
          ]
        }
      ]
    },
    {
      "cell_type": "code",
      "source": [
        "print(f\"El segundo elemento del diccionario es \\n{dc_2['b']}\")"
      ],
      "metadata": {
        "colab": {
          "base_uri": "https://localhost:8080/"
        },
        "id": "hJVsSDn1dUVI",
        "outputId": "2c350208-9206-4221-d5a2-76847449b1d6"
      },
      "execution_count": null,
      "outputs": [
        {
          "output_type": "stream",
          "name": "stdout",
          "text": [
            "El segundo elemento del diccionario es \n",
            "[10, 20, 30]\n"
          ]
        }
      ]
    },
    {
      "cell_type": "code",
      "source": [
        "print(f\"El segundo elemento del diccionario es del tipo \\n{type(dc_2['b'])}\")"
      ],
      "metadata": {
        "colab": {
          "base_uri": "https://localhost:8080/"
        },
        "id": "rvg03ysAcxjW",
        "outputId": "8db17296-3f04-4149-8292-5fd47e7143bc"
      },
      "execution_count": null,
      "outputs": [
        {
          "output_type": "stream",
          "name": "stdout",
          "text": [
            "El segundo elemento del diccionario es del tipo \n",
            "<class 'list'>\n"
          ]
        }
      ]
    },
    {
      "cell_type": "code",
      "source": [
        "print(f\"El tercer elemento del diccionario es \\n{dc_2['c']}\")"
      ],
      "metadata": {
        "colab": {
          "base_uri": "https://localhost:8080/"
        },
        "id": "rYo67GZsRSuI",
        "outputId": "00ab3b9f-fe7c-4111-9e18-bfed99cb418c"
      },
      "execution_count": null,
      "outputs": [
        {
          "output_type": "stream",
          "name": "stdout",
          "text": [
            "El tercer elemento del diccionario es \n",
            "(1, 2, 3, 4, 5)\n"
          ]
        }
      ]
    },
    {
      "cell_type": "code",
      "source": [
        "print(f\"El tercer elemento del diccionario es del tipo \\n{type(dc_2['c'])}\")"
      ],
      "metadata": {
        "colab": {
          "base_uri": "https://localhost:8080/"
        },
        "id": "cnCIrNp-RYj4",
        "outputId": "16e21be2-ab5f-43a2-912c-d05439fcb887"
      },
      "execution_count": null,
      "outputs": [
        {
          "output_type": "stream",
          "name": "stdout",
          "text": [
            "El tercer elemento del diccionario es del tipo \n",
            "<class 'tuple'>\n"
          ]
        }
      ]
    },
    {
      "cell_type": "code",
      "source": [
        "# Pasos\n",
        "#########\n",
        "\n",
        "# Paso 1: Accedo al segundo elemento del diccionario y lo almaceno en la variable \"dc_2_ele2\"\n",
        "dc_2_ele2 = dc_2['b']\n",
        "print(f\"El segundo elemento del diccionario es \\n{dc_2_ele2}\")"
      ],
      "metadata": {
        "colab": {
          "base_uri": "https://localhost:8080/"
        },
        "id": "AHjDdumjc4gw",
        "outputId": "95f863a0-93c5-4683-8d1c-3d6755af0ef7"
      },
      "execution_count": null,
      "outputs": [
        {
          "output_type": "stream",
          "name": "stdout",
          "text": [
            "El segundo elemento del diccionario es \n",
            "[10, 20, 30]\n"
          ]
        }
      ]
    },
    {
      "cell_type": "code",
      "source": [
        "# Paso 2: Validamos el tipo de dato (lista)\n",
        "type(dc_2_ele2)"
      ],
      "metadata": {
        "id": "o237nzcLJJiz",
        "colab": {
          "base_uri": "https://localhost:8080/"
        },
        "outputId": "f24edf82-f774-4119-af1d-cac961e6f940"
      },
      "execution_count": null,
      "outputs": [
        {
          "output_type": "execute_result",
          "data": {
            "text/plain": [
              "list"
            ]
          },
          "metadata": {},
          "execution_count": 33
        }
      ]
    },
    {
      "cell_type": "code",
      "source": [
        "# Paso 3: Accedemos al último elemento de la lista\n",
        "dc_2_ele2[-1]"
      ],
      "metadata": {
        "colab": {
          "base_uri": "https://localhost:8080/"
        },
        "id": "sp6qOqxvR7y0",
        "outputId": "6d24417e-e8c1-4b68-d37e-47766881e6a6"
      },
      "execution_count": null,
      "outputs": [
        {
          "output_type": "execute_result",
          "data": {
            "text/plain": [
              "30"
            ]
          },
          "metadata": {},
          "execution_count": 34
        }
      ]
    },
    {
      "cell_type": "code",
      "source": [
        "## Todo en un solo paso\n",
        "\n",
        "print(f\"El último elemento de la clave b del diccionario es \\n{dc_2['b'][-1]}\")"
      ],
      "metadata": {
        "colab": {
          "base_uri": "https://localhost:8080/"
        },
        "id": "ZjtmCrqeSCJT",
        "outputId": "214cc98d-1877-47df-b7e7-1107d4c91634"
      },
      "execution_count": null,
      "outputs": [
        {
          "output_type": "stream",
          "name": "stdout",
          "text": [
            "El último elemento de la clave b del diccionario es \n",
            "30\n"
          ]
        }
      ]
    },
    {
      "cell_type": "code",
      "source": [
        "print(f\"El diccionario con claves y valores numéricos: \\n{dc_4}\")"
      ],
      "metadata": {
        "colab": {
          "base_uri": "https://localhost:8080/"
        },
        "id": "BckLuTKXS0yu",
        "outputId": "27e12c1d-5530-493c-cad7-fa82ffe77154"
      },
      "execution_count": null,
      "outputs": [
        {
          "output_type": "stream",
          "name": "stdout",
          "text": [
            "El diccionario con claves y valores numéricos: \n",
            "{1: 100, 2: 200, 3: 300}\n"
          ]
        }
      ]
    },
    {
      "cell_type": "code",
      "source": [
        "print(f\"El primer elemento del diccionario es {dc_4[1]}\")"
      ],
      "metadata": {
        "colab": {
          "base_uri": "https://localhost:8080/"
        },
        "id": "97XAYVx3TJgI",
        "outputId": "3bb4afd2-9b25-4e93-f898-e5da53e3682d"
      },
      "execution_count": null,
      "outputs": [
        {
          "output_type": "stream",
          "name": "stdout",
          "text": [
            "El primer elemento del diccionario es 100\n"
          ]
        }
      ]
    },
    {
      "cell_type": "code",
      "source": [
        "print(f\"El segundo elemento del diccionario es {dc_4[2]}\")"
      ],
      "metadata": {
        "colab": {
          "base_uri": "https://localhost:8080/"
        },
        "id": "qTq1y0fyT1vX",
        "outputId": "4e6360a3-f9fc-4a30-d743-45a83ba19c7f"
      },
      "execution_count": null,
      "outputs": [
        {
          "output_type": "stream",
          "name": "stdout",
          "text": [
            "El segundo elemento del diccionario es 200\n"
          ]
        }
      ]
    },
    {
      "cell_type": "code",
      "source": [
        "print(f\"El tercer elemento del diccionario es {dc_4[3]}\")"
      ],
      "metadata": {
        "colab": {
          "base_uri": "https://localhost:8080/"
        },
        "id": "a_iejp25T8xC",
        "outputId": "44738cd7-66ef-4c1f-e74e-c8326214ab35"
      },
      "execution_count": null,
      "outputs": [
        {
          "output_type": "stream",
          "name": "stdout",
          "text": [
            "El tercer elemento del diccionario es 300\n"
          ]
        }
      ]
    },
    {
      "cell_type": "code",
      "source": [
        "print(f\"El diccionario con claves que son cadenas y valores numéricos: \\n{dc_5}\")"
      ],
      "metadata": {
        "colab": {
          "base_uri": "https://localhost:8080/"
        },
        "id": "RZhPHoaZUC_P",
        "outputId": "53288429-e037-4e65-95c7-494d046adb5a"
      },
      "execution_count": null,
      "outputs": [
        {
          "output_type": "stream",
          "name": "stdout",
          "text": [
            "El diccionario con claves que son cadenas y valores numéricos: \n",
            "{'david': 10, 'enzo': 20, 'pedro': 30, 'maria': 40, 'andrea': 50}\n"
          ]
        }
      ]
    },
    {
      "cell_type": "code",
      "source": [
        "print(f\"El valor de la clave 'pedro' es {dc_5['pedro']}\")"
      ],
      "metadata": {
        "colab": {
          "base_uri": "https://localhost:8080/"
        },
        "id": "WCGNeGB4UcGR",
        "outputId": "b38293e4-ab95-4204-bae1-87528dc00a71"
      },
      "execution_count": null,
      "outputs": [
        {
          "output_type": "stream",
          "name": "stdout",
          "text": [
            "El valor de la clave 'pedro' es 30\n"
          ]
        }
      ]
    },
    {
      "cell_type": "markdown",
      "source": [
        "## Método items()"
      ],
      "metadata": {
        "id": "7vEjjE4OV6kz"
      }
    },
    {
      "cell_type": "code",
      "source": [
        "%whos"
      ],
      "metadata": {
        "colab": {
          "base_uri": "https://localhost:8080/"
        },
        "id": "QGQOYovTVNTX",
        "outputId": "b11693e4-9a37-48b2-d977-8b0f18dcc7b9"
      },
      "execution_count": null,
      "outputs": [
        {
          "output_type": "stream",
          "name": "stdout",
          "text": [
            "Variable    Type     Data/Info\n",
            "------------------------------\n",
            "dc_0        dict     n=0\n",
            "dc_1        dict     n=3\n",
            "dc_2        dict     n=3\n",
            "dc_2_ele2   list     n=3\n",
            "dc_3        dict     n=2\n",
            "dc_4        dict     n=3\n",
            "dc_5        dict     n=5\n",
            "dict_info   dict     n=4\n",
            "l_0         list     n=0\n",
            "t_0         tuple    n=0\n"
          ]
        }
      ]
    },
    {
      "cell_type": "code",
      "source": [
        "dc_1 # Diccionario con claves (caracteres): valores (numéricos)"
      ],
      "metadata": {
        "colab": {
          "base_uri": "https://localhost:8080/"
        },
        "id": "6TiEVLYLWJep",
        "outputId": "561aacf6-575b-4b0a-f544-4cd48e8238bb"
      },
      "execution_count": null,
      "outputs": [
        {
          "output_type": "execute_result",
          "data": {
            "text/plain": [
              "{'a': 1, 'b': 2, 'c': 3}"
            ]
          },
          "metadata": {},
          "execution_count": 43
        }
      ]
    },
    {
      "cell_type": "code",
      "source": [
        "# Almacenar todos los pares clave : valor del diccionario \"dc_1\"\n",
        "items_dc_1 = dc_1.items()"
      ],
      "metadata": {
        "id": "Y16iFKrTWNVL"
      },
      "execution_count": null,
      "outputs": []
    },
    {
      "cell_type": "code",
      "source": [
        "print(f\"Todos los pares clave:valor del diccionario \\n{items_dc_1}\")"
      ],
      "metadata": {
        "colab": {
          "base_uri": "https://localhost:8080/"
        },
        "id": "_QCT3CpQW8Va",
        "outputId": "e7e36b98-96ad-4437-87f3-ab878997cd5b"
      },
      "execution_count": null,
      "outputs": [
        {
          "output_type": "stream",
          "name": "stdout",
          "text": [
            "Todos los pares clave:valor del diccionario \n",
            "dict_items([('a', 1), ('b', 2), ('c', 3)])\n"
          ]
        }
      ]
    },
    {
      "cell_type": "code",
      "source": [
        "for c,v in dc_1.items():\n",
        "  print(f\"La clave {c}, tiene el valor {v}\")"
      ],
      "metadata": {
        "colab": {
          "base_uri": "https://localhost:8080/"
        },
        "id": "-QvVyDZ7XEsd",
        "outputId": "6870c1b7-e83d-4c6d-ef92-d4b93af3c9b9"
      },
      "execution_count": null,
      "outputs": [
        {
          "output_type": "stream",
          "name": "stdout",
          "text": [
            "La clave a, tiene el valor 1\n",
            "La clave b, tiene el valor 2\n",
            "La clave c, tiene el valor 3\n"
          ]
        }
      ]
    },
    {
      "cell_type": "code",
      "source": [
        "for c,v in dc_5.items():\n",
        "  print(f\"La clave {c}, tiene el valor {v}\")"
      ],
      "metadata": {
        "colab": {
          "base_uri": "https://localhost:8080/"
        },
        "id": "hT5l2cZaYcQc",
        "outputId": "db5919e9-74e7-47ca-a84d-68ec40ab59ca"
      },
      "execution_count": null,
      "outputs": [
        {
          "output_type": "stream",
          "name": "stdout",
          "text": [
            "La clave david, tiene el valor 10\n",
            "La clave enzo, tiene el valor 20\n",
            "La clave pedro, tiene el valor 30\n",
            "La clave maria, tiene el valor 40\n",
            "La clave andrea, tiene el valor 50\n"
          ]
        }
      ]
    },
    {
      "cell_type": "code",
      "source": [
        "# Crear una lista a partir del método items\n",
        "l_dc_5 = list(dc_5.items())\n",
        "print(f\"La lista creada a partir del método items es \\n{l_dc_5}\")"
      ],
      "metadata": {
        "colab": {
          "base_uri": "https://localhost:8080/"
        },
        "id": "B1Zw-xrFYoyy",
        "outputId": "efc05ad9-a6b4-48c1-8484-4232b05be8f3"
      },
      "execution_count": null,
      "outputs": [
        {
          "output_type": "stream",
          "name": "stdout",
          "text": [
            "La lista creada a partir del método items es \n",
            "[('david', 10), ('enzo', 20), ('pedro', 30), ('maria', 40), ('andrea', 50)]\n"
          ]
        }
      ]
    },
    {
      "cell_type": "code",
      "source": [
        "# Acceder al último elemento de la lista y mostrar el tipo de dato resultante\n",
        "print(f\"El último elemeno de la lista es {l_dc_5[4]}\")\n",
        "print(f\"El tipo de dato del último elemeno de la lista es {type(l_dc_5[4])}\")\n"
      ],
      "metadata": {
        "colab": {
          "base_uri": "https://localhost:8080/"
        },
        "id": "gqH7e4-4ZkTs",
        "outputId": "837a2d1c-141a-441d-e72e-be6c442a0039"
      },
      "execution_count": null,
      "outputs": [
        {
          "output_type": "stream",
          "name": "stdout",
          "text": [
            "El último elemeno de la lista es ('andrea', 50)\n",
            "El tipo de dato del último elemeno de la lista es <class 'tuple'>\n"
          ]
        }
      ]
    },
    {
      "cell_type": "code",
      "source": [
        "print(f\"El diccionario con valores de distinto tipo \\n{dc_2}\")"
      ],
      "metadata": {
        "colab": {
          "base_uri": "https://localhost:8080/"
        },
        "id": "_JoLHUT-aG1C",
        "outputId": "9a065b97-e89b-4f67-ec82-a377cdc48ee3"
      },
      "execution_count": null,
      "outputs": [
        {
          "output_type": "stream",
          "name": "stdout",
          "text": [
            "El diccionario con valores de distinto tipo \n",
            "{'a': {'x': 100}, 'b': [10, 20, 30], 'c': (1, 2, 3, 4, 5)}\n"
          ]
        }
      ]
    },
    {
      "cell_type": "code",
      "source": [
        "dc_2['b'][-1] = 300"
      ],
      "metadata": {
        "id": "e2BkS0DTgDFC"
      },
      "execution_count": null,
      "outputs": []
    },
    {
      "cell_type": "code",
      "source": [
        "print(f\"El diccionario actualizado con valores de distinto tipo \\n{dc_2}\")"
      ],
      "metadata": {
        "colab": {
          "base_uri": "https://localhost:8080/"
        },
        "id": "ZU23MGB4gUhg",
        "outputId": "46331e1e-b4f5-4ae6-a2cd-9c8715ce0412"
      },
      "execution_count": null,
      "outputs": [
        {
          "output_type": "stream",
          "name": "stdout",
          "text": [
            "El diccionario actualizado con valores de distinto tipo \n",
            "{'a': {'x': 100}, 'b': [10, 20, 300], 'c': (1, 2, 3, 4, 5)}\n"
          ]
        }
      ]
    },
    {
      "cell_type": "code",
      "source": [
        "# Actividad\n",
        "\n",
        "# El diccionario dc_2 lo vamos a convertir a una lista con elementos que tendrán\n",
        "# pares a nivel de tuplas que contengan la clave y valor del diccionario\n",
        "\n",
        "l_dc_2 = list(dc_2.items())\n",
        "print(f\"La lista creada es \\n{l_dc_2}\")\n",
        "\n",
        "# Acceder a la primera tupla y la vamos a convertir en una lista\n",
        "\n",
        "print(f\"\\nEl primer elemento de la nueva lista es {l_dc_2[0]}\")\n",
        "print(f\"El tipo de dato del primer elemento de la nueva lista es {type(l_dc_2[0])}\")\n",
        "\n",
        "l_dc_2_0 = list(l_dc_2[0])\n",
        "print(f\"\\nLa nueva lista creada es {l_dc_2_0}\")\n",
        "print(f\"La nueva lista creada es del tipo {type(l_dc_2_0)}\")\n",
        "\n",
        "# Y vamos a renombrar al primer elemento de nueva lista en \"xx\" en vez de \"a\"\n",
        "l_dc_2_0[0] = \"xx\"\n",
        "print(f\"\\nLa nueva lista actualizada es {l_dc_2_0}\")\n"
      ],
      "metadata": {
        "colab": {
          "base_uri": "https://localhost:8080/"
        },
        "id": "J_Y34P-Ngdpe",
        "outputId": "594b4a65-10d1-49a5-dada-49cfe9f71b6c"
      },
      "execution_count": null,
      "outputs": [
        {
          "output_type": "stream",
          "name": "stdout",
          "text": [
            "La lista creada es \n",
            "[('a', {'x': 100}), ('b', [10, 20, 300]), ('c', (1, 2, 3, 4, 5))]\n",
            "\n",
            "El primer elemento de la nueva lista es ('a', {'x': 100})\n",
            "El tipo de dato del primer elemento de la nueva lista es <class 'tuple'>\n",
            "\n",
            "La nueva lista creada es ['a', {'x': 100}]\n",
            "La nueva lista creada es del tipo <class 'list'>\n",
            "\n",
            "La nueva lista actualizada es ['xx', {'x': 100}]\n"
          ]
        }
      ]
    },
    {
      "cell_type": "markdown",
      "source": [
        "## Método clear()"
      ],
      "metadata": {
        "id": "ogSMt8cllaY9"
      }
    },
    {
      "cell_type": "code",
      "source": [
        "%whos"
      ],
      "metadata": {
        "colab": {
          "base_uri": "https://localhost:8080/"
        },
        "id": "pYRX2vjijN_Y",
        "outputId": "d5085f0c-473e-4d0d-cc5f-13b377a3321e"
      },
      "execution_count": null,
      "outputs": [
        {
          "output_type": "stream",
          "name": "stdout",
          "text": [
            "Variable     Type          Data/Info\n",
            "------------------------------------\n",
            "c            str           andrea\n",
            "dc_0         dict          n=0\n",
            "dc_1         dict          n=3\n",
            "dc_2         dict          n=3\n",
            "dc_2_ele2    list          n=3\n",
            "dc_3         dict          n=2\n",
            "dc_4         dict          n=3\n",
            "dc_5         dict          n=5\n",
            "dict_info    dict          n=4\n",
            "items_dc_1   dict_items    dict_items([('a', 1), ('b', 2), ('c', 3)])\n",
            "l_0          list          n=0\n",
            "l_dc_2       list          n=3\n",
            "l_dc_2_0     list          n=2\n",
            "l_dc_5       list          n=5\n",
            "t_0          tuple         n=0\n",
            "v            int           50\n"
          ]
        }
      ]
    },
    {
      "cell_type": "code",
      "source": [
        "print(f\"El diccionario con información personal es \\n{dict_info}\")"
      ],
      "metadata": {
        "colab": {
          "base_uri": "https://localhost:8080/"
        },
        "id": "Ntvm665TlkwO",
        "outputId": "68e0f0e0-edb8-471e-b212-7e5984f1b5c0"
      },
      "execution_count": null,
      "outputs": [
        {
          "output_type": "stream",
          "name": "stdout",
          "text": [
            "El diccionario con información personal es \n",
            "{'nombre': 'Michael', 'apellido': 'Añazco', 'edad': 24, 'profesion': 'Ingeniero Industrial'}\n"
          ]
        }
      ]
    },
    {
      "cell_type": "code",
      "source": [
        "dict_info.clear()\n",
        "print(f\"El diccionario con información personal es \\n{dict_info}\")"
      ],
      "metadata": {
        "colab": {
          "base_uri": "https://localhost:8080/"
        },
        "id": "JK2sPbCCltSw",
        "outputId": "ad5b88ef-cea6-4b76-8643-bd4ed1b4312e"
      },
      "execution_count": null,
      "outputs": [
        {
          "output_type": "stream",
          "name": "stdout",
          "text": [
            "El diccionario con información personal es \n",
            "{}\n"
          ]
        }
      ]
    },
    {
      "cell_type": "code",
      "source": [
        "print(f\"El diccionario 'dc_3' es \\n{dc_3}\")"
      ],
      "metadata": {
        "colab": {
          "base_uri": "https://localhost:8080/"
        },
        "id": "Qmwdb8Orl14-",
        "outputId": "60d7562a-ef85-4081-a034-4384d05ab3cd"
      },
      "execution_count": null,
      "outputs": [
        {
          "output_type": "stream",
          "name": "stdout",
          "text": [
            "El diccionario 'dc_3' es \n",
            "{'a': 300, 'b': 200}\n"
          ]
        }
      ]
    },
    {
      "cell_type": "code",
      "source": [
        "# Crear al diccionario 'referencia'\n",
        "referencia = dc_3\n",
        "print(f\"El diccionario referencia es \\n{referencia}\")"
      ],
      "metadata": {
        "colab": {
          "base_uri": "https://localhost:8080/"
        },
        "id": "Su_iug2GmOgY",
        "outputId": "2b161f05-0198-4c5d-c0b6-f064e57c4016"
      },
      "execution_count": null,
      "outputs": [
        {
          "output_type": "stream",
          "name": "stdout",
          "text": [
            "El diccionario referencia es \n",
            "{'a': 300, 'b': 200}\n"
          ]
        }
      ]
    },
    {
      "cell_type": "code",
      "source": [
        "dc_3.clear()"
      ],
      "metadata": {
        "id": "HQtqCLB-mcli"
      },
      "execution_count": null,
      "outputs": []
    },
    {
      "cell_type": "code",
      "source": [
        "print(f\"El diccionario 'dc_3' es \\n{dc_3}\")"
      ],
      "metadata": {
        "colab": {
          "base_uri": "https://localhost:8080/"
        },
        "id": "PmtmpEikmyyL",
        "outputId": "34a41006-7b1c-49c1-b8ea-e5ab748c7ed9"
      },
      "execution_count": null,
      "outputs": [
        {
          "output_type": "stream",
          "name": "stdout",
          "text": [
            "El diccionario 'dc_3' es \n",
            "{}\n"
          ]
        }
      ]
    },
    {
      "cell_type": "code",
      "source": [
        "print(f\"El diccionario referencia es \\n{referencia}\")"
      ],
      "metadata": {
        "colab": {
          "base_uri": "https://localhost:8080/"
        },
        "id": "YbuGzlcbm1Et",
        "outputId": "20571558-2b48-4471-b92a-fac4ff95f53d"
      },
      "execution_count": null,
      "outputs": [
        {
          "output_type": "stream",
          "name": "stdout",
          "text": [
            "El diccionario referencia es \n",
            "{}\n"
          ]
        }
      ]
    },
    {
      "cell_type": "markdown",
      "source": [
        "## Método keys()"
      ],
      "metadata": {
        "id": "03iRQ6gWnHYs"
      }
    },
    {
      "cell_type": "code",
      "source": [
        "# Crear un diccionario\n",
        "\n",
        "dic_prod = {\n",
        "    \"detergente\":70,\n",
        "    \"arroz\": 20,\n",
        "    \"aceite\":10\n",
        "}\n",
        "\n",
        "print(f\"El diccionario de productos es \\n{dic_prod}\")"
      ],
      "metadata": {
        "colab": {
          "base_uri": "https://localhost:8080/"
        },
        "id": "6sVAJQlem7Je",
        "outputId": "be0515bf-5e91-4a87-a7ac-1e205426fc08"
      },
      "execution_count": null,
      "outputs": [
        {
          "output_type": "stream",
          "name": "stdout",
          "text": [
            "El diccionario de productos es \n",
            "{'detergente': 70, 'arroz': 20, 'aceite': 10}\n"
          ]
        }
      ]
    },
    {
      "cell_type": "code",
      "source": [
        "dic_prod.keys()"
      ],
      "metadata": {
        "colab": {
          "base_uri": "https://localhost:8080/"
        },
        "id": "7-jVJjtGnica",
        "outputId": "7d2b34de-569f-4ea9-e90a-13acfa10a3e0"
      },
      "execution_count": null,
      "outputs": [
        {
          "output_type": "execute_result",
          "data": {
            "text/plain": [
              "dict_keys(['detergente', 'arroz', 'aceite'])"
            ]
          },
          "metadata": {},
          "execution_count": 63
        }
      ]
    },
    {
      "cell_type": "code",
      "source": [
        "l_dic_prod_keys = list(dic_prod.keys())\n",
        "print(f\"La lista de claves del diccionario productos \\n{l_dic_prod_keys}\")"
      ],
      "metadata": {
        "colab": {
          "base_uri": "https://localhost:8080/"
        },
        "id": "AdzjPzBmnutF",
        "outputId": "b547ad08-43b3-4123-e765-ee903adc43b8"
      },
      "execution_count": null,
      "outputs": [
        {
          "output_type": "stream",
          "name": "stdout",
          "text": [
            "La lista de claves del diccionario productos \n",
            "['detergente', 'arroz', 'aceite']\n"
          ]
        }
      ]
    },
    {
      "cell_type": "code",
      "source": [
        "for c in dic_prod.keys():\n",
        "  print(f\"La clave es {c}\")"
      ],
      "metadata": {
        "colab": {
          "base_uri": "https://localhost:8080/"
        },
        "id": "zKOJBoC0oKyG",
        "outputId": "ab1a7eb5-66f2-4075-e675-1b662e8d5513"
      },
      "execution_count": null,
      "outputs": [
        {
          "output_type": "stream",
          "name": "stdout",
          "text": [
            "La clave es detergente\n",
            "La clave es arroz\n",
            "La clave es aceite\n"
          ]
        }
      ]
    },
    {
      "cell_type": "code",
      "source": [
        "for c in l_dic_prod_keys:\n",
        "  print(f\"La clave es {c}\")"
      ],
      "metadata": {
        "colab": {
          "base_uri": "https://localhost:8080/"
        },
        "id": "qKL_0Vz8oZjP",
        "outputId": "7e203ff5-a970-4f68-8d15-cc546319bbe9"
      },
      "execution_count": null,
      "outputs": [
        {
          "output_type": "stream",
          "name": "stdout",
          "text": [
            "La clave es detergente\n",
            "La clave es arroz\n",
            "La clave es aceite\n"
          ]
        }
      ]
    },
    {
      "cell_type": "code",
      "source": [
        "prod = 'aceite'\n",
        "\n",
        "if prod in dic_prod.keys():\n",
        "  print(f\"El producto {prod} existe en el diccionario.\")\n",
        "else:\n",
        "  print(f\"El producto {prod} no existe en el diccionario\")"
      ],
      "metadata": {
        "colab": {
          "base_uri": "https://localhost:8080/"
        },
        "id": "Uz6OZXc2olN1",
        "outputId": "b4a39e29-ecba-4758-f7e9-4cc4768e4c4d"
      },
      "execution_count": null,
      "outputs": [
        {
          "output_type": "stream",
          "name": "stdout",
          "text": [
            "El producto aceite existe en el diccionario.\n"
          ]
        }
      ]
    },
    {
      "cell_type": "code",
      "source": [
        "prod = 'gaseosa'\n",
        "\n",
        "if prod in dic_prod.keys():\n",
        "  print(f\"El producto {prod} existe en el diccionario.\")\n",
        "else:\n",
        "  print(f\"El producto {prod} no existe en el diccionario\")"
      ],
      "metadata": {
        "colab": {
          "base_uri": "https://localhost:8080/"
        },
        "id": "5XjOYcN1pN7c",
        "outputId": "de33cad8-14e1-43a1-893e-ad19afc0b171"
      },
      "execution_count": null,
      "outputs": [
        {
          "output_type": "stream",
          "name": "stdout",
          "text": [
            "El producto gaseosa no existe en el diccionario\n"
          ]
        }
      ]
    },
    {
      "cell_type": "code",
      "source": [
        "claves_dic_prod = dic_prod.keys()\n",
        "print(f\"Las claves del diccionario productos son \\n{claves_dic_prod}\")"
      ],
      "metadata": {
        "colab": {
          "base_uri": "https://localhost:8080/"
        },
        "id": "tOAPc-J_pUaW",
        "outputId": "4bbca73a-e0d1-49b4-f975-3086e18fa72a"
      },
      "execution_count": null,
      "outputs": [
        {
          "output_type": "stream",
          "name": "stdout",
          "text": [
            "Las claves del diccionario productos son \n",
            "dict_keys(['detergente', 'arroz', 'aceite'])\n"
          ]
        }
      ]
    },
    {
      "cell_type": "code",
      "source": [
        "type(claves_dic_prod)"
      ],
      "metadata": {
        "colab": {
          "base_uri": "https://localhost:8080/"
        },
        "id": "Xy1PcwIEU0Eh",
        "outputId": "412e94ee-5ebb-4f7d-bcd2-770b153d0773"
      },
      "execution_count": null,
      "outputs": [
        {
          "output_type": "execute_result",
          "data": {
            "text/plain": [
              "dict_keys"
            ]
          },
          "metadata": {},
          "execution_count": 72
        }
      ]
    },
    {
      "cell_type": "code",
      "source": [
        "dic_prod[\"cereal\"] = 15 # actualizo el diccionario\n",
        "for c in dic_prod.keys():\n",
        "  print(f\"La clave es {c}\")"
      ],
      "metadata": {
        "colab": {
          "base_uri": "https://localhost:8080/"
        },
        "id": "S_v8uj7Wpynm",
        "outputId": "d80095f5-df8d-49ba-b87e-92758c6c6d8f"
      },
      "execution_count": null,
      "outputs": [
        {
          "output_type": "stream",
          "name": "stdout",
          "text": [
            "La clave es detergente\n",
            "La clave es arroz\n",
            "La clave es aceite\n",
            "La clave es cereal\n"
          ]
        }
      ]
    },
    {
      "cell_type": "code",
      "source": [
        "print(f\"Las claves del diccionario productos son \\n{claves_dic_prod}\")"
      ],
      "metadata": {
        "colab": {
          "base_uri": "https://localhost:8080/"
        },
        "id": "LWU5qonhqNr4",
        "outputId": "e81cadcb-c3df-4db8-dfb8-18621cbd1289"
      },
      "execution_count": null,
      "outputs": [
        {
          "output_type": "stream",
          "name": "stdout",
          "text": [
            "Las claves del diccionario productos son \n",
            "dict_keys(['detergente', 'arroz', 'aceite', 'cereal'])\n"
          ]
        }
      ]
    },
    {
      "cell_type": "markdown",
      "source": [
        "## Método values()"
      ],
      "metadata": {
        "id": "XPFlZbPCWe0C"
      }
    },
    {
      "cell_type": "code",
      "source": [
        "print(f\"El diccionario de productos es \\n{dic_prod}\")"
      ],
      "metadata": {
        "id": "T9euCP3oqZi4",
        "colab": {
          "base_uri": "https://localhost:8080/"
        },
        "outputId": "ea562f6c-cd01-455a-9738-6d825f738dba"
      },
      "execution_count": null,
      "outputs": [
        {
          "output_type": "stream",
          "name": "stdout",
          "text": [
            "El diccionario de productos es \n",
            "{'detergente': 70, 'arroz': 20, 'aceite': 10, 'cereal': 15}\n"
          ]
        }
      ]
    },
    {
      "cell_type": "code",
      "source": [
        "valores_dic_prod = dic_prod.values() # objeto dict_values\n",
        "print(f\"Los valores del diccionario productos son \\n{valores_dic_prod}\")\n",
        "print(f\"\\nEl tipo de dato del objeto creado es {type(valores_dic_prod)}\")"
      ],
      "metadata": {
        "colab": {
          "base_uri": "https://localhost:8080/"
        },
        "id": "F4SdWubuW5Lt",
        "outputId": "dcc6b7a8-98cf-4825-9df9-6ae8b92a35cb"
      },
      "execution_count": null,
      "outputs": [
        {
          "output_type": "stream",
          "name": "stdout",
          "text": [
            "Los valores del diccionario productos son \n",
            "dict_values([70, 20, 10, 15])\n",
            "\n",
            "El tipo de dato del objeto creado es <class 'dict_values'>\n"
          ]
        }
      ]
    },
    {
      "cell_type": "code",
      "source": [
        "l_valores_dic_prod = list(dic_prod.values()) # objeto lista\n",
        "print(f\"La lista de valores del diccionario productos son \\n{l_valores_dic_prod}\")\n",
        "print(f\"\\nEl tipo de dato del objeto creado es {type(l_valores_dic_prod)}\")"
      ],
      "metadata": {
        "colab": {
          "base_uri": "https://localhost:8080/"
        },
        "id": "9gUC_Du-Xea9",
        "outputId": "257bf0de-4aeb-4e22-97e6-8a556d94fdd8"
      },
      "execution_count": null,
      "outputs": [
        {
          "output_type": "stream",
          "name": "stdout",
          "text": [
            "La lista de valores del diccionario productos son \n",
            "[70, 20, 10, 15]\n",
            "\n",
            "El tipo de dato del objeto creado es <class 'list'>\n"
          ]
        }
      ]
    },
    {
      "cell_type": "code",
      "source": [
        "print(f\"El diccionario productos inicial es \\n{dic_prod}\")\n",
        "dic_prod[\"cafe\"] = 45 # Actualizar el diccionario\n",
        "print(f\"\\nEl diccionario productos actualizado es \\n{dic_prod}\")\n",
        "print(f\"\\nEl dict values es \\n{valores_dic_prod}\")\n",
        "print(f\"\\nLa lista es \\n{l_valores_dic_prod}\")"
      ],
      "metadata": {
        "colab": {
          "base_uri": "https://localhost:8080/"
        },
        "id": "EVp51x7VYIsX",
        "outputId": "40d2265d-e37a-4c4a-c66a-37c463a7645c"
      },
      "execution_count": null,
      "outputs": [
        {
          "output_type": "stream",
          "name": "stdout",
          "text": [
            "El diccionario productos inicial es \n",
            "{'detergente': 70, 'arroz': 20, 'aceite': 10, 'cereal': 15}\n",
            "\n",
            "El diccionario productos actualizado es \n",
            "{'detergente': 70, 'arroz': 20, 'aceite': 10, 'cereal': 15, 'cafe': 45}\n",
            "\n",
            "El dict values es \n",
            "dict_values([70, 20, 10, 15, 45])\n",
            "\n",
            "La lista es \n",
            "[70, 20, 10, 15]\n"
          ]
        }
      ]
    },
    {
      "cell_type": "markdown",
      "source": [
        "## Ejercicio"
      ],
      "metadata": {
        "id": "RFT7Pwp2c3QF"
      }
    },
    {
      "cell_type": "code",
      "source": [
        "from google.colab import files\n",
        "\n",
        "# Subir archivo desde tu máquina local\n",
        "uploaded = files.upload()"
      ],
      "metadata": {
        "colab": {
          "base_uri": "https://localhost:8080/",
          "height": 73
        },
        "id": "VRHlnu5oZBY2",
        "outputId": "9f9bc96c-538c-45f6-a104-e5b46c50e4a6"
      },
      "execution_count": null,
      "outputs": [
        {
          "output_type": "display_data",
          "data": {
            "text/plain": [
              "<IPython.core.display.HTML object>"
            ],
            "text/html": [
              "\n",
              "     <input type=\"file\" id=\"files-6dadd280-1f2a-49dc-8714-35d9d5357e95\" name=\"files[]\" multiple disabled\n",
              "        style=\"border:none\" />\n",
              "     <output id=\"result-6dadd280-1f2a-49dc-8714-35d9d5357e95\">\n",
              "      Upload widget is only available when the cell has been executed in the\n",
              "      current browser session. Please rerun this cell to enable.\n",
              "      </output>\n",
              "      <script>// Copyright 2017 Google LLC\n",
              "//\n",
              "// Licensed under the Apache License, Version 2.0 (the \"License\");\n",
              "// you may not use this file except in compliance with the License.\n",
              "// You may obtain a copy of the License at\n",
              "//\n",
              "//      http://www.apache.org/licenses/LICENSE-2.0\n",
              "//\n",
              "// Unless required by applicable law or agreed to in writing, software\n",
              "// distributed under the License is distributed on an \"AS IS\" BASIS,\n",
              "// WITHOUT WARRANTIES OR CONDITIONS OF ANY KIND, either express or implied.\n",
              "// See the License for the specific language governing permissions and\n",
              "// limitations under the License.\n",
              "\n",
              "/**\n",
              " * @fileoverview Helpers for google.colab Python module.\n",
              " */\n",
              "(function(scope) {\n",
              "function span(text, styleAttributes = {}) {\n",
              "  const element = document.createElement('span');\n",
              "  element.textContent = text;\n",
              "  for (const key of Object.keys(styleAttributes)) {\n",
              "    element.style[key] = styleAttributes[key];\n",
              "  }\n",
              "  return element;\n",
              "}\n",
              "\n",
              "// Max number of bytes which will be uploaded at a time.\n",
              "const MAX_PAYLOAD_SIZE = 100 * 1024;\n",
              "\n",
              "function _uploadFiles(inputId, outputId) {\n",
              "  const steps = uploadFilesStep(inputId, outputId);\n",
              "  const outputElement = document.getElementById(outputId);\n",
              "  // Cache steps on the outputElement to make it available for the next call\n",
              "  // to uploadFilesContinue from Python.\n",
              "  outputElement.steps = steps;\n",
              "\n",
              "  return _uploadFilesContinue(outputId);\n",
              "}\n",
              "\n",
              "// This is roughly an async generator (not supported in the browser yet),\n",
              "// where there are multiple asynchronous steps and the Python side is going\n",
              "// to poll for completion of each step.\n",
              "// This uses a Promise to block the python side on completion of each step,\n",
              "// then passes the result of the previous step as the input to the next step.\n",
              "function _uploadFilesContinue(outputId) {\n",
              "  const outputElement = document.getElementById(outputId);\n",
              "  const steps = outputElement.steps;\n",
              "\n",
              "  const next = steps.next(outputElement.lastPromiseValue);\n",
              "  return Promise.resolve(next.value.promise).then((value) => {\n",
              "    // Cache the last promise value to make it available to the next\n",
              "    // step of the generator.\n",
              "    outputElement.lastPromiseValue = value;\n",
              "    return next.value.response;\n",
              "  });\n",
              "}\n",
              "\n",
              "/**\n",
              " * Generator function which is called between each async step of the upload\n",
              " * process.\n",
              " * @param {string} inputId Element ID of the input file picker element.\n",
              " * @param {string} outputId Element ID of the output display.\n",
              " * @return {!Iterable<!Object>} Iterable of next steps.\n",
              " */\n",
              "function* uploadFilesStep(inputId, outputId) {\n",
              "  const inputElement = document.getElementById(inputId);\n",
              "  inputElement.disabled = false;\n",
              "\n",
              "  const outputElement = document.getElementById(outputId);\n",
              "  outputElement.innerHTML = '';\n",
              "\n",
              "  const pickedPromise = new Promise((resolve) => {\n",
              "    inputElement.addEventListener('change', (e) => {\n",
              "      resolve(e.target.files);\n",
              "    });\n",
              "  });\n",
              "\n",
              "  const cancel = document.createElement('button');\n",
              "  inputElement.parentElement.appendChild(cancel);\n",
              "  cancel.textContent = 'Cancel upload';\n",
              "  const cancelPromise = new Promise((resolve) => {\n",
              "    cancel.onclick = () => {\n",
              "      resolve(null);\n",
              "    };\n",
              "  });\n",
              "\n",
              "  // Wait for the user to pick the files.\n",
              "  const files = yield {\n",
              "    promise: Promise.race([pickedPromise, cancelPromise]),\n",
              "    response: {\n",
              "      action: 'starting',\n",
              "    }\n",
              "  };\n",
              "\n",
              "  cancel.remove();\n",
              "\n",
              "  // Disable the input element since further picks are not allowed.\n",
              "  inputElement.disabled = true;\n",
              "\n",
              "  if (!files) {\n",
              "    return {\n",
              "      response: {\n",
              "        action: 'complete',\n",
              "      }\n",
              "    };\n",
              "  }\n",
              "\n",
              "  for (const file of files) {\n",
              "    const li = document.createElement('li');\n",
              "    li.append(span(file.name, {fontWeight: 'bold'}));\n",
              "    li.append(span(\n",
              "        `(${file.type || 'n/a'}) - ${file.size} bytes, ` +\n",
              "        `last modified: ${\n",
              "            file.lastModifiedDate ? file.lastModifiedDate.toLocaleDateString() :\n",
              "                                    'n/a'} - `));\n",
              "    const percent = span('0% done');\n",
              "    li.appendChild(percent);\n",
              "\n",
              "    outputElement.appendChild(li);\n",
              "\n",
              "    const fileDataPromise = new Promise((resolve) => {\n",
              "      const reader = new FileReader();\n",
              "      reader.onload = (e) => {\n",
              "        resolve(e.target.result);\n",
              "      };\n",
              "      reader.readAsArrayBuffer(file);\n",
              "    });\n",
              "    // Wait for the data to be ready.\n",
              "    let fileData = yield {\n",
              "      promise: fileDataPromise,\n",
              "      response: {\n",
              "        action: 'continue',\n",
              "      }\n",
              "    };\n",
              "\n",
              "    // Use a chunked sending to avoid message size limits. See b/62115660.\n",
              "    let position = 0;\n",
              "    do {\n",
              "      const length = Math.min(fileData.byteLength - position, MAX_PAYLOAD_SIZE);\n",
              "      const chunk = new Uint8Array(fileData, position, length);\n",
              "      position += length;\n",
              "\n",
              "      const base64 = btoa(String.fromCharCode.apply(null, chunk));\n",
              "      yield {\n",
              "        response: {\n",
              "          action: 'append',\n",
              "          file: file.name,\n",
              "          data: base64,\n",
              "        },\n",
              "      };\n",
              "\n",
              "      let percentDone = fileData.byteLength === 0 ?\n",
              "          100 :\n",
              "          Math.round((position / fileData.byteLength) * 100);\n",
              "      percent.textContent = `${percentDone}% done`;\n",
              "\n",
              "    } while (position < fileData.byteLength);\n",
              "  }\n",
              "\n",
              "  // All done.\n",
              "  yield {\n",
              "    response: {\n",
              "      action: 'complete',\n",
              "    }\n",
              "  };\n",
              "}\n",
              "\n",
              "scope.google = scope.google || {};\n",
              "scope.google.colab = scope.google.colab || {};\n",
              "scope.google.colab._files = {\n",
              "  _uploadFiles,\n",
              "  _uploadFilesContinue,\n",
              "};\n",
              "})(self);\n",
              "</script> "
            ]
          },
          "metadata": {}
        },
        {
          "output_type": "stream",
          "name": "stdout",
          "text": [
            "Saving ej001_cl111224.png to ej001_cl111224.png\n"
          ]
        }
      ]
    },
    {
      "cell_type": "code",
      "source": [
        "from IPython.display import Image, display\n",
        "\n",
        "# Mostrar la imagen en Colab\n",
        "display(Image(filename='ej001_cl111224.png'))"
      ],
      "metadata": {
        "colab": {
          "base_uri": "https://localhost:8080/",
          "height": 465
        },
        "id": "XReexOVKc7Gm",
        "outputId": "0b9c5e7b-9ed8-44af-c5c8-7f0c19a22b2d"
      },
      "execution_count": null,
      "outputs": [
        {
          "output_type": "display_data",
          "data": {
            "image/png": "[encoded data removed]",
            "text/plain": [
              "<IPython.core.display.Image object>"
            ]
          },
          "metadata": {}
        }
      ]
    },
    {
      "cell_type": "code",
      "source": [
        "dic_jugadores = {\"Messi\":10,\n",
        "                 \"Iniesta\":8,\n",
        "                 \"Xavi\":6,\n",
        "                 \"Villa\":7,\n",
        "                 \"Neymar\":11\n",
        "                 }"
      ],
      "metadata": {
        "id": "uTzcZAi_dDSF"
      },
      "execution_count": null,
      "outputs": []
    },
    {
      "cell_type": "code",
      "source": [
        "print(f\"El diccionario de jugadores es \\n{dic_jugadores}\")\n",
        "print(f\"\\nEl tipo de dato del objeto diccionario es {type(dic_jugadores)}\")"
      ],
      "metadata": {
        "colab": {
          "base_uri": "https://localhost:8080/"
        },
        "id": "eiXOlE-odWwF",
        "outputId": "5f6bfe60-826b-40b8-cdac-41c3b0152bf0"
      },
      "execution_count": null,
      "outputs": [
        {
          "output_type": "stream",
          "name": "stdout",
          "text": [
            "El diccionario de jugadores es \n",
            "{'Messi': 10, 'Iniesta': 8, 'Xavi': 6, 'Villa': 7, 'Neymar': 11}\n",
            "\n",
            "El tipo de dato del objeto diccionario es <class 'dict'>\n"
          ]
        }
      ]
    },
    {
      "cell_type": "code",
      "source": [
        "dic_jugadores_ = {'ronaldo': 7,\n",
        "                  'leonel': 10,\n",
        "                  'romario': 11,\n",
        "                  'pele': 12,\n",
        "                  'kaka': 8\n",
        "                  }\n",
        "print(f\"El diccionario de jugadores es \\n{dic_jugadores_}\")\n",
        "print(f\"\\nEl tipo de dato del objeto diccionario es {type(dic_jugadores_)}\")"
      ],
      "metadata": {
        "colab": {
          "base_uri": "https://localhost:8080/"
        },
        "id": "utwi3PrSdcA9",
        "outputId": "7465ecb7-0f8d-4439-f048-5b44acc21cb8"
      },
      "execution_count": null,
      "outputs": [
        {
          "output_type": "stream",
          "name": "stdout",
          "text": [
            "El diccionario de jugadores es \n",
            "{'ronaldo': 7, 'leonel': 10, 'romario': 11, 'pele': 12, 'kaka': 8}\n",
            "\n",
            "El tipo de dato del objeto diccionario es <class 'dict'>\n"
          ]
        }
      ]
    },
    {
      "cell_type": "code",
      "source": [
        "print(f\"Los pares clave:valor del diccionario son \\n{dic_jugadores.items()}\")\n",
        "print(f\"\\nLas claves del diccionario son \\n{dic_jugadores.keys()}\")\n",
        "print(f\"\\nLos valores del diccionario son \\n{dic_jugadores.values()}\")"
      ],
      "metadata": {
        "colab": {
          "base_uri": "https://localhost:8080/"
        },
        "id": "i5KyZWTrd3OG",
        "outputId": "04dc1b0f-d4ff-475f-c36c-06f20ccd728a"
      },
      "execution_count": null,
      "outputs": [
        {
          "output_type": "stream",
          "name": "stdout",
          "text": [
            "Los pares clave:valor del diccionario son \n",
            "dict_items([('Messi', 10), ('Iniesta', 8), ('Xavi', 6), ('Villa', 7), ('Neymar', 11)])\n",
            "\n",
            "Las claves del diccionario son \n",
            "dict_keys(['Messi', 'Iniesta', 'Xavi', 'Villa', 'Neymar'])\n",
            "\n",
            "Los valores del diccionario son \n",
            "dict_values([10, 8, 6, 7, 11])\n"
          ]
        }
      ]
    },
    {
      "cell_type": "code",
      "source": [
        "items_dic_jugadores = dic_jugadores.items() # Pares clave:valor\n",
        "keys_dic_jugadores = dic_jugadores.keys() # Claves\n",
        "values_dic_jugadores = dic_jugadores.values() # Valores"
      ],
      "metadata": {
        "id": "fEJQNHvmedj1"
      },
      "execution_count": null,
      "outputs": []
    },
    {
      "cell_type": "code",
      "source": [
        "print(f\"El diccionario inicial de jugadores es \\n{dic_jugadores}\")\n",
        "dic_jugadores[\"Pele\"] = 10 # Actualizamos el diccionario\n",
        "print(f\"\\nEl diccionario actualizado de jugadores es \\n{dic_jugadores}\")"
      ],
      "metadata": {
        "colab": {
          "base_uri": "https://localhost:8080/"
        },
        "id": "veln0ThOfETX",
        "outputId": "96574fed-e336-47d8-b0e1-ea7f818a26b0"
      },
      "execution_count": null,
      "outputs": [
        {
          "output_type": "stream",
          "name": "stdout",
          "text": [
            "El diccionario inicial de jugadores es \n",
            "{'Messi': 10, 'Iniesta': 8, 'Xavi': 6, 'Villa': 7, 'Neymar': 11}\n",
            "\n",
            "El diccionario actualizado de jugadores es \n",
            "{'Messi': 10, 'Iniesta': 8, 'Xavi': 6, 'Villa': 7, 'Neymar': 11, 'Pele': 10}\n"
          ]
        }
      ]
    },
    {
      "cell_type": "code",
      "source": [
        "print(f\"Los pares clave: valor del diccionario son \\n{items_dic_jugadores}\")\n",
        "print(f\"\\nLas claves del diccionario son \\n{keys_dic_jugadores}\")\n",
        "print(f\"\\nLos valores del diccionario son \\n{values_dic_jugadores}\")"
      ],
      "metadata": {
        "colab": {
          "base_uri": "https://localhost:8080/"
        },
        "id": "R2ew5h_IfXoM",
        "outputId": "297f8c3f-3cda-4972-b96c-2f285c07e24e"
      },
      "execution_count": null,
      "outputs": [
        {
          "output_type": "stream",
          "name": "stdout",
          "text": [
            "Los pares clave: valor del diccionario son \n",
            "dict_items([('Messi', 10), ('Iniesta', 8), ('Xavi', 6), ('Villa', 7), ('Neymar', 11), ('Pele', 10)])\n",
            "\n",
            "Las claves del diccionario son \n",
            "dict_keys(['Messi', 'Iniesta', 'Xavi', 'Villa', 'Neymar', 'Pele'])\n",
            "\n",
            "Los valores del diccionario son \n",
            "dict_values([10, 8, 6, 7, 11, 10])\n"
          ]
        }
      ]
    },
    {
      "cell_type": "markdown",
      "source": [
        "## Agregar/Modificar un valor dentro de un diccionario"
      ],
      "metadata": {
        "id": "zsy4BVE7g6Nk"
      }
    },
    {
      "cell_type": "code",
      "source": [
        "print(f\"El diccionario inicial es \\n{dic_jugadores}\")\n",
        "dic_jugadores[\"cueva\"] = 10 # Agregando (actualizando) diccionario\n",
        "print(f\"\\nEl diccionario actualizado es \\n{dic_jugadores}\")"
      ],
      "metadata": {
        "colab": {
          "base_uri": "https://localhost:8080/"
        },
        "id": "ob-REuIvf_tn",
        "outputId": "97d3fb95-e5a1-4acc-f646-06b6b9f56791"
      },
      "execution_count": null,
      "outputs": [
        {
          "output_type": "stream",
          "name": "stdout",
          "text": [
            "El diccionario inicial es \n",
            "{'Messi': 10, 'Iniesta': 8, 'Xavi': 6, 'Villa': 7, 'Neymar': 11, 'Pele': 10}\n",
            "\n",
            "El diccionario actualizado es \n",
            "{'Messi': 10, 'Iniesta': 8, 'Xavi': 6, 'Villa': 7, 'Neymar': 11, 'Pele': 10, 'cueva': 10}\n"
          ]
        }
      ]
    },
    {
      "cell_type": "code",
      "source": [
        "dic_jugadores[\"cueva\"] = 100\n",
        "print(f\"\\nEl diccionario actualizado es \\n{dic_jugadores}\")"
      ],
      "metadata": {
        "colab": {
          "base_uri": "https://localhost:8080/"
        },
        "id": "LJg003GlhgQo",
        "outputId": "44911cdf-655b-408e-ddea-e1cf9b9bd2cf"
      },
      "execution_count": null,
      "outputs": [
        {
          "output_type": "stream",
          "name": "stdout",
          "text": [
            "\n",
            "El diccionario actualizado es \n",
            "{'Messi': 10, 'Iniesta': 8, 'Xavi': 6, 'Villa': 7, 'Neymar': 11, 'Pele': 10, 'cueva': 100}\n"
          ]
        }
      ]
    },
    {
      "cell_type": "code",
      "source": [
        "dic_jugadores[\"iniesta\"] = 1000\n",
        "print(f\"\\nEl diccionario actualizado es \\n{dic_jugadores}\")\n"
      ],
      "metadata": {
        "colab": {
          "base_uri": "https://localhost:8080/"
        },
        "id": "DDeldrM_hvRu",
        "outputId": "56195a37-9fde-4304-a756-9c7f3a5f8e19"
      },
      "execution_count": null,
      "outputs": [
        {
          "output_type": "stream",
          "name": "stdout",
          "text": [
            "\n",
            "El diccionario actualizado es \n",
            "{'Messi': 10, 'Iniesta': 8, 'Xavi': 6, 'Villa': 7, 'Neymar': 11, 'Pele': 10, 'cueva': 100, 'iniesta': 1000}\n"
          ]
        }
      ]
    },
    {
      "cell_type": "markdown",
      "source": [
        "## Crear un diccionario a partir de una lista"
      ],
      "metadata": {
        "id": "y0_nZit8iRzP"
      }
    },
    {
      "cell_type": "code",
      "source": [
        "lista_universidades = [\"UTEC\",\"UNI\",\"UPC\",\"UNMSM\",\"UNALM\"]\n",
        "print(f\"La lista de universidades es \\n{lista_universidades}\")"
      ],
      "metadata": {
        "colab": {
          "base_uri": "https://localhost:8080/"
        },
        "id": "Fx_BkfaZiEp9",
        "outputId": "93b50c22-9d76-49da-d5a0-a2e5f02cf872"
      },
      "execution_count": null,
      "outputs": [
        {
          "output_type": "stream",
          "name": "stdout",
          "text": [
            "La lista de universidades es \n",
            "['UTEC', 'UNI', 'UPC', 'UNMSM', 'UNALM']\n"
          ]
        }
      ]
    },
    {
      "cell_type": "code",
      "source": [
        "print(f\"El tipo de dato de la lista creada es \\n{type(lista_universidades)}\")"
      ],
      "metadata": {
        "colab": {
          "base_uri": "https://localhost:8080/"
        },
        "id": "f2s0V8mDi2Vz",
        "outputId": "39f72d34-fd74-45b5-8506-14964b90ce8a"
      },
      "execution_count": null,
      "outputs": [
        {
          "output_type": "stream",
          "name": "stdout",
          "text": [
            "El tipo de dato de la lista creada es \n",
            "<class 'list'>\n"
          ]
        }
      ]
    },
    {
      "cell_type": "code",
      "source": [
        "dic_universidades = dict.fromkeys(lista_universidades)\n",
        "print(f\"El diccionario de universidades es \\n{dic_universidades}\")\n",
        "print(f\"\\nEl tipo de dato del diccionario es \\n{type(dic_universidades)}\")"
      ],
      "metadata": {
        "colab": {
          "base_uri": "https://localhost:8080/"
        },
        "id": "-j1sHwONioiH",
        "outputId": "85c712eb-288e-429f-cdca-a54d228bb60d"
      },
      "execution_count": null,
      "outputs": [
        {
          "output_type": "stream",
          "name": "stdout",
          "text": [
            "El diccionario de universidades es \n",
            "{'UTEC': None, 'UNI': None, 'UPC': None, 'UNMSM': None, 'UNALM': None}\n",
            "\n",
            "El tipo de dato del diccionario es \n",
            "<class 'dict'>\n"
          ]
        }
      ]
    },
    {
      "cell_type": "code",
      "source": [
        "dic_universidades_ = dict.fromkeys(lista_universidades,1)\n",
        "print(f\"El diccionario de universidades es \\n{dic_universidades_}\")\n",
        "print(f\"\\nEl tipo de dato del diccionario es \\n{type(dic_universidades_)}\")"
      ],
      "metadata": {
        "colab": {
          "base_uri": "https://localhost:8080/"
        },
        "id": "wVMGMomqjPYT",
        "outputId": "eb39525a-5002-4cb8-c09c-d4dfdbe6f606"
      },
      "execution_count": null,
      "outputs": [
        {
          "output_type": "stream",
          "name": "stdout",
          "text": [
            "El diccionario de universidades es \n",
            "{'UTEC': 1, 'UNI': 1, 'UPC': 1, 'UNMSM': 1, 'UNALM': 1}\n",
            "\n",
            "El tipo de dato del diccionario es \n",
            "<class 'dict'>\n"
          ]
        }
      ]
    },
    {
      "cell_type": "code",
      "source": [
        "for c,v in dic_universidades.items():\n",
        "  print(f\"La clave es {c} y el valor es {v}\")"
      ],
      "metadata": {
        "colab": {
          "base_uri": "https://localhost:8080/"
        },
        "id": "NvhwQllmjQAt",
        "outputId": "9edc52a5-3b3a-4ecd-87b0-2fe19df7d549"
      },
      "execution_count": null,
      "outputs": [
        {
          "output_type": "stream",
          "name": "stdout",
          "text": [
            "La clave es UTEC y el valor es None\n",
            "La clave es UNI y el valor es None\n",
            "La clave es UPC y el valor es None\n",
            "La clave es UNMSM y el valor es None\n",
            "La clave es UNALM y el valor es None\n"
          ]
        }
      ]
    },
    {
      "cell_type": "code",
      "source": [
        "dic_universidades[\"UTEC\"] = 1000"
      ],
      "metadata": {
        "id": "XUCmq7rLk7DR"
      },
      "execution_count": null,
      "outputs": []
    },
    {
      "cell_type": "code",
      "source": [
        "for c,v in dic_universidades.items():\n",
        "  print(f\"La clave es {c} y el valor es {v}\")"
      ],
      "metadata": {
        "colab": {
          "base_uri": "https://localhost:8080/"
        },
        "id": "frjQjUs4k-Je",
        "outputId": "c1ba3297-efac-4870-f8a3-9d953bf16eb7"
      },
      "execution_count": null,
      "outputs": [
        {
          "output_type": "stream",
          "name": "stdout",
          "text": [
            "La clave es UTEC y el valor es 1000\n",
            "La clave es UNI y el valor es None\n",
            "La clave es UPC y el valor es None\n",
            "La clave es UNMSM y el valor es None\n",
            "La clave es UNALM y el valor es None\n"
          ]
        }
      ]
    },
    {
      "cell_type": "code",
      "source": [
        "for c,v in dic_universidades_.items():\n",
        "  print(f\"La clave es {c} y el valor es {v}\")"
      ],
      "metadata": {
        "colab": {
          "base_uri": "https://localhost:8080/"
        },
        "id": "kibJLH0SjQbk",
        "outputId": "6baf78fb-8c16-4eab-8ac1-ae2ac4318d73"
      },
      "execution_count": null,
      "outputs": [
        {
          "output_type": "stream",
          "name": "stdout",
          "text": [
            "La clave es UTEC y el valor es 1\n",
            "La clave es UNI y el valor es 1\n",
            "La clave es UPC y el valor es 1\n",
            "La clave es UNMSM y el valor es 1\n",
            "La clave es UNALM y el valor es 1\n"
          ]
        }
      ]
    },
    {
      "cell_type": "markdown",
      "source": [
        "## Método popitem()"
      ],
      "metadata": {
        "id": "IcbayUzDpkrs"
      }
    },
    {
      "cell_type": "code",
      "source": [
        "print(f\"El diccionario de jugadores es \\n{dic_jugadores}\")"
      ],
      "metadata": {
        "colab": {
          "base_uri": "https://localhost:8080/"
        },
        "id": "MmWkFZnFk3ON",
        "outputId": "bd6b6cb0-0499-430f-fa11-911738f23898"
      },
      "execution_count": null,
      "outputs": [
        {
          "output_type": "stream",
          "name": "stdout",
          "text": [
            "El diccionario de jugadores es \n",
            "{'Messi': 10, 'Iniesta': 8, 'Xavi': 6, 'Villa': 7, 'Neymar': 11, 'Pele': 10, 'cueva': 100, 'iniesta': 1000}\n"
          ]
        }
      ]
    },
    {
      "cell_type": "code",
      "source": [
        "par_1 = dic_jugadores.popitem()\n",
        "print(f\"El diccionario actualizado de jugadores es \\n{dic_jugadores}\")\n",
        "print(f\"\\nEl par clave:valor eliminado es {par_1}\")"
      ],
      "metadata": {
        "colab": {
          "base_uri": "https://localhost:8080/"
        },
        "id": "WIndvOc0pyji",
        "outputId": "523169d5-c394-496c-c0f1-49d166103ac4"
      },
      "execution_count": null,
      "outputs": [
        {
          "output_type": "stream",
          "name": "stdout",
          "text": [
            "El diccionario actualizado de jugadores es \n",
            "{'Messi': 10, 'Iniesta': 8, 'Xavi': 6, 'Villa': 7, 'Neymar': 11, 'Pele': 10, 'cueva': 100}\n",
            "\n",
            "El par clave:valor eliminado es ('iniesta', 1000)\n"
          ]
        }
      ]
    },
    {
      "cell_type": "code",
      "source": [
        "print(f\"El tipo de dato del par clave:valor eliminado es {type(par_1)}\")"
      ],
      "metadata": {
        "colab": {
          "base_uri": "https://localhost:8080/"
        },
        "id": "O-9kF0GIqzeQ",
        "outputId": "30b4a45e-ceac-46b9-b8c3-59b3661c3fd6"
      },
      "execution_count": null,
      "outputs": [
        {
          "output_type": "stream",
          "name": "stdout",
          "text": [
            "El tipo de dato del par clave:valor eliminado es <class 'tuple'>\n"
          ]
        }
      ]
    },
    {
      "cell_type": "markdown",
      "source": [
        "## El Método pop()"
      ],
      "metadata": {
        "id": "k5PJwXtYrZDd"
      }
    },
    {
      "cell_type": "code",
      "source": [
        "print(f\"El diccionario de universidades es \\n{dic_universidades_}\")"
      ],
      "metadata": {
        "colab": {
          "base_uri": "https://localhost:8080/"
        },
        "id": "zasy68w1rFk0",
        "outputId": "8505fa19-027c-4fd4-e413-61555da1c6b5"
      },
      "execution_count": null,
      "outputs": [
        {
          "output_type": "stream",
          "name": "stdout",
          "text": [
            "El diccionario de universidades es \n",
            "{'UTEC': 1, 'UNI': 1, 'UPC': 1, 'UNMSM': 1, 'UNALM': 1}\n"
          ]
        }
      ]
    },
    {
      "cell_type": "code",
      "source": [
        "print(f\"El diccionario actualizado de universidades es \\n{dic_universidades_}\")"
      ],
      "metadata": {
        "colab": {
          "base_uri": "https://localhost:8080/"
        },
        "id": "g8AKi3JTsQmY",
        "outputId": "15f5abb1-a988-4473-f8d9-ea091776350b"
      },
      "execution_count": null,
      "outputs": [
        {
          "output_type": "stream",
          "name": "stdout",
          "text": [
            "El diccionario actualizado de universidades es \n",
            "{'UNI': 1, 'UPC': 1, 'UNMSM': 1, 'UNALM': 1}\n"
          ]
        }
      ]
    },
    {
      "cell_type": "code",
      "source": [
        "dic_universidades_.pop(\"UTEC\") # Elimino el par clave: valor a partir de una clave específica, retorna el valor correspondiente a la clave"
      ],
      "metadata": {
        "colab": {
          "base_uri": "https://localhost:8080/"
        },
        "id": "2pfC9ti7rnSw",
        "outputId": "873c2763-3652-489a-b1fc-85743099ae1b"
      },
      "execution_count": null,
      "outputs": [
        {
          "output_type": "execute_result",
          "data": {
            "text/plain": [
              "1"
            ]
          },
          "metadata": {},
          "execution_count": 105
        }
      ]
    },
    {
      "cell_type": "code",
      "source": [
        "dic_universidades_.pop(\"ULIMA\") # Elimino el par clave: valor a partir de una clave no existente"
      ],
      "metadata": {
        "colab": {
          "base_uri": "https://localhost:8080/",
          "height": 144
        },
        "id": "YC63zUblsYxO",
        "outputId": "a7ae9004-108c-4b4b-f29b-9f9657c9b52a"
      },
      "execution_count": null,
      "outputs": [
        {
          "output_type": "error",
          "ename": "KeyError",
          "evalue": "'ULIMA'",
          "traceback": [
            "\u001b[0;31m---------------------------------------------------------------------------\u001b[0m",
            "\u001b[0;31mKeyError\u001b[0m                                  Traceback (most recent call last)",
            "\u001b[0;32m<ipython-input-107-24e9d68e288f>\u001b[0m in \u001b[0;36m<cell line: 1>\u001b[0;34m()\u001b[0m\n\u001b[0;32m----> 1\u001b[0;31m \u001b[0mdic_universidades_\u001b[0m\u001b[0;34m.\u001b[0m\u001b[0mpop\u001b[0m\u001b[0;34m(\u001b[0m\u001b[0;34m\"ULIMA\"\u001b[0m\u001b[0;34m)\u001b[0m \u001b[0;31m# Elimino el par clave: valor a partir de una clave no existente\u001b[0m\u001b[0;34m\u001b[0m\u001b[0;34m\u001b[0m\u001b[0m\n\u001b[0m",
            "\u001b[0;31mKeyError\u001b[0m: 'ULIMA'"
          ]
        }
      ]
    },
    {
      "cell_type": "code",
      "source": [
        "dic_universidades_.pop(\"ULIMA\",999) # Elimino el par clave: valor a partir de una clave no existente"
      ],
      "metadata": {
        "colab": {
          "base_uri": "https://localhost:8080/"
        },
        "id": "hw2aXY6mtB_A",
        "outputId": "dee8437a-8e53-4542-d171-98e10e0bc33b"
      },
      "execution_count": null,
      "outputs": [
        {
          "output_type": "execute_result",
          "data": {
            "text/plain": [
              "999"
            ]
          },
          "metadata": {},
          "execution_count": 108
        }
      ]
    },
    {
      "cell_type": "code",
      "source": [
        "dic_universidades_.pop(\"ULIMA\",\"Clave no existente\") # Elimino el par clave: valor a partir de una clave no existente"
      ],
      "metadata": {
        "colab": {
          "base_uri": "https://localhost:8080/",
          "height": 36
        },
        "id": "vn8MNRawtV5k",
        "outputId": "fd97e423-757a-4d29-f274-51b1a70e8ed7"
      },
      "execution_count": null,
      "outputs": [
        {
          "output_type": "execute_result",
          "data": {
            "text/plain": [
              "'Clave no existente'"
            ],
            "application/vnd.google.colaboratory.intrinsic+json": {
              "type": "string"
            }
          },
          "metadata": {},
          "execution_count": 109
        }
      ]
    },
    {
      "cell_type": "markdown",
      "source": [
        "## Método setdefault()"
      ],
      "metadata": {
        "id": "JPv7ncp7uDQC"
      }
    },
    {
      "cell_type": "code",
      "source": [
        "%whos"
      ],
      "metadata": {
        "colab": {
          "base_uri": "https://localhost:8080/"
        },
        "id": "s7OBybx7thZI",
        "outputId": "f862e7c2-83f7-4905-c6c5-80d597378400"
      },
      "execution_count": null,
      "outputs": [
        {
          "output_type": "stream",
          "name": "stdout",
          "text": [
            "Variable               Type           Data/Info\n",
            "-----------------------------------------------\n",
            "Image                  type           <class 'IPython.core.display.Image'>\n",
            "c                      str            UNALM\n",
            "claves_dic_prod        dict_keys      dict_keys(['detergente', <...>eite', 'cereal', 'cafe'])\n",
            "dc_0                   dict           n=0\n",
            "dc_1                   dict           n=3\n",
            "dc_2                   dict           n=3\n",
            "dc_2_ele2              list           n=3\n",
            "dc_3                   dict           n=0\n",
            "dc_4                   dict           n=3\n",
            "dc_5                   dict           n=5\n",
            "dic_jugadores          dict           n=7\n",
            "dic_jugadores_         dict           n=5\n",
            "dic_prod               dict           n=5\n",
            "dic_universidades      dict           n=5\n",
            "dic_universidades_     dict           n=4\n",
            "dict_info              dict           n=0\n",
            "display                function       <function display at 0x7d798f27cca0>\n",
            "files                  module         <module 'google.colab.fil<...>s/google/colab/files.py'>\n",
            "items_dc_1             dict_items     dict_items([('a', 1), ('b', 2), ('c', 3)])\n",
            "items_dic_jugadores    dict_items     dict_items([('Messi', 10)<...>e', 10), ('cueva', 100)])\n",
            "keys_dic_jugadores     dict_keys      dict_keys(['Messi', 'Inie<...>eymar', 'Pele', 'cueva'])\n",
            "l_0                    list           n=0\n",
            "l_dc_2                 list           n=3\n",
            "l_dc_2_0               list           n=2\n",
            "l_dc_5                 list           n=5\n",
            "l_dic_prod_keys        list           n=3\n",
            "l_valores_dic_prod     list           n=4\n",
            "lista_universidades    list           n=5\n",
            "par_1                  tuple          n=2\n",
            "prod                   str            gaseosa\n",
            "referencia             dict           n=0\n",
            "t_0                    tuple          n=0\n",
            "uploaded               dict           n=1\n",
            "v                      NoneType       None\n",
            "valores_dic_prod       dict_values    dict_values([70, 20, 10, 15, 45])\n",
            "values_dic_jugadores   dict_values    dict_values([10, 8, 6, 7, 11, 10, 100])\n"
          ]
        }
      ]
    },
    {
      "cell_type": "code",
      "source": [
        "print(f\"El diccionario es {dc_1}\")"
      ],
      "metadata": {
        "colab": {
          "base_uri": "https://localhost:8080/"
        },
        "id": "tFLtEBdZuQhn",
        "outputId": "eabd503d-37f5-49da-94a0-8758161f8618"
      },
      "execution_count": null,
      "outputs": [
        {
          "output_type": "stream",
          "name": "stdout",
          "text": [
            "El diccionario es {'a': 1, 'b': 2, 'c': 3}\n"
          ]
        }
      ]
    },
    {
      "cell_type": "code",
      "source": [
        "dc_1.setdefault(\"a\") # Va a buscar la clave \"a\" en el diccionario y me entrega el valor"
      ],
      "metadata": {
        "colab": {
          "base_uri": "https://localhost:8080/"
        },
        "id": "j4BnuM-Pubfm",
        "outputId": "af6381b3-d805-469f-afca-211e9869192d"
      },
      "execution_count": null,
      "outputs": [
        {
          "output_type": "execute_result",
          "data": {
            "text/plain": [
              "1"
            ]
          },
          "metadata": {},
          "execution_count": 112
        }
      ]
    },
    {
      "cell_type": "code",
      "source": [
        "print(f\"El diccionario de jugadores es \\n{dic_jugadores}\")"
      ],
      "metadata": {
        "colab": {
          "base_uri": "https://localhost:8080/"
        },
        "id": "Ic0CPUuEur15",
        "outputId": "139ff758-991d-4c01-fc56-332ca55bacab"
      },
      "execution_count": null,
      "outputs": [
        {
          "output_type": "stream",
          "name": "stdout",
          "text": [
            "El diccionario de jugadores es \n",
            "{'Messi': 10, 'Iniesta': 8, 'Xavi': 6, 'Villa': 7, 'Neymar': 11, 'Pele': 10, 'cueva': 100}\n"
          ]
        }
      ]
    },
    {
      "cell_type": "code",
      "source": [
        "dic_jugadores.setdefault(\"cueva\")"
      ],
      "metadata": {
        "colab": {
          "base_uri": "https://localhost:8080/"
        },
        "id": "A3gV5D_AvATb",
        "outputId": "9a876226-6efd-4647-f3b1-e92954247ed5"
      },
      "execution_count": null,
      "outputs": [
        {
          "output_type": "execute_result",
          "data": {
            "text/plain": [
              "100"
            ]
          },
          "metadata": {},
          "execution_count": 114
        }
      ]
    },
    {
      "cell_type": "code",
      "source": [
        "dic_jugadores.setdefault(\"Maradona\") # Buscar la clave \"Maradona\" en el diccionario dic_jugadores"
      ],
      "metadata": {
        "id": "IP2CwIPzvH-H"
      },
      "execution_count": null,
      "outputs": []
    },
    {
      "cell_type": "code",
      "source": [
        "print(f\"El diccionario de jugadores es \\n{dic_jugadores}\")"
      ],
      "metadata": {
        "colab": {
          "base_uri": "https://localhost:8080/"
        },
        "id": "pIbBp48Avhtk",
        "outputId": "2113a639-1031-4494-cb77-27f2c0aceeb4"
      },
      "execution_count": null,
      "outputs": [
        {
          "output_type": "stream",
          "name": "stdout",
          "text": [
            "El diccionario de jugadores es \n",
            "{'Messi': 10, 'Iniesta': 8, 'Xavi': 6, 'Villa': 7, 'Neymar': 11, 'Pele': 10, 'cueva': 100, 'Maradona': None}\n"
          ]
        }
      ]
    },
    {
      "cell_type": "code",
      "source": [
        "par_2 = dic_jugadores.popitem()\n",
        "print(f\"El diccionario de jugadores es \\n{dic_jugadores}\")\n",
        "print(f\"El par clave:valor eliminado es {par_2}\")"
      ],
      "metadata": {
        "colab": {
          "base_uri": "https://localhost:8080/"
        },
        "id": "EqdEQIcSvsH_",
        "outputId": "4a693e27-7813-4113-d7b5-68487dc77109"
      },
      "execution_count": null,
      "outputs": [
        {
          "output_type": "stream",
          "name": "stdout",
          "text": [
            "El diccionario de jugadores es \n",
            "{'Messi': 10, 'Iniesta': 8, 'Xavi': 6, 'Villa': 7, 'Neymar': 11, 'Pele': 10, 'cueva': 100}\n",
            "El par clave:valor eliminado es ('Maradona', None)\n"
          ]
        }
      ]
    },
    {
      "cell_type": "code",
      "source": [
        "dic_jugadores.setdefault(\"Maradona\",111) # Buscar la clave \"Maradona\" en el diccionario dic_jugadores"
      ],
      "metadata": {
        "colab": {
          "base_uri": "https://localhost:8080/"
        },
        "id": "K3_cXEoFwKfD",
        "outputId": "3e85cbe9-f22b-40d6-9ccf-e0fae827646d"
      },
      "execution_count": null,
      "outputs": [
        {
          "output_type": "execute_result",
          "data": {
            "text/plain": [
              "111"
            ]
          },
          "metadata": {},
          "execution_count": 118
        }
      ]
    },
    {
      "cell_type": "code",
      "source": [
        "print(f\"El diccionario de jugadores es \\n{dic_jugadores}\")"
      ],
      "metadata": {
        "colab": {
          "base_uri": "https://localhost:8080/"
        },
        "id": "uh3LS5G7wdjy",
        "outputId": "b764ec82-6ab0-4c1e-d968-d51685cf97b3"
      },
      "execution_count": null,
      "outputs": [
        {
          "output_type": "stream",
          "name": "stdout",
          "text": [
            "El diccionario de jugadores es \n",
            "{'Messi': 10, 'Iniesta': 8, 'Xavi': 6, 'Villa': 7, 'Neymar': 11, 'Pele': 10, 'cueva': 100, 'Maradona': 111}\n"
          ]
        }
      ]
    },
    {
      "cell_type": "code",
      "source": [
        "dic_jugadores.setdefault(\"Maradona\",999)"
      ],
      "metadata": {
        "colab": {
          "base_uri": "https://localhost:8080/"
        },
        "id": "eXfi-cpHxCf2",
        "outputId": "c0dedd54-96f8-41a3-cad1-e75793d0d6fe"
      },
      "execution_count": null,
      "outputs": [
        {
          "output_type": "execute_result",
          "data": {
            "text/plain": [
              "111"
            ]
          },
          "metadata": {},
          "execution_count": 120
        }
      ]
    },
    {
      "cell_type": "code",
      "source": [
        "print(f\"El diccionario de jugadores es \\n{dic_jugadores}\")"
      ],
      "metadata": {
        "colab": {
          "base_uri": "https://localhost:8080/"
        },
        "id": "hFv09IOYxLST",
        "outputId": "f3249e78-45b7-4f4a-a711-a5e69ce42bfc"
      },
      "execution_count": null,
      "outputs": [
        {
          "output_type": "stream",
          "name": "stdout",
          "text": [
            "El diccionario de jugadores es \n",
            "{'Messi': 10, 'Iniesta': 8, 'Xavi': 6, 'Villa': 7, 'Neymar': 11, 'Pele': 10, 'cueva': 100, 'Maradona': 111}\n"
          ]
        }
      ]
    },
    {
      "cell_type": "code",
      "source": [
        "# Crear un diccionario\n",
        "\n",
        "mi_diccionario = {} # Diccinario vacío\n",
        "\n",
        "mi_diccionario.setdefault(\"frutas\",[]).append(\"manzana\")\n",
        "\n",
        "print(f\"El diccionario actualizado es {mi_diccionario}\")"
      ],
      "metadata": {
        "colab": {
          "base_uri": "https://localhost:8080/"
        },
        "id": "vn-sKgHiwgk4",
        "outputId": "c94a102b-c857-437f-9d38-222176932313"
      },
      "execution_count": null,
      "outputs": [
        {
          "output_type": "stream",
          "name": "stdout",
          "text": [
            "El diccionario actualizado es {'frutas': ['manzana']}\n"
          ]
        }
      ]
    },
    {
      "cell_type": "code",
      "source": [
        "mi_diccionario.setdefault(\"frutas\",[]).append(\"pera\")\n",
        "\n",
        "print(f\"El diccionario actualizado es {mi_diccionario}\")"
      ],
      "metadata": {
        "colab": {
          "base_uri": "https://localhost:8080/"
        },
        "id": "9fSqogfAyhSc",
        "outputId": "204ab9ce-7c2d-4462-d821-6f4b82ada7fc"
      },
      "execution_count": null,
      "outputs": [
        {
          "output_type": "stream",
          "name": "stdout",
          "text": [
            "El diccionario actualizado es {'frutas': ['manzana', 'pera']}\n"
          ]
        }
      ]
    },
    {
      "cell_type": "code",
      "source": [],
      "metadata": {
        "id": "lVOsa9o-zZ_s"
      },
      "execution_count": null,
      "outputs": []
    }
  ]
}