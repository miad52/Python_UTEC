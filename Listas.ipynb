{
  "nbformat": 4,
  "nbformat_minor": 0,
  "metadata": {
    "colab": {
      "provenance": [],
      "authorship_tag": "ABX9TyMHCaQRMk3kSmk+MKRdxybM",
      "include_colab_link": true
    },
    "kernelspec": {
      "name": "python3",
      "display_name": "Python 3"
    },
    "language_info": {
      "name": "python"
    }
  },
  "cells": [
    {
      "cell_type": "markdown",
      "metadata": {
        "id": "view-in-github",
        "colab_type": "text"
      },
      "source": [
        "<a href=\"https://colab.research.google.com/github/miad52/Python_UTEC/blob/main/Listas.ipynb\" target=\"_parent\"><img src=\"https://colab.research.google.com/assets/colab-badge.svg\" alt=\"Open In Colab\"/></a>"
      ]
    },
    {
      "cell_type": "code",
      "execution_count": null,
      "metadata": {
        "id": "2h5FJQRHO1dQ"
      },
      "outputs": [],
      "source": [
        "# Listas homogéneas\n",
        "numeros = [1,2,3,4]"
      ]
    },
    {
      "cell_type": "code",
      "source": [
        "letras = [\"a\",\"b\",\"c\",\"d\",\"e\",\"f\"]"
      ],
      "metadata": {
        "id": "jNH_97xWPRc_"
      },
      "execution_count": null,
      "outputs": []
    },
    {
      "cell_type": "code",
      "source": [
        "print(f\"El objeto {numeros} es del tipo {type(numeros)}\")"
      ],
      "metadata": {
        "colab": {
          "base_uri": "https://localhost:8080/"
        },
        "id": "azl5nOn_PWO6",
        "outputId": "4975ba54-f9e2-465d-d5ec-641da2479e8c"
      },
      "execution_count": null,
      "outputs": [
        {
          "output_type": "stream",
          "name": "stdout",
          "text": [
            "El objeto [1, 2, 3, 4] es del tipo <class 'list'>\n"
          ]
        }
      ]
    },
    {
      "cell_type": "code",
      "source": [
        "# Listas heterogéneas\n",
        "datos = [4,\"Jorge\",-15.5,\"UTEC\",True]"
      ],
      "metadata": {
        "id": "Z-Ea2bDLPaTl"
      },
      "execution_count": null,
      "outputs": []
    },
    {
      "cell_type": "code",
      "source": [
        "%whos"
      ],
      "metadata": {
        "colab": {
          "base_uri": "https://localhost:8080/"
        },
        "id": "Oc0a99VVPsII",
        "outputId": "089289b5-59e0-4f5b-df3a-a872ac0e6afb"
      },
      "execution_count": null,
      "outputs": [
        {
          "output_type": "stream",
          "name": "stdout",
          "text": [
            "Variable   Type    Data/Info\n",
            "----------------------------\n",
            "datos      list    n=5\n",
            "letras     list    n=6\n",
            "numeros    list    n=4\n"
          ]
        }
      ]
    },
    {
      "cell_type": "code",
      "source": [
        "print(f\"El elemento ubicado en el índice 3 de la lista es {datos[3]}\")"
      ],
      "metadata": {
        "colab": {
          "base_uri": "https://localhost:8080/"
        },
        "id": "2fPXg7skPs_6",
        "outputId": "484f17f4-20d2-4393-b6e2-ba305bf132d9"
      },
      "execution_count": null,
      "outputs": [
        {
          "output_type": "stream",
          "name": "stdout",
          "text": [
            "El elemento ubicado en el índice 3 de la lista es UTEC\n"
          ]
        }
      ]
    },
    {
      "cell_type": "code",
      "source": [
        "print(f\"Los primeros elementos de la lista son {datos[0:3]}\")"
      ],
      "metadata": {
        "colab": {
          "base_uri": "https://localhost:8080/"
        },
        "id": "n2ejEKMvSxyQ",
        "outputId": "c23679c9-cc39-4dd5-d87c-8ba774c0d5b5"
      },
      "execution_count": null,
      "outputs": [
        {
          "output_type": "stream",
          "name": "stdout",
          "text": [
            "Los primeros elementos de la lista son [4, 'Jorge', -15.5]\n"
          ]
        }
      ]
    },
    {
      "cell_type": "code",
      "source": [
        "print(f\"Los primeros elementos de la lista son {datos[:3]}\")"
      ],
      "metadata": {
        "colab": {
          "base_uri": "https://localhost:8080/"
        },
        "id": "8z-uYrMkS0Bq",
        "outputId": "1bffaf90-3744-494d-d494-3033a9f8467b"
      },
      "execution_count": null,
      "outputs": [
        {
          "output_type": "stream",
          "name": "stdout",
          "text": [
            "Los primeros elementos de la lista son [4, 'Jorge', -15.5]\n"
          ]
        }
      ]
    },
    {
      "cell_type": "code",
      "source": [
        "# Mostrar todos los elementos de la lista letras\n",
        "\n",
        "\n",
        "# Mostrar el cuarto, quinto y sexto elemento de la lista letras"
      ],
      "metadata": {
        "id": "F7pMmjp6S2ad"
      },
      "execution_count": null,
      "outputs": []
    },
    {
      "cell_type": "code",
      "source": [
        "print(f\"Los primeros elementos de la lista son:\\n {letras[:]}\")"
      ],
      "metadata": {
        "colab": {
          "base_uri": "https://localhost:8080/"
        },
        "outputId": "93589b01-43f0-472f-9349-c0be4af83c9d",
        "id": "UQNw_cb7TAeb"
      },
      "execution_count": null,
      "outputs": [
        {
          "output_type": "stream",
          "name": "stdout",
          "text": [
            "Los primeros elementos de la lista son:\n",
            " ['a', 'b', 'c', 'd', 'e', 'f']\n"
          ]
        }
      ]
    },
    {
      "cell_type": "code",
      "source": [
        "print(f\"Los primeros elementos de la lista son {letras[3:6]}\")"
      ],
      "metadata": {
        "colab": {
          "base_uri": "https://localhost:8080/"
        },
        "id": "DplRIvFYTVSL",
        "outputId": "eb59f312-2659-4b79-faa3-9a97fad20421"
      },
      "execution_count": null,
      "outputs": [
        {
          "output_type": "stream",
          "name": "stdout",
          "text": [
            "Los primeros elementos de la lista son ['d', 'e', 'f']\n"
          ]
        }
      ]
    },
    {
      "cell_type": "markdown",
      "source": [
        "# Insertar Elementos en una lista"
      ],
      "metadata": {
        "id": "4XFN_b_lW5SO"
      }
    },
    {
      "cell_type": "code",
      "source": [
        "pares = [0, 2, 4, 6, 8, 10]"
      ],
      "metadata": {
        "id": "23Owg2kxXCzj"
      },
      "execution_count": null,
      "outputs": []
    },
    {
      "cell_type": "code",
      "source": [
        "type(pares)"
      ],
      "metadata": {
        "colab": {
          "base_uri": "https://localhost:8080/"
        },
        "id": "uUNWS1oHYBOU",
        "outputId": "c5e4f1af-0463-4846-d522-2483cb569aae"
      },
      "execution_count": null,
      "outputs": [
        {
          "output_type": "execute_result",
          "data": {
            "text/plain": [
              "list"
            ]
          },
          "metadata": {},
          "execution_count": 16
        }
      ]
    },
    {
      "cell_type": "code",
      "source": [
        "# Insertar un elemento al final de la lista\n",
        "pares.append(12)"
      ],
      "metadata": {
        "id": "gXPtK7zKYK3T"
      },
      "execution_count": null,
      "outputs": []
    },
    {
      "cell_type": "code",
      "source": [
        "print(f'La lista pares ahora es {pares}')"
      ],
      "metadata": {
        "colab": {
          "base_uri": "https://localhost:8080/"
        },
        "id": "BYRzRhssYRbK",
        "outputId": "b90e73b3-bad2-4e2d-eab3-4ea96e833f7e"
      },
      "execution_count": null,
      "outputs": [
        {
          "output_type": "stream",
          "name": "stdout",
          "text": [
            "La lista pares ahora es [0, 2, 4, 6, 8, 10, 12]\n"
          ]
        }
      ]
    },
    {
      "cell_type": "code",
      "source": [
        "pares.insert(1, 100)"
      ],
      "metadata": {
        "id": "R719VKhfZQO_"
      },
      "execution_count": null,
      "outputs": []
    },
    {
      "cell_type": "markdown",
      "source": [
        "LAS LISTAS SON MUTABLES"
      ],
      "metadata": {
        "id": "iRXO7yiafjAj"
      }
    },
    {
      "cell_type": "code",
      "source": [
        "print(f\"Los elementos de la lista letras son \\n{letras[:]}\")"
      ],
      "metadata": {
        "colab": {
          "base_uri": "https://localhost:8080/"
        },
        "id": "n1KYm_bcfiqu",
        "outputId": "e664fbc7-412b-44c6-a1cd-1838341fd3a8"
      },
      "execution_count": null,
      "outputs": [
        {
          "output_type": "stream",
          "name": "stdout",
          "text": [
            "Los elementos de la lista letras son \n",
            "['a', 'b', 'c', 'd', 'e', 'f']\n"
          ]
        }
      ]
    },
    {
      "cell_type": "code",
      "source": [
        "lista_0 = [10, 100, 1, 50, 23, 120, 1000, 3, 25]\n",
        "print(f\"La lista tiene los elementos \\n{lista_0}\")\n",
        "lista_0.sort(reverse=True)\n",
        "print(f\"\\nLa lista ordenada (descendente) tiene los elementos \\n{lista_0}\")"
      ],
      "metadata": {
        "colab": {
          "base_uri": "https://localhost:8080/"
        },
        "id": "U3KxXfsCg5Mr",
        "outputId": "59d676b6-2b38-4a0b-ffc4-528c816812dd"
      },
      "execution_count": null,
      "outputs": [
        {
          "output_type": "stream",
          "name": "stdout",
          "text": [
            "La lista tiene los elementos \n",
            "[10, 100, 1, 50, 23, 120, 1000, 3, 25]\n",
            "\n",
            "La lista ordenada (descendente) tiene los elementos \n",
            "[1000, 120, 100, 50, 25, 23, 10, 3, 1]\n"
          ]
        }
      ]
    },
    {
      "cell_type": "code",
      "source": [
        "# Apartado 3.1\n",
        "lista_x = [\"A\", \"B\", \"b\", \"c\", \"E\", \"E\", \"f\"]\n",
        "print(\"Lista inicial:\", lista_x)\n",
        "# Apartado 3.2\n",
        "elemento_eliminar = input(\"Ingrese el elemento que desea eliminar: \")\n",
        "# Apartado 3.3\n",
        "if elemento_eliminar in lista_x:\n",
        "    lista_x.remove(elemento_eliminar)\n",
        "    print(f\"Elemento eliminado: {elemento_eliminar}\")\n",
        "else:\n",
        "    print(f\"El elemento '{elemento_eliminar}' no está en la lista.\")\n",
        "print(\"Lista resultante:\", lista_x)"
      ],
      "metadata": {
        "id": "Obwh4MHHOSrT"
      },
      "execution_count": null,
      "outputs": []
    },
    {
      "cell_type": "markdown",
      "source": [
        "# Lista de comprension"
      ],
      "metadata": {
        "id": "X4EQULLOPg-S"
      }
    },
    {
      "cell_type": "code",
      "source": [
        "numeros = [2,4,6,8,10,12,14]"
      ],
      "metadata": {
        "id": "3BWBTHoIPgTj"
      },
      "execution_count": 1,
      "outputs": []
    },
    {
      "cell_type": "code",
      "source": [
        "for elemento in numeros:\n",
        "  print(elemento)"
      ],
      "metadata": {
        "id": "oM-r5rvEP0ln",
        "outputId": "9a014298-878a-4cae-9421-5147f1ff62d2",
        "colab": {
          "base_uri": "https://localhost:8080/"
        }
      },
      "execution_count": 2,
      "outputs": [
        {
          "output_type": "stream",
          "name": "stdout",
          "text": [
            "2\n",
            "4\n",
            "6\n",
            "8\n",
            "10\n",
            "12\n",
            "14\n"
          ]
        }
      ]
    },
    {
      "cell_type": "code",
      "source": [
        "numeros_x2 = [i*2 for i in numeros]"
      ],
      "metadata": {
        "id": "Eb9rDGm_Qdha"
      },
      "execution_count": 3,
      "outputs": []
    },
    {
      "cell_type": "code",
      "source": [
        "print(f'La lista inicial es {numeros}')\n",
        "print(f'La lista actualizada es {numeros_x2}')"
      ],
      "metadata": {
        "id": "OJFy-c_cQm8W",
        "outputId": "f2f95b20-36e0-4180-9c2e-d44e12a87d0e",
        "colab": {
          "base_uri": "https://localhost:8080/"
        }
      },
      "execution_count": 4,
      "outputs": [
        {
          "output_type": "stream",
          "name": "stdout",
          "text": [
            "La lista inicial es [2, 4, 6, 8, 10, 12, 14]\n",
            "La lista actualizada es [4, 8, 12, 16, 20, 24, 28]\n"
          ]
        }
      ]
    },
    {
      "cell_type": "code",
      "source": [
        "elemento_filtrado = [i for i in numeros if i>5]"
      ],
      "metadata": {
        "id": "JvCSSKmBRZam"
      },
      "execution_count": 5,
      "outputs": []
    },
    {
      "cell_type": "code",
      "source": [
        "print(f'La lista inicial es {numeros}')\n",
        "print(f'La lista actualizada es {elemento_filtrado}')"
      ],
      "metadata": {
        "id": "ubQ_VlywSH_a",
        "outputId": "29c025d8-1c51-4f30-f2e9-99d2bc562a7e",
        "colab": {
          "base_uri": "https://localhost:8080/"
        }
      },
      "execution_count": 6,
      "outputs": [
        {
          "output_type": "stream",
          "name": "stdout",
          "text": [
            "La lista inicial es [2, 4, 6, 8, 10, 12, 14]\n",
            "La lista actualizada es [6, 8, 10, 12, 14]\n"
          ]
        }
      ]
    },
    {
      "cell_type": "code",
      "source": [
        "x = 'DAVID'\n",
        "print(f'Mi nombre es {x}')\n",
        "print(f'Mi nombre en minusculas es {x.lower()}')\n"
      ],
      "metadata": {
        "id": "-I0WeDuzTee7",
        "outputId": "a9e96d85-6a55-408e-db2c-ed7046af7c5e",
        "colab": {
          "base_uri": "https://localhost:8080/"
        }
      },
      "execution_count": 7,
      "outputs": [
        {
          "output_type": "stream",
          "name": "stdout",
          "text": [
            "Mi nombre es DAVID\n",
            "Mi nombre en minusculas es david\n"
          ]
        }
      ]
    },
    {
      "cell_type": "code",
      "source": [
        "lista_x = [\"A\", \"B\", \"b\", \"c\", \"E\", \"E\", \"f\"]\n",
        "print(\"Lista inicial:\", lista_x)\n",
        "\n",
        "elemento = input(\"Ingrese el elemento que desea eliminar: \")\n",
        "\n",
        "lista_x_n = [i for i in lista_x if i.lower() != elemento.lower()]\n",
        "\n",
        "print(f\"Elemento eliminado: {elemento}\")\n",
        "print(\"Lista resultante:\", lista_x_n)\n"
      ],
      "metadata": {
        "id": "U8n77e1hUCQN",
        "outputId": "73125b9d-952f-4c7f-a755-a19dd85d6057",
        "colab": {
          "base_uri": "https://localhost:8080/"
        }
      },
      "execution_count": 9,
      "outputs": [
        {
          "output_type": "stream",
          "name": "stdout",
          "text": [
            "Lista inicial: ['A', 'B', 'b', 'c', 'E', 'E', 'f']\n",
            "Ingrese el elemento que desea eliminar: C\n",
            "Elemento eliminado: C\n",
            "Lista resultante: ['A', 'B', 'b', 'E', 'E', 'f']\n"
          ]
        }
      ]
    },
    {
      "cell_type": "markdown",
      "source": [
        "# **Tuplas**"
      ],
      "metadata": {
        "id": "rE72NEgPc2-z"
      }
    },
    {
      "cell_type": "code",
      "source": [
        "tupla_0 = ()"
      ],
      "metadata": {
        "id": "am8u63S5c8KW"
      },
      "execution_count": 10,
      "outputs": []
    },
    {
      "cell_type": "code",
      "source": [
        "type(tupla_0)"
      ],
      "metadata": {
        "id": "5BaWPCP9dABB",
        "outputId": "1f2ef10c-826d-4c9f-9138-26a850b3106d",
        "colab": {
          "base_uri": "https://localhost:8080/"
        }
      },
      "execution_count": 11,
      "outputs": [
        {
          "output_type": "execute_result",
          "data": {
            "text/plain": [
              "tuple"
            ]
          },
          "metadata": {},
          "execution_count": 11
        }
      ]
    },
    {
      "cell_type": "code",
      "source": [
        "tupla_1 = (5)\n",
        "type(tupla_1)"
      ],
      "metadata": {
        "id": "FUPs_h-8dEMN",
        "outputId": "13e1c683-83c2-4452-846c-46dc7cce2a30",
        "colab": {
          "base_uri": "https://localhost:8080/"
        }
      },
      "execution_count": 13,
      "outputs": [
        {
          "output_type": "execute_result",
          "data": {
            "text/plain": [
              "int"
            ]
          },
          "metadata": {},
          "execution_count": 13
        }
      ]
    },
    {
      "cell_type": "code",
      "source": [
        "# Tupla homogénea\n",
        "tupla_2 = (2.0, 2.5, 3.2, 4.3, 4.5, 6.5, 7.0)\n",
        "print(f\"La tupla es \\n{tupla_2}\")\n",
        "print(f\"El objeto tupla_2 es del tipo {type(tupla_2)}\")"
      ],
      "metadata": {
        "id": "UjwNEhLtdMUu",
        "outputId": "9192aafd-f08e-4d29-c37f-69891f6874ba",
        "colab": {
          "base_uri": "https://localhost:8080/"
        }
      },
      "execution_count": 14,
      "outputs": [
        {
          "output_type": "stream",
          "name": "stdout",
          "text": [
            "La tupla es \n",
            "(2.0, 2.5, 3.2, 4.3, 4.5, 6.5, 7.0)\n",
            "El objeto tupla_2 es del tipo <class 'tuple'>\n"
          ]
        }
      ]
    },
    {
      "cell_type": "code",
      "source": [
        "# Tupla heterogénea => elementos son de distinto tipo\n",
        "tupla_3 = (2, 5.5, \"UTEC\", True)\n",
        "print(f\"La tupla es \\n{tupla_3}\")\n",
        "print(f\"El objeto tupla_3 es del tipo {type(tupla_3)}\")\n"
      ],
      "metadata": {
        "id": "FqtHTbk5kdJx",
        "outputId": "94f6cacc-3661-434d-a861-f5deaa4ca07e",
        "colab": {
          "base_uri": "https://localhost:8080/"
        }
      },
      "execution_count": 15,
      "outputs": [
        {
          "output_type": "stream",
          "name": "stdout",
          "text": [
            "La tupla es \n",
            "(2, 5.5, 'UTEC', True)\n",
            "El objeto tupla_3 es del tipo <class 'tuple'>\n"
          ]
        }
      ]
    },
    {
      "cell_type": "code",
      "source": [
        "print(f\"La tupla es {tupla_3}\")\n",
        "print(f\"El elemento de índice 1 de la tupla es {tupla_3[1]}\")\n"
      ],
      "metadata": {
        "id": "ZdLH5fEoki8q",
        "outputId": "accabb27-31ca-4365-dc81-e32a8b9d3609",
        "colab": {
          "base_uri": "https://localhost:8080/"
        }
      },
      "execution_count": 16,
      "outputs": [
        {
          "output_type": "stream",
          "name": "stdout",
          "text": [
            "La tupla es (2, 5.5, 'UTEC', True)\n",
            "El elemento de índice 1 de la tupla es 5.5\n"
          ]
        }
      ]
    },
    {
      "cell_type": "code",
      "source": [
        "t_prod = ((\"A\", \"manzana\", \"3.0\"),(\"B\",\"pera\",\"2.5\"))"
      ],
      "metadata": {
        "id": "l-QpFQ6qknE-"
      },
      "execution_count": null,
      "outputs": []
    }
  ]
}